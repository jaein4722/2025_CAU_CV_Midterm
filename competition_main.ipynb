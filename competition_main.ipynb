{
 "cells": [
  {
   "cell_type": "code",
   "execution_count": 1,
   "id": "b9a22a04-1665-4ea8-b1a4-e0172ce1a30a",
   "metadata": {
    "scrolled": true
   },
   "outputs": [
    {
     "name": "stderr",
     "output_type": "stream",
     "text": [
      "/home/gamejoongsa/anaconda3/envs/CV/lib/python3.10/site-packages/torch/functional.py:554: UserWarning: torch.meshgrid: in an upcoming release, it will be required to pass the indexing argument. (Triggered internally at /pytorch/aten/src/ATen/native/TensorShape.cpp:4314.)\n",
      "  return _VF.meshgrid(tensors, **kwargs)  # type: ignore[attr-defined]\n"
     ]
    },
    {
     "name": "stdout",
     "output_type": "stream",
     "text": [
      "\u001b[34m\u001b[1mtrain: \u001b[0mweights=, cfg=models/YOGAn/pkgs/yoga_models/YOGA-n.yaml, data=Datasets/airplane/data_iter_01.yaml, hyp=output/250420_011426/hyp_yogan.yaml, epochs=20, batch_size=16, imgsz=640, rect=False, resume=False, nosave=False, noval=False, noautoanchor=False, evolve=None, bucket=, cache=None, image_weights=False, device=cuda:0, multi_scale=False, single_cls=True, adam=False, sync_bn=False, workers=8, project=output/250420_011426/train, name=250420_011427_yogan_airplane_Iter_1, exist_ok=False, quad=False, linear_lr=False, label_smoothing=0.0, patience=100, freeze=0, save_period=-1, local_rank=-1, entity=None, upload_dataset=False, bbox_interval=-1, artifact_alias=latest\n",
      "\u001b[34m\u001b[1mgithub: \u001b[0mskipping check (offline), for updates see https://github.com/ultralytics/yolov5\n"
     ]
    },
    {
     "name": "stderr",
     "output_type": "stream",
     "text": [
      "YOLOv5 🚀 6e61f54 torch 2.8.0.dev20250417+cu128 CUDA:0 (NVIDIA GeForce RTX 5070 Ti, 16302.5625MB)\n",
      "\n",
      "\u001b[34m\u001b[1mhyperparameters: \u001b[0mlr0=0.01, lrf=0.01, momentum=0.9, weight_decay=0.0001, warmup_epochs=2.0, warmup_momentum=0.85, warmup_bias_lr=0.1, box=5.0, cls=0.3, cls_pw=1.0, obj=1.0, obj_pw=1.0, iou_t=0.2, anchor_t=4.0, fl_gamma=0.0, hsv_h=0.015, hsv_s=0.7, hsv_v=0.4, degrees=10.0, translate=0.1, scale=0.5, shear=0.0, perspective=0.0, flipud=0.0, fliplr=0.5, mosaic=1.0, mixup=0.0, copy_paste=0.0\n",
      "\u001b[34m\u001b[1mTensorBoard: \u001b[0mStart with 'tensorboard --logdir output/250420_011426/train', view at http://localhost:6006/\n",
      "Overriding model.yaml nc=80 with nc=1\n",
      "\n",
      "                 from  n    params  module                                  arguments                     \n",
      "  0                -1  1      2640  yoga_models.common.Conv                 [3, 24, 6, 2, 2]              \n",
      "  1                -1  1      5880  yoga_models.common.GhostConv            [24, 48, 3, 2]                \n",
      "  2                -1  2      6420  yoga_models.common.C3Ghost              [48, 48, 2]                   \n",
      "  3                -1  1     20284  yoga_models.common.GhostConv            [48, 88, 3, 2]                \n",
      "  4                -1  3     21615  yoga_models.common.C3Ghost              [88, 88, 3]                   \n",
      "  5                -1  1     72248  yoga_models.common.GhostConv            [88, 176, 3, 2]               \n",
      "  6                -1  4     85800  yoga_models.common.C3Ghost              [176, 176, 4]                 \n",
      "  7                -1  1    277436  yoga_models.common.GhostConv            [176, 344, 3, 2]              \n",
      "  8                -1  2    275114  yoga_models.common.C3Ghost              [344, 344, 2]                 \n",
      "  9                -1  1    296872  yoga_models.common.SPPF                 [344, 344, 5]                 \n",
      " 10                -1  1     32824  yoga_models.common.GhostConv            [344, 176, 1, 1]              \n",
      " 11                -1  1         0  torch.nn.modules.upsampling.Upsample    [None, 2, 'nearest']          \n",
      " 12           [-1, 6]  1     64592  yoga_models.new_models.iAFF             [176]                         \n",
      " 13                -1  2     74228  yoga_models.common.C3Ghost              [176, 176, 2, False]          \n",
      " 14                -1  1      9020  yoga_models.common.GhostConv            [176, 88, 1, 1]               \n",
      " 15                -1  1         0  torch.nn.modules.upsampling.Upsample    [None, 2, 'nearest']          \n",
      " 16           [-1, 4]  1     16808  yoga_models.new_models.iAFF             [88]                          \n",
      " 17                -1  2     19690  yoga_models.common.C3Ghost              [88, 88, 2, False]            \n",
      " 18                -1  1     36124  yoga_models.common.GhostConv            [88, 88, 3, 2]                \n",
      " 19          [-1, 14]  1     16808  yoga_models.new_models.iAFF             [88]                          \n",
      " 20                -1  2     58740  yoga_models.common.C3Ghost              [88, 176, 2, False]           \n",
      " 21                -1  1    141944  yoga_models.common.GhostConv            [176, 176, 3, 2]              \n",
      " 22          [-1, 10]  1     64592  yoga_models.new_models.iAFF             [176]                         \n",
      " 23                -1  2    217322  yoga_models.common.C3Ghost              [176, 344, 2, False]          \n",
      " 24      [17, 20, 23]  1     10998  yoga_models.yolo.Detect                 [1, [[10, 13, 16, 30, 33, 23], [30, 61, 62, 45, 59, 119], [116, 90, 156, 198, 373, 326]], [88, 176, 344]]\n",
      "Model Summary: 737 layers, 1827999 parameters, 1827999 gradients, 4.5 GFLOPs\n",
      "\n",
      "Scaled weight_decay = 0.0001\n",
      "\u001b[34m\u001b[1moptimizer:\u001b[0m SGD with parameter groups 151 weight, 154 weight (no decay), 186 bias\n",
      "\u001b[34m\u001b[1mtrain: \u001b[0mScanning 'Datasets/airplane/train_iter_01.cache' images and labels... 1051 found, 0 missing, 0 empty, 0 corrupted: 100%|██████████| 1051/1051 [00:00<?, ?it/s]\n",
      "\u001b[34m\u001b[1mval: \u001b[0mScanning 'Datasets/airplane/val_iter_01.cache' images and labels... 351 found, 0 missing, 0 empty, 0 corrupted: 100%|██████████| 351/351 [00:00<?, ?it/s]\n"
     ]
    },
    {
     "name": "stdout",
     "output_type": "stream",
     "text": [
      "Plotting labels... \n"
     ]
    },
    {
     "name": "stderr",
     "output_type": "stream",
     "text": [
      "Image sizes 640 train, 640 val\n",
      "Using 8 dataloader workers\n",
      "Logging results to \u001b[1moutput/250420_011426/train/250420_011427_yogan_airplane_Iter_1\u001b[0m\n",
      "Starting training for 20 epochs...\n",
      "\n",
      "     Epoch   gpu_mem       box       obj       cls    labels  img_size\n"
     ]
    },
    {
     "name": "stdout",
     "output_type": "stream",
     "text": [
      "\n",
      "\u001b[34m\u001b[1mautoanchor: \u001b[0mAnalyzing anchors... anchors/target = 3.31, Best Possible Recall (BPR) = 0.9991\n"
     ]
    },
    {
     "name": "stderr",
     "output_type": "stream",
     "text": [
      "      0/19     4.69G     10.24   0.02542         0        22       640: 100%|██████████| 66/66 [00:12<00:00,  5.14it/s]\n",
      "               Class     Images     Labels          P          R     mAP@.5 mAP@.5:.95: 100%|██████████| 11/11 [00:02<00:00,  5.36it/s]\n"
     ]
    },
    {
     "name": "stdout",
     "output_type": "stream",
     "text": [
      "                 all        351        379    0.00133      0.145   0.000592   0.000114\n"
     ]
    },
    {
     "name": "stderr",
     "output_type": "stream",
     "text": [
      "\n",
      "     Epoch   gpu_mem       box       obj       cls    labels  img_size\n",
      "      1/19     5.09G     10.53   0.01823         0        21       640: 100%|██████████| 66/66 [00:09<00:00,  7.12it/s]\n",
      "               Class     Images     Labels          P          R     mAP@.5 mAP@.5:.95: 100%|██████████| 11/11 [00:01<00:00,  6.23it/s]\n"
     ]
    },
    {
     "name": "stdout",
     "output_type": "stream",
     "text": [
      "                 all        351        379    0.00429      0.369    0.00257   0.000447\n"
     ]
    },
    {
     "name": "stderr",
     "output_type": "stream",
     "text": [
      "\n",
      "     Epoch   gpu_mem       box       obj       cls    labels  img_size\n",
      "      2/19      5.1G     10.74   0.01748         0        24       640: 100%|██████████| 66/66 [00:09<00:00,  7.11it/s]\n",
      "               Class     Images     Labels          P          R     mAP@.5 mAP@.5:.95: 100%|██████████| 11/11 [00:02<00:00,  5.21it/s]\n"
     ]
    },
    {
     "name": "stdout",
     "output_type": "stream",
     "text": [
      "                 all        351        379     0.0188     0.0211    0.00906     0.0013\n"
     ]
    },
    {
     "name": "stderr",
     "output_type": "stream",
     "text": [
      "\n",
      "     Epoch   gpu_mem       box       obj       cls    labels  img_size\n",
      "      3/19      5.1G     10.83   0.01547         0        27       640: 100%|██████████| 66/66 [00:08<00:00,  7.95it/s]\n",
      "               Class     Images     Labels          P          R     mAP@.5 mAP@.5:.95: 100%|██████████| 11/11 [00:01<00:00,  5.51it/s]\n"
     ]
    },
    {
     "name": "stdout",
     "output_type": "stream",
     "text": [
      "                 all        351        379      0.102      0.145      0.038    0.00588\n"
     ]
    },
    {
     "name": "stderr",
     "output_type": "stream",
     "text": [
      "\n",
      "     Epoch   gpu_mem       box       obj       cls    labels  img_size\n",
      "      4/19      5.1G     10.73   0.01553         0        21       640: 100%|██████████| 66/66 [00:07<00:00,  8.32it/s]\n",
      "               Class     Images     Labels          P          R     mAP@.5 mAP@.5:.95: 100%|██████████| 11/11 [00:01<00:00,  6.87it/s]\n"
     ]
    },
    {
     "name": "stdout",
     "output_type": "stream",
     "text": [
      "                 all        351        379    0.00502      0.364    0.00317   0.000602\n"
     ]
    },
    {
     "name": "stderr",
     "output_type": "stream",
     "text": [
      "\n",
      "     Epoch   gpu_mem       box       obj       cls    labels  img_size\n",
      "      5/19     5.11G     10.39   0.01731         0        23       640: 100%|██████████| 66/66 [00:08<00:00,  7.65it/s]\n",
      "               Class     Images     Labels          P          R     mAP@.5 mAP@.5:.95: 100%|██████████| 11/11 [00:01<00:00,  6.35it/s]\n"
     ]
    },
    {
     "name": "stdout",
     "output_type": "stream",
     "text": [
      "                 all        351        379   0.000929      0.256   0.000584   0.000161\n"
     ]
    },
    {
     "name": "stderr",
     "output_type": "stream",
     "text": [
      "\n",
      "     Epoch   gpu_mem       box       obj       cls    labels  img_size\n",
      "      6/19     5.11G     9.985   0.01782         0        24       640: 100%|██████████| 66/66 [00:08<00:00,  7.91it/s]\n",
      "               Class     Images     Labels          P          R     mAP@.5 mAP@.5:.95: 100%|██████████| 11/11 [00:01<00:00,  5.51it/s]\n"
     ]
    },
    {
     "name": "stdout",
     "output_type": "stream",
     "text": [
      "                 all        351        379     0.0149      0.066    0.00509    0.00092\n"
     ]
    },
    {
     "name": "stderr",
     "output_type": "stream",
     "text": [
      "\n",
      "     Epoch   gpu_mem       box       obj       cls    labels  img_size\n",
      "      7/19     5.11G     10.09   0.01703         0        26       640: 100%|██████████| 66/66 [00:08<00:00,  7.35it/s]\n",
      "               Class     Images     Labels          P          R     mAP@.5 mAP@.5:.95: 100%|██████████| 11/11 [00:01<00:00,  6.60it/s]\n"
     ]
    },
    {
     "name": "stdout",
     "output_type": "stream",
     "text": [
      "                 all        351        379    0.00729     0.0185    0.00655    0.00108\n"
     ]
    },
    {
     "name": "stderr",
     "output_type": "stream",
     "text": [
      "\n",
      "     Epoch   gpu_mem       box       obj       cls    labels  img_size\n",
      "      8/19     5.11G      10.7   0.01557         0        25       640: 100%|██████████| 66/66 [00:08<00:00,  8.17it/s]\n",
      "               Class     Images     Labels          P          R     mAP@.5 mAP@.5:.95: 100%|██████████| 11/11 [00:01<00:00,  6.50it/s]\n"
     ]
    },
    {
     "name": "stdout",
     "output_type": "stream",
     "text": [
      "                 all        351        379     0.0105     0.0211    0.00548   0.000932\n"
     ]
    },
    {
     "name": "stderr",
     "output_type": "stream",
     "text": [
      "\n",
      "     Epoch   gpu_mem       box       obj       cls    labels  img_size\n",
      "      9/19     5.11G     10.61   0.01627         0        23       640: 100%|██████████| 66/66 [00:08<00:00,  7.93it/s]\n",
      "               Class     Images     Labels          P          R     mAP@.5 mAP@.5:.95: 100%|██████████| 11/11 [00:01<00:00,  6.33it/s]\n"
     ]
    },
    {
     "name": "stdout",
     "output_type": "stream",
     "text": [
      "                 all        351        379    0.00457      0.588    0.00421   0.000678\n"
     ]
    },
    {
     "name": "stderr",
     "output_type": "stream",
     "text": [
      "\n",
      "     Epoch   gpu_mem       box       obj       cls    labels  img_size\n",
      "     10/19     5.12G     10.29   0.01638         0        28       640: 100%|██████████| 66/66 [00:08<00:00,  7.75it/s]\n",
      "               Class     Images     Labels          P          R     mAP@.5 mAP@.5:.95: 100%|██████████| 11/11 [00:01<00:00,  6.12it/s]\n"
     ]
    },
    {
     "name": "stdout",
     "output_type": "stream",
     "text": [
      "                 all        351        379    0.00587      0.108    0.00499   0.000731\n"
     ]
    },
    {
     "name": "stderr",
     "output_type": "stream",
     "text": [
      "\n",
      "     Epoch   gpu_mem       box       obj       cls    labels  img_size\n",
      "     11/19     5.12G     10.02   0.01696         0        33       640: 100%|██████████| 66/66 [00:07<00:00,  8.38it/s]\n",
      "               Class     Images     Labels          P          R     mAP@.5 mAP@.5:.95: 100%|██████████| 11/11 [00:01<00:00,  6.22it/s]\n"
     ]
    },
    {
     "name": "stdout",
     "output_type": "stream",
     "text": [
      "                 all        351        379     0.0673     0.0317     0.0128    0.00241\n"
     ]
    },
    {
     "name": "stderr",
     "output_type": "stream",
     "text": [
      "\n",
      "     Epoch   gpu_mem       box       obj       cls    labels  img_size\n",
      "     12/19     5.12G     9.646   0.01836         0        21       640: 100%|██████████| 66/66 [00:07<00:00,  8.29it/s]\n",
      "               Class     Images     Labels          P          R     mAP@.5 mAP@.5:.95: 100%|██████████| 11/11 [00:01<00:00,  6.52it/s]\n"
     ]
    },
    {
     "name": "stdout",
     "output_type": "stream",
     "text": [
      "                 all        351        379    0.00845      0.153    0.00558      0.001\n"
     ]
    },
    {
     "name": "stderr",
     "output_type": "stream",
     "text": [
      "\n",
      "     Epoch   gpu_mem       box       obj       cls    labels  img_size\n",
      "     13/19     5.12G      9.19   0.01963         0        23       640: 100%|██████████| 66/66 [00:07<00:00,  8.32it/s]\n",
      "               Class     Images     Labels          P          R     mAP@.5 mAP@.5:.95: 100%|██████████| 11/11 [00:01<00:00,  6.29it/s]\n"
     ]
    },
    {
     "name": "stdout",
     "output_type": "stream",
     "text": [
      "                 all        351        379      0.037     0.0343    0.00992    0.00164\n"
     ]
    },
    {
     "name": "stderr",
     "output_type": "stream",
     "text": [
      "\n",
      "     Epoch   gpu_mem       box       obj       cls    labels  img_size\n",
      "     14/19     5.12G     8.956   0.02157         0        23       640: 100%|██████████| 66/66 [00:08<00:00,  8.13it/s]\n",
      "               Class     Images     Labels          P          R     mAP@.5 mAP@.5:.95: 100%|██████████| 11/11 [00:01<00:00,  6.85it/s]\n"
     ]
    },
    {
     "name": "stdout",
     "output_type": "stream",
     "text": [
      "                 all        351        379     0.0264     0.0317     0.0142    0.00208\n"
     ]
    },
    {
     "name": "stderr",
     "output_type": "stream",
     "text": [
      "\n",
      "     Epoch   gpu_mem       box       obj       cls    labels  img_size\n",
      "     15/19     5.12G     8.843   0.02176         0        19       640: 100%|██████████| 66/66 [00:08<00:00,  8.17it/s]\n",
      "               Class     Images     Labels          P          R     mAP@.5 mAP@.5:.95: 100%|██████████| 11/11 [00:01<00:00,  5.93it/s]\n"
     ]
    },
    {
     "name": "stdout",
     "output_type": "stream",
     "text": [
      "                 all        351        379     0.0266     0.0237     0.0151    0.00239\n"
     ]
    },
    {
     "name": "stderr",
     "output_type": "stream",
     "text": [
      "\n",
      "     Epoch   gpu_mem       box       obj       cls    labels  img_size\n",
      "     16/19     5.12G     8.684   0.02174         0        23       640: 100%|██████████| 66/66 [00:08<00:00,  8.12it/s]\n",
      "               Class     Images     Labels          P          R     mAP@.5 mAP@.5:.95: 100%|██████████| 11/11 [00:01<00:00,  6.84it/s]\n"
     ]
    },
    {
     "name": "stdout",
     "output_type": "stream",
     "text": [
      "                 all        351        379     0.0654     0.0712     0.0218    0.00487\n"
     ]
    },
    {
     "name": "stderr",
     "output_type": "stream",
     "text": [
      "\n",
      "     Epoch   gpu_mem       box       obj       cls    labels  img_size\n",
      "     17/19     5.12G     8.408   0.02309         0        24       640: 100%|██████████| 66/66 [00:08<00:00,  8.25it/s]\n",
      "               Class     Images     Labels          P          R     mAP@.5 mAP@.5:.95: 100%|██████████| 11/11 [00:01<00:00,  6.93it/s]\n"
     ]
    },
    {
     "name": "stdout",
     "output_type": "stream",
     "text": [
      "                 all        351        379    0.00622      0.623    0.00598    0.00107\n"
     ]
    },
    {
     "name": "stderr",
     "output_type": "stream",
     "text": [
      "\n",
      "     Epoch   gpu_mem       box       obj       cls    labels  img_size\n",
      "     18/19     5.12G     8.042   0.02529         0        28       640: 100%|██████████| 66/66 [00:08<00:00,  8.00it/s]\n",
      "               Class     Images     Labels          P          R     mAP@.5 mAP@.5:.95: 100%|██████████| 11/11 [00:01<00:00,  6.85it/s]\n"
     ]
    },
    {
     "name": "stdout",
     "output_type": "stream",
     "text": [
      "                 all        351        379     0.0117     0.0712    0.00875    0.00157\n"
     ]
    },
    {
     "name": "stderr",
     "output_type": "stream",
     "text": [
      "\n",
      "     Epoch   gpu_mem       box       obj       cls    labels  img_size\n",
      "     19/19     5.12G     7.817    0.0263         0        17       640: 100%|██████████| 66/66 [00:07<00:00,  8.47it/s]\n",
      "               Class     Images     Labels          P          R     mAP@.5 mAP@.5:.95: 100%|██████████| 11/11 [00:01<00:00,  6.62it/s]\n"
     ]
    },
    {
     "name": "stdout",
     "output_type": "stream",
     "text": [
      "                 all        351        379      0.292     0.0396     0.0346    0.00911\n"
     ]
    },
    {
     "name": "stderr",
     "output_type": "stream",
     "text": [
      "\n",
      "20 epochs completed in 0.061 hours.\n",
      "\n",
      "Validating output/250420_011426/train/250420_011427_yogan_airplane_Iter_1/weights/best.pt...\n"
     ]
    },
    {
     "name": "stdout",
     "output_type": "stream",
     "text": [
      "Optimizer stripped from output/250420_011426/train/250420_011427_yogan_airplane_Iter_1/weights/last.pt, 4.3MB\n",
      "Optimizer stripped from output/250420_011426/train/250420_011427_yogan_airplane_Iter_1/weights/best.pt, 4.3MB\n"
     ]
    },
    {
     "name": "stderr",
     "output_type": "stream",
     "text": [
      "Fusing layers... \n",
      "Model Summary: 618 layers, 1820905 parameters, 0 gradients, 4.3 GFLOPs\n",
      "               Class     Images     Labels          P          R     mAP@.5 mAP@.5:.95: 100%|██████████| 11/11 [00:02<00:00,  4.81it/s]\n"
     ]
    },
    {
     "name": "stdout",
     "output_type": "stream",
     "text": [
      "                 all        351        379      0.273     0.0369     0.0339    0.00831\n"
     ]
    },
    {
     "name": "stderr",
     "output_type": "stream",
     "text": [
      "Results saved to \u001b[1moutput/250420_011426/train/250420_011427_yogan_airplane_Iter_1\u001b[0m\n",
      "YOLOv5 🚀 6e61f54 torch 2.8.0.dev20250417+cu128 CUDA:0 (NVIDIA GeForce RTX 5070 Ti, 16302.5625MB)\n",
      "\n",
      "Fusing layers... \n",
      "Model Summary: 618 layers, 1820905 parameters, 0 gradients, 4.3 GFLOPs\n"
     ]
    },
    {
     "name": "stdout",
     "output_type": "stream",
     "text": [
      "결과가 output/250420_011426/json/250420_011426_submission_YOGAn_Iter_1_detection_results.json에 저장되었습니다.\n"
     ]
    },
    {
     "name": "stderr",
     "output_type": "stream",
     "text": [
      "/tmp/ipykernel_134752/939340058.py:56: FutureWarning: The behavior of DataFrame concatenation with empty or all-NA entries is deprecated. In a future version, this will no longer exclude empty or all-NA columns when determining the result dtypes. To retain the old behavior, exclude the relevant entries before the concat operation.\n",
      "  results_df = pd.concat([results_df, pd.DataFrame([new_row])], ignore_index=True)\n"
     ]
    }
   ],
   "source": [
    "from competition_utils import *\n",
    "from models.base_config import BaseConfig\n",
    "\n",
    "# 제출 함수를 리스트로 정의 (submission_N_학번)\n",
    "# 깃허브에는 최대 3개 업로드 데모시 하이퍼파라미터 튜닝 후 1개만 제출\n",
    "# submission_functions = ['submission_YOLOv8n', 'submission_YOLOv9t', 'submission_YOLOv10n', 'submission_YOLO11n', 'submission_YOLO12n']  \n",
    "submission_functions = ['submission_YOGAn']\n",
    "for submission_function in submission_functions:\n",
    "    exec(f\"from submissions.{submission_function} import {submission_function}\")\n",
    "\n",
    "# 분석 방향에 따라 iteration 수 수정\n",
    "# 평가시에는 데모와 다른 스플릿 시드를 만들어 [1, 10]로 진행 예정\n",
    "iterations = [1, 1] \n",
    "\n",
    "# 'Crown Detection'는 예제 데이터셋, 데모 및 평가시에는 'CV_Competition'\n",
    "Dataset_Name = 'airplane' \n",
    "\n",
    "# 결과를 모아 하나의 csv 파일에 저장\n",
    "results_df = pd.DataFrame(columns=[\n",
    "    'Experiment Time', 'Iteration', 'Submission Function', \n",
    "    'IoU', 'Dice', 'Precision', 'Recall', 'Output Json Path',\n",
    "])\n",
    "csv_filename = os.path.join(BaseConfig.get_output_dir(), f\"Evaluation_Results_{BaseConfig.get_experiment_time()}.csv\")\n",
    "json_foldername = \"json\"\n",
    "vis_foldername = \"vis\"\n",
    "\n",
    "os.makedirs(os.path.join(BaseConfig.get_output_dir(), json_foldername), exist_ok=True)\n",
    "os.makedirs(os.path.join(BaseConfig.get_output_dir(), vis_foldername), exist_ok=True)\n",
    "\n",
    "# 서로 다른 iteration, submission function으로 실험 진행\n",
    "for iteration in range(iterations[0], iterations[1]+1):\n",
    "    \n",
    "    yaml_path = f'Datasets/{Dataset_Name}/data_iter_{iteration:02d}.yaml'\n",
    "    \n",
    "    for submission_function in submission_functions:\n",
    "        \n",
    "        ex_time = datetime.now().strftime('%y%m%d_%H%M%S')\n",
    "        output_json_path = os.path.join(BaseConfig.get_output_dir(), json_foldername, f\"{ex_time}_{submission_function}_Iter_{iteration}_detection_results.json\")\n",
    "        \n",
    "        globals()[submission_function](yaml_path, output_json_path)\n",
    "        \n",
    "        labels_dir = f\"Datasets/{Dataset_Name}/labels\"  \n",
    "        vis_output_dir = os.path.join(BaseConfig.get_output_dir(), vis_foldername, f\"{ex_time}_visualization_results\")\n",
    "        image_level_result_path =os.path.join(BaseConfig.get_output_dir(), json_foldername, f\"{ex_time}_{submission_function}_Iter_{iteration}_image_level_results.json\")\n",
    "        stats = eval_and_vis(yaml_path, output_json_path, labels_dir, image_level_result_path, vis_output_dir, vis=True) # 분석 방향에 따라 vis=True 설정\n",
    "        new_row = {\n",
    "            'Experiment Time': ex_time,\n",
    "            'Iteration': iteration,\n",
    "            'Submission Function': submission_function,\n",
    "            'IoU': stats['IoU']['avg'],\n",
    "            'Dice': stats['Dice']['avg'],\n",
    "            'Precision': stats['Precision']['avg'],\n",
    "            'Recall': stats['Recall']['avg'],\n",
    "            'Output Json Path': output_json_path,\n",
    "        }\n",
    "        results_df = pd.concat([results_df, pd.DataFrame([new_row])], ignore_index=True)\n",
    "        results_df.to_csv(csv_filename, index=False)"
   ]
  },
  {
   "cell_type": "code",
   "execution_count": null,
   "id": "a42711cc-d6dc-49db-b7cd-d9ebc4a9f596",
   "metadata": {},
   "outputs": [],
   "source": [
    "# 분석 방향에 따라 전체 결과를 모아 평균-표준편차-통계테스트 결과 저장 \n",
    "\n",
    "keep_columns = ['Iteration','Submission Function']\n",
    "keep_measures = ['IoU','Dice','Precision','Recall']  \n",
    "\n",
    "reduction = 'Iteration'\n",
    "row = 'Measure Type'\n",
    "column = 'Submission Function'\n",
    "reference_column = 'submission_YOLOv8n'\n",
    "\n",
    "custom_fmt_template = '{mean_fmt} ± {std_fmt} {significance}'\n",
    "significance_levels = [0.1, 0.05, 0.01]\n",
    "decimal_places = 3\n",
    "transpose = True\n",
    "make_tables(csv_filename, keep_columns, keep_measures, reduction, row, column,  \n",
    "            reference_column, custom_fmt_template, significance_levels, decimal_places, transpose)"
   ]
  },
  {
   "cell_type": "code",
   "execution_count": null,
   "id": "046f0a89-b0b6-4406-9500-24156dabcfc7",
   "metadata": {},
   "outputs": [],
   "source": []
  }
 ],
 "metadata": {
  "kernelspec": {
   "display_name": "CV",
   "language": "python",
   "name": "python3"
  },
  "language_info": {
   "codemirror_mode": {
    "name": "ipython",
    "version": 3
   },
   "file_extension": ".py",
   "mimetype": "text/x-python",
   "name": "python",
   "nbconvert_exporter": "python",
   "pygments_lexer": "ipython3",
   "version": "3.10.16"
  }
 },
 "nbformat": 4,
 "nbformat_minor": 5
}
