{
 "cells": [
  {
   "cell_type": "code",
   "execution_count": 1,
   "id": "b9a22a04-1665-4ea8-b1a4-e0172ce1a30a",
   "metadata": {
    "scrolled": true
   },
   "outputs": [
    {
     "name": "stdout",
     "output_type": "stream",
     "text": [
      "Ultralytics 8.3.96 🚀 Python-3.10.16 torch-2.8.0.dev20250417+cu128 CUDA:0 (NVIDIA GeForce RTX 5070 Ti, 16303MiB)\n",
      "\u001b[34m\u001b[1mengine/trainer: \u001b[0mtask=detect, mode=train, model=yolov8n.yaml, data=Datasets/airplane/data_iter_01.yaml, epochs=20, time=None, patience=100, batch=16, imgsz=640, save=True, save_period=-1, cache=False, device=cuda:0, workers=8, project=output/250422_005007/train, name=250422_005008_yolov8n_airplane_Iter_1, exist_ok=False, pretrained=False, optimizer=AdamW, verbose=True, seed=0, deterministic=True, single_cls=True, rect=False, cos_lr=True, close_mosaic=2, resume=False, amp=False, fraction=1.0, profile=False, freeze=None, multi_scale=False, overlap_mask=True, mask_ratio=4, dropout=0.0, val=True, split=val, save_json=False, save_hybrid=False, conf=None, iou=0.7, max_det=300, half=False, dnn=False, plots=True, source=None, vid_stride=1, stream_buffer=False, visualize=False, augment=False, agnostic_nms=False, classes=None, retina_masks=False, embed=None, show=False, save_frames=False, save_txt=False, save_conf=False, save_crop=False, show_labels=True, show_conf=True, show_boxes=True, line_width=None, format=torchscript, keras=False, optimize=False, int8=False, dynamic=False, simplify=True, opset=None, workspace=None, nms=False, lr0=0.003, lrf=0.01, momentum=0.9, weight_decay=0.0001, warmup_epochs=2.0, warmup_momentum=0.85, warmup_bias_lr=0.1, box=5.0, cls=0.3, dfl=1.5, pose=12.0, kobj=1.0, nbs=64, hsv_h=0.015, hsv_s=0.7, hsv_v=0.4, degrees=0.0, translate=0.1, scale=0.5, shear=0.0, perspective=0.0, flipud=0.0, fliplr=0.5, bgr=0.0, mosaic=1.0, mixup=0.0, copy_paste=0.0, copy_paste_mode=flip, auto_augment=randaugment, erasing=0.4, crop_fraction=1.0, cfg=None, tracker=botsort.yaml, save_dir=output/250422_005007/train/250422_005008_yolov8n_airplane_Iter_1\n",
      "Overriding class names with single class.\n",
      "Overriding model.yaml nc=80 with nc=1\n",
      "\n",
      "                   from  n    params  module                                       arguments                     \n",
      "  0                  -1  1       464  ultralytics.nn.modules.conv.Conv             [3, 16, 3, 2]                 \n",
      "  1                  -1  1      4672  ultralytics.nn.modules.conv.Conv             [16, 32, 3, 2]                \n",
      "  2                  -1  1      7360  ultralytics.nn.modules.block.C2f             [32, 32, 1, True]             \n",
      "  3                  -1  1     18560  ultralytics.nn.modules.conv.Conv             [32, 64, 3, 2]                \n",
      "  4                  -1  2     49664  ultralytics.nn.modules.block.C2f             [64, 64, 2, True]             \n",
      "  5                  -1  1     73984  ultralytics.nn.modules.conv.Conv             [64, 128, 3, 2]               \n",
      "  6                  -1  2    197632  ultralytics.nn.modules.block.C2f             [128, 128, 2, True]           \n",
      "  7                  -1  1    295424  ultralytics.nn.modules.conv.Conv             [128, 256, 3, 2]              \n",
      "  8                  -1  1    460288  ultralytics.nn.modules.block.C2f             [256, 256, 1, True]           \n",
      "  9                  -1  1    164608  ultralytics.nn.modules.block.SPPF            [256, 256, 5]                 \n",
      " 10                  -1  1         0  torch.nn.modules.upsampling.Upsample         [None, 2, 'nearest']          \n",
      " 11             [-1, 6]  1         0  ultralytics.nn.modules.conv.Concat           [1]                           \n",
      " 12                  -1  1    148224  ultralytics.nn.modules.block.C2f             [384, 128, 1]                 \n",
      " 13                  -1  1         0  torch.nn.modules.upsampling.Upsample         [None, 2, 'nearest']          \n",
      " 14             [-1, 4]  1         0  ultralytics.nn.modules.conv.Concat           [1]                           \n",
      " 15                  -1  1     37248  ultralytics.nn.modules.block.C2f             [192, 64, 1]                  \n",
      " 16                  -1  1     36992  ultralytics.nn.modules.conv.Conv             [64, 64, 3, 2]                \n",
      " 17            [-1, 12]  1         0  ultralytics.nn.modules.conv.Concat           [1]                           \n",
      " 18                  -1  1    123648  ultralytics.nn.modules.block.C2f             [192, 128, 1]                 \n",
      " 19                  -1  1    147712  ultralytics.nn.modules.conv.Conv             [128, 128, 3, 2]              \n",
      " 20             [-1, 9]  1         0  ultralytics.nn.modules.conv.Concat           [1]                           \n",
      " 21                  -1  1    493056  ultralytics.nn.modules.block.C2f             [384, 256, 1]                 \n",
      " 22        [15, 18, 21]  1    751507  ultralytics.nn.modules.head.Detect           [1, [64, 128, 256]]           \n",
      "YOLOv8n summary: 129 layers, 3,011,043 parameters, 3,011,027 gradients, 8.2 GFLOPs\n",
      "\n",
      "\u001b[34m\u001b[1mTensorBoard: \u001b[0mStart with 'tensorboard --logdir output/250422_005007/train/250422_005008_yolov8n_airplane_Iter_1', view at http://localhost:6006/\n",
      "Freezing layer 'model.22.dfl.conv.weight'\n"
     ]
    },
    {
     "name": "stderr",
     "output_type": "stream",
     "text": [
      "\u001b[34m\u001b[1mtrain: \u001b[0mScanning Datasets/airplane/labels... 1051 images, 0 backgrounds, 0 corrupt: 100%|██████████| 1051/1051 [00:00<00:00, 1175.96it/s]"
     ]
    },
    {
     "name": "stdout",
     "output_type": "stream",
     "text": [
      "\u001b[34m\u001b[1mtrain: \u001b[0mNew cache created: Datasets/airplane/labels.cache\n"
     ]
    },
    {
     "name": "stderr",
     "output_type": "stream",
     "text": [
      "\n",
      "\u001b[34m\u001b[1mval: \u001b[0mScanning Datasets/airplane/labels... 351 images, 0 backgrounds, 0 corrupt: 100%|██████████| 351/351 [00:00<00:00, 735.68it/s]"
     ]
    },
    {
     "name": "stdout",
     "output_type": "stream",
     "text": [
      "\u001b[34m\u001b[1mval: \u001b[0mNew cache created: Datasets/airplane/labels.cache\n"
     ]
    },
    {
     "name": "stderr",
     "output_type": "stream",
     "text": [
      "\n"
     ]
    },
    {
     "name": "stdout",
     "output_type": "stream",
     "text": [
      "Plotting labels to output/250422_005007/train/250422_005008_yolov8n_airplane_Iter_1/labels.jpg... \n",
      "\u001b[34m\u001b[1moptimizer:\u001b[0m AdamW(lr=0.003, momentum=0.9) with parameter groups 57 weight(decay=0.0), 64 weight(decay=0.0001), 63 bias(decay=0.0)\n",
      "\u001b[34m\u001b[1mTensorBoard: \u001b[0mmodel graph visualization added ✅\n",
      "Image sizes 640 train, 640 val\n",
      "Using 8 dataloader workers\n",
      "Logging results to \u001b[1moutput/250422_005007/train/250422_005008_yolov8n_airplane_Iter_1\u001b[0m\n",
      "Starting training for 20 epochs...\n",
      "\n",
      "      Epoch    GPU_mem   box_loss   cls_loss   dfl_loss  Instances       Size\n"
     ]
    },
    {
     "name": "stderr",
     "output_type": "stream",
     "text": [
      "       1/20      3.59G      2.145      1.965      3.616         21        640: 100%|██████████| 66/66 [00:06<00:00, 10.06it/s]\n",
      "                 Class     Images  Instances      Box(P          R      mAP50  mAP50-95): 100%|██████████| 11/11 [00:01<00:00,  5.61it/s]\n"
     ]
    },
    {
     "name": "stdout",
     "output_type": "stream",
     "text": [
      "                   all        351        384     0.0141      0.398    0.00705    0.00143\n",
      "\n",
      "      Epoch    GPU_mem   box_loss   cls_loss   dfl_loss  Instances       Size\n"
     ]
    },
    {
     "name": "stderr",
     "output_type": "stream",
     "text": [
      "       2/20      4.18G      2.008      1.716      3.305         20        640: 100%|██████████| 66/66 [00:05<00:00, 11.98it/s]\n",
      "                 Class     Images  Instances      Box(P          R      mAP50  mAP50-95): 100%|██████████| 11/11 [00:01<00:00,  5.56it/s]\n"
     ]
    },
    {
     "name": "stdout",
     "output_type": "stream",
     "text": [
      "                   all        351        384    0.00276      0.245     0.0015   0.000364\n",
      "\n",
      "      Epoch    GPU_mem   box_loss   cls_loss   dfl_loss  Instances       Size\n"
     ]
    },
    {
     "name": "stderr",
     "output_type": "stream",
     "text": [
      "       3/20       4.2G      1.713      1.637      2.995         36        640: 100%|██████████| 66/66 [00:05<00:00, 12.09it/s]\n",
      "                 Class     Images  Instances      Box(P          R      mAP50  mAP50-95): 100%|██████████| 11/11 [00:01<00:00,  6.12it/s]"
     ]
    },
    {
     "name": "stdout",
     "output_type": "stream",
     "text": [
      "                   all        351        384     0.0448      0.219     0.0278    0.00471\n"
     ]
    },
    {
     "name": "stderr",
     "output_type": "stream",
     "text": [
      "\n"
     ]
    },
    {
     "name": "stdout",
     "output_type": "stream",
     "text": [
      "\n",
      "      Epoch    GPU_mem   box_loss   cls_loss   dfl_loss  Instances       Size\n"
     ]
    },
    {
     "name": "stderr",
     "output_type": "stream",
     "text": [
      "       4/20      4.21G      1.587      1.593      2.808         23        640: 100%|██████████| 66/66 [00:05<00:00, 12.52it/s]\n",
      "                 Class     Images  Instances      Box(P          R      mAP50  mAP50-95): 100%|██████████| 11/11 [00:01<00:00,  7.14it/s]"
     ]
    },
    {
     "name": "stdout",
     "output_type": "stream",
     "text": [
      "                   all        351        384     0.0992       0.19     0.0588     0.0153\n"
     ]
    },
    {
     "name": "stderr",
     "output_type": "stream",
     "text": [
      "\n"
     ]
    },
    {
     "name": "stdout",
     "output_type": "stream",
     "text": [
      "\n",
      "      Epoch    GPU_mem   box_loss   cls_loss   dfl_loss  Instances       Size\n"
     ]
    },
    {
     "name": "stderr",
     "output_type": "stream",
     "text": [
      "       5/20      4.23G      1.514       1.51      2.713         26        640: 100%|██████████| 66/66 [00:05<00:00, 12.43it/s]\n",
      "                 Class     Images  Instances      Box(P          R      mAP50  mAP50-95): 100%|██████████| 11/11 [00:01<00:00,  6.84it/s]"
     ]
    },
    {
     "name": "stdout",
     "output_type": "stream",
     "text": [
      "                   all        351        384      0.331      0.339      0.249      0.085\n"
     ]
    },
    {
     "name": "stderr",
     "output_type": "stream",
     "text": [
      "\n"
     ]
    },
    {
     "name": "stdout",
     "output_type": "stream",
     "text": [
      "\n",
      "      Epoch    GPU_mem   box_loss   cls_loss   dfl_loss  Instances       Size\n"
     ]
    },
    {
     "name": "stderr",
     "output_type": "stream",
     "text": [
      "       6/20      4.25G      1.421      1.461      2.562         33        640: 100%|██████████| 66/66 [00:05<00:00, 12.17it/s]\n",
      "                 Class     Images  Instances      Box(P          R      mAP50  mAP50-95): 100%|██████████| 11/11 [00:01<00:00,  6.87it/s]"
     ]
    },
    {
     "name": "stdout",
     "output_type": "stream",
     "text": [
      "                   all        351        384      0.254      0.323       0.17     0.0518\n"
     ]
    },
    {
     "name": "stderr",
     "output_type": "stream",
     "text": [
      "\n"
     ]
    },
    {
     "name": "stdout",
     "output_type": "stream",
     "text": [
      "\n",
      "      Epoch    GPU_mem   box_loss   cls_loss   dfl_loss  Instances       Size\n"
     ]
    },
    {
     "name": "stderr",
     "output_type": "stream",
     "text": [
      "       7/20      4.27G      1.364      1.362      2.464         30        640: 100%|██████████| 66/66 [00:05<00:00, 12.18it/s]\n",
      "                 Class     Images  Instances      Box(P          R      mAP50  mAP50-95): 100%|██████████| 11/11 [00:01<00:00,  6.86it/s]"
     ]
    },
    {
     "name": "stdout",
     "output_type": "stream",
     "text": [
      "                   all        351        384      0.354      0.268      0.218     0.0662\n"
     ]
    },
    {
     "name": "stderr",
     "output_type": "stream",
     "text": [
      "\n"
     ]
    },
    {
     "name": "stdout",
     "output_type": "stream",
     "text": [
      "\n",
      "      Epoch    GPU_mem   box_loss   cls_loss   dfl_loss  Instances       Size\n"
     ]
    },
    {
     "name": "stderr",
     "output_type": "stream",
     "text": [
      "       8/20      4.28G      1.339      1.315      2.411         18        640: 100%|██████████| 66/66 [00:05<00:00, 12.51it/s]\n",
      "                 Class     Images  Instances      Box(P          R      mAP50  mAP50-95): 100%|██████████| 11/11 [00:01<00:00,  7.24it/s]"
     ]
    },
    {
     "name": "stdout",
     "output_type": "stream",
     "text": [
      "                   all        351        384      0.349      0.406      0.318      0.115\n"
     ]
    },
    {
     "name": "stderr",
     "output_type": "stream",
     "text": [
      "\n"
     ]
    },
    {
     "name": "stdout",
     "output_type": "stream",
     "text": [
      "\n",
      "      Epoch    GPU_mem   box_loss   cls_loss   dfl_loss  Instances       Size\n"
     ]
    },
    {
     "name": "stderr",
     "output_type": "stream",
     "text": [
      "       9/20       4.3G      1.328      1.277       2.36         26        640: 100%|██████████| 66/66 [00:05<00:00, 12.00it/s]\n",
      "                 Class     Images  Instances      Box(P          R      mAP50  mAP50-95): 100%|██████████| 11/11 [00:01<00:00,  6.33it/s]"
     ]
    },
    {
     "name": "stdout",
     "output_type": "stream",
     "text": [
      "                   all        351        384      0.482      0.474      0.446      0.184\n"
     ]
    },
    {
     "name": "stderr",
     "output_type": "stream",
     "text": [
      "\n"
     ]
    },
    {
     "name": "stdout",
     "output_type": "stream",
     "text": [
      "\n",
      "      Epoch    GPU_mem   box_loss   cls_loss   dfl_loss  Instances       Size\n"
     ]
    },
    {
     "name": "stderr",
     "output_type": "stream",
     "text": [
      "      10/20       4.3G      1.278       1.25      2.282         26        640: 100%|██████████| 66/66 [00:05<00:00, 12.16it/s]\n",
      "                 Class     Images  Instances      Box(P          R      mAP50  mAP50-95): 100%|██████████| 11/11 [00:01<00:00,  7.24it/s]\n"
     ]
    },
    {
     "name": "stdout",
     "output_type": "stream",
     "text": [
      "                   all        351        384      0.213       0.44      0.252     0.0987\n",
      "\n",
      "      Epoch    GPU_mem   box_loss   cls_loss   dfl_loss  Instances       Size\n"
     ]
    },
    {
     "name": "stderr",
     "output_type": "stream",
     "text": [
      "      11/20       4.3G      1.235       1.18      2.235         19        640: 100%|██████████| 66/66 [00:05<00:00, 12.78it/s]\n",
      "                 Class     Images  Instances      Box(P          R      mAP50  mAP50-95): 100%|██████████| 11/11 [00:01<00:00,  7.53it/s]"
     ]
    },
    {
     "name": "stdout",
     "output_type": "stream",
     "text": [
      "                   all        351        384      0.492      0.505      0.512      0.197\n"
     ]
    },
    {
     "name": "stderr",
     "output_type": "stream",
     "text": [
      "\n"
     ]
    },
    {
     "name": "stdout",
     "output_type": "stream",
     "text": [
      "\n",
      "      Epoch    GPU_mem   box_loss   cls_loss   dfl_loss  Instances       Size\n"
     ]
    },
    {
     "name": "stderr",
     "output_type": "stream",
     "text": [
      "      12/20       4.3G        1.2      1.151      2.207         28        640: 100%|██████████| 66/66 [00:05<00:00, 12.27it/s]\n",
      "                 Class     Images  Instances      Box(P          R      mAP50  mAP50-95): 100%|██████████| 11/11 [00:01<00:00,  6.44it/s]"
     ]
    },
    {
     "name": "stdout",
     "output_type": "stream",
     "text": [
      "                   all        351        384      0.595      0.568      0.556      0.232\n"
     ]
    },
    {
     "name": "stderr",
     "output_type": "stream",
     "text": [
      "\n"
     ]
    },
    {
     "name": "stdout",
     "output_type": "stream",
     "text": [
      "\n",
      "      Epoch    GPU_mem   box_loss   cls_loss   dfl_loss  Instances       Size\n"
     ]
    },
    {
     "name": "stderr",
     "output_type": "stream",
     "text": [
      "      13/20       4.3G      1.181       1.11      2.158         26        640: 100%|██████████| 66/66 [00:05<00:00, 12.85it/s]\n",
      "                 Class     Images  Instances      Box(P          R      mAP50  mAP50-95): 100%|██████████| 11/11 [00:01<00:00,  7.74it/s]"
     ]
    },
    {
     "name": "stdout",
     "output_type": "stream",
     "text": [
      "                   all        351        384      0.555       0.57      0.568      0.258\n"
     ]
    },
    {
     "name": "stderr",
     "output_type": "stream",
     "text": [
      "\n"
     ]
    },
    {
     "name": "stdout",
     "output_type": "stream",
     "text": [
      "\n",
      "      Epoch    GPU_mem   box_loss   cls_loss   dfl_loss  Instances       Size\n"
     ]
    },
    {
     "name": "stderr",
     "output_type": "stream",
     "text": [
      "      14/20       4.3G      1.145      1.072      2.102         30        640: 100%|██████████| 66/66 [00:05<00:00, 12.00it/s]\n",
      "                 Class     Images  Instances      Box(P          R      mAP50  mAP50-95): 100%|██████████| 11/11 [00:01<00:00,  6.77it/s]"
     ]
    },
    {
     "name": "stdout",
     "output_type": "stream",
     "text": [
      "                   all        351        384      0.608      0.609      0.561      0.241\n"
     ]
    },
    {
     "name": "stderr",
     "output_type": "stream",
     "text": [
      "\n"
     ]
    },
    {
     "name": "stdout",
     "output_type": "stream",
     "text": [
      "\n",
      "      Epoch    GPU_mem   box_loss   cls_loss   dfl_loss  Instances       Size\n"
     ]
    },
    {
     "name": "stderr",
     "output_type": "stream",
     "text": [
      "      15/20       4.3G       1.14      1.061       2.11         20        640: 100%|██████████| 66/66 [00:05<00:00, 12.24it/s]\n",
      "                 Class     Images  Instances      Box(P          R      mAP50  mAP50-95): 100%|██████████| 11/11 [00:01<00:00,  6.96it/s]"
     ]
    },
    {
     "name": "stdout",
     "output_type": "stream",
     "text": [
      "                   all        351        384      0.633      0.634      0.595      0.276\n"
     ]
    },
    {
     "name": "stderr",
     "output_type": "stream",
     "text": [
      "\n"
     ]
    },
    {
     "name": "stdout",
     "output_type": "stream",
     "text": [
      "\n",
      "      Epoch    GPU_mem   box_loss   cls_loss   dfl_loss  Instances       Size\n"
     ]
    },
    {
     "name": "stderr",
     "output_type": "stream",
     "text": [
      "      16/20       4.3G      1.089      1.011      2.063         23        640: 100%|██████████| 66/66 [00:05<00:00, 12.95it/s]\n",
      "                 Class     Images  Instances      Box(P          R      mAP50  mAP50-95): 100%|██████████| 11/11 [00:01<00:00,  7.70it/s]"
     ]
    },
    {
     "name": "stdout",
     "output_type": "stream",
     "text": [
      "                   all        351        384      0.636      0.641      0.626      0.297\n"
     ]
    },
    {
     "name": "stderr",
     "output_type": "stream",
     "text": [
      "\n"
     ]
    },
    {
     "name": "stdout",
     "output_type": "stream",
     "text": [
      "\n",
      "      Epoch    GPU_mem   box_loss   cls_loss   dfl_loss  Instances       Size\n"
     ]
    },
    {
     "name": "stderr",
     "output_type": "stream",
     "text": [
      "      17/20       4.3G       1.13      1.029      2.073         28        640: 100%|██████████| 66/66 [00:05<00:00, 12.65it/s]\n",
      "                 Class     Images  Instances      Box(P          R      mAP50  mAP50-95): 100%|██████████| 11/11 [00:01<00:00,  7.09it/s]"
     ]
    },
    {
     "name": "stdout",
     "output_type": "stream",
     "text": [
      "                   all        351        384      0.694      0.604      0.646      0.313\n"
     ]
    },
    {
     "name": "stderr",
     "output_type": "stream",
     "text": [
      "\n"
     ]
    },
    {
     "name": "stdout",
     "output_type": "stream",
     "text": [
      "\n",
      "      Epoch    GPU_mem   box_loss   cls_loss   dfl_loss  Instances       Size\n"
     ]
    },
    {
     "name": "stderr",
     "output_type": "stream",
     "text": [
      "      18/20      4.31G       1.09     0.9991      2.004         28        640: 100%|██████████| 66/66 [00:05<00:00, 11.61it/s]\n",
      "                 Class     Images  Instances      Box(P          R      mAP50  mAP50-95): 100%|██████████| 11/11 [00:01<00:00,  7.37it/s]"
     ]
    },
    {
     "name": "stdout",
     "output_type": "stream",
     "text": [
      "                   all        351        384        0.7      0.657      0.672      0.316\n"
     ]
    },
    {
     "name": "stderr",
     "output_type": "stream",
     "text": [
      "\n"
     ]
    },
    {
     "name": "stdout",
     "output_type": "stream",
     "text": [
      "Closing dataloader mosaic\n",
      "\n",
      "      Epoch    GPU_mem   box_loss   cls_loss   dfl_loss  Instances       Size\n"
     ]
    },
    {
     "name": "stderr",
     "output_type": "stream",
     "text": [
      "      19/20      4.31G      1.037     0.9917      1.996         11        640: 100%|██████████| 66/66 [00:06<00:00, 10.63it/s]\n",
      "                 Class     Images  Instances      Box(P          R      mAP50  mAP50-95): 100%|██████████| 11/11 [00:01<00:00,  6.01it/s]"
     ]
    },
    {
     "name": "stdout",
     "output_type": "stream",
     "text": [
      "                   all        351        384      0.701       0.63       0.67      0.334\n"
     ]
    },
    {
     "name": "stderr",
     "output_type": "stream",
     "text": [
      "\n"
     ]
    },
    {
     "name": "stdout",
     "output_type": "stream",
     "text": [
      "\n",
      "      Epoch    GPU_mem   box_loss   cls_loss   dfl_loss  Instances       Size\n"
     ]
    },
    {
     "name": "stderr",
     "output_type": "stream",
     "text": [
      "      20/20      4.31G      1.034     0.9133      1.986         11        640: 100%|██████████| 66/66 [00:05<00:00, 12.00it/s]\n",
      "                 Class     Images  Instances      Box(P          R      mAP50  mAP50-95): 100%|██████████| 11/11 [00:01<00:00,  5.89it/s]"
     ]
    },
    {
     "name": "stdout",
     "output_type": "stream",
     "text": [
      "                   all        351        384      0.701      0.625      0.675      0.341\n"
     ]
    },
    {
     "name": "stderr",
     "output_type": "stream",
     "text": [
      "\n"
     ]
    },
    {
     "name": "stdout",
     "output_type": "stream",
     "text": [
      "\n",
      "20 epochs completed in 0.041 hours.\n",
      "Optimizer stripped from output/250422_005007/train/250422_005008_yolov8n_airplane_Iter_1/weights/last.pt, 6.2MB\n",
      "Optimizer stripped from output/250422_005007/train/250422_005008_yolov8n_airplane_Iter_1/weights/best.pt, 6.2MB\n",
      "\n",
      "Validating output/250422_005007/train/250422_005008_yolov8n_airplane_Iter_1/weights/best.pt...\n",
      "Ultralytics 8.3.96 🚀 Python-3.10.16 torch-2.8.0.dev20250417+cu128 CUDA:0 (NVIDIA GeForce RTX 5070 Ti, 16303MiB)\n",
      "YOLOv8n summary (fused): 72 layers, 3,005,843 parameters, 0 gradients, 8.1 GFLOPs\n"
     ]
    },
    {
     "name": "stderr",
     "output_type": "stream",
     "text": [
      "                 Class     Images  Instances      Box(P          R      mAP50  mAP50-95): 100%|██████████| 11/11 [00:02<00:00,  5.42it/s]\n"
     ]
    },
    {
     "name": "stdout",
     "output_type": "stream",
     "text": [
      "                   all        351        384      0.696      0.626      0.675      0.341\n",
      "Speed: 0.2ms preprocess, 0.8ms inference, 0.0ms loss, 1.3ms postprocess per image\n",
      "Results saved to \u001b[1moutput/250422_005007/train/250422_005008_yolov8n_airplane_Iter_1\u001b[0m\n",
      "Transferred 355/355 items from pretrained weights\n",
      "결과가 output/250422_005007/json/250422_005007_submission_YOLOv8n_Iter_1_detection_results.json에 저장되었습니다.\n",
      "\n",
      "                   from  n    params  module                                       arguments                     \n",
      "  0                  -1  1       464  models.HyperYOLOt.pkgs.hyper_ultralytics.nn.modules.conv.Conv[3, 16, 3, 2]                 \n",
      "  1                  -1  1      4672  models.HyperYOLOt.pkgs.hyper_ultralytics.nn.modules.conv.Conv[16, 32, 3, 2]                \n",
      "  2                  -1  1      7360  models.HyperYOLOt.pkgs.hyper_ultralytics.nn.modules.block.C2f[32, 32, 1, True]             \n",
      "  3                  -1  1     18560  models.HyperYOLOt.pkgs.hyper_ultralytics.nn.modules.conv.Conv[32, 64, 3, 2]                \n",
      "  4                  -1  2     62912  models.HyperYOLOt.pkgs.hyper_ultralytics.nn.modules.block.MANet[64, 64, 2, True, 1, 3]       \n",
      "  5                  -1  1     73984  models.HyperYOLOt.pkgs.hyper_ultralytics.nn.modules.conv.Conv[64, 128, 3, 2]               \n",
      "  6                  -1  2    248704  models.HyperYOLOt.pkgs.hyper_ultralytics.nn.modules.block.MANet[128, 128, 2, True, 1, 3]     \n",
      "  7                  -1  1    295424  models.HyperYOLOt.pkgs.hyper_ultralytics.nn.modules.conv.Conv[128, 256, 3, 2]              \n",
      "  8                  -1  1    460288  models.HyperYOLOt.pkgs.hyper_ultralytics.nn.modules.block.C2f[256, 256, 1, True]           \n",
      "  9                  -1  1    164608  models.HyperYOLOt.pkgs.hyper_ultralytics.nn.modules.block.SPPF[256, 256, 5]                 \n",
      " 10                   0  1         0  torch.nn.modules.pooling.AvgPool2d           [8, 8, 0]                     \n",
      " 11                   2  1         0  torch.nn.modules.pooling.AvgPool2d           [4, 4, 0]                     \n",
      " 12                   4  1         0  torch.nn.modules.pooling.AvgPool2d           [2, 2, 0]                     \n",
      " 13                   9  1         0  torch.nn.modules.upsampling.Upsample         [None, 2, 'nearest']          \n",
      " 14 [10, 11, 12, 6, 13]  1         0  models.HyperYOLOt.pkgs.hyper_ultralytics.nn.modules.conv.Concat[1]                           \n",
      " 15                  -1  1     63744  models.HyperYOLOt.pkgs.hyper_ultralytics.nn.modules.conv.Conv[496, 128, 1, 1]              \n",
      " 16                  -1  1     16768  models.HyperYOLOt.pkgs.hyper_ultralytics.nn.modules.block.HyperComputeModule[128, 128, 6]                 \n",
      " 17                  -1  1    166528  models.HyperYOLOt.pkgs.hyper_ultralytics.nn.modules.block.MANet[128, 128, 1, True]           \n",
      " 18                  -1  1         0  torch.nn.modules.pooling.AvgPool2d           [2, 2, 0]                     \n",
      " 19             [-1, 9]  1         0  models.HyperYOLOt.pkgs.hyper_ultralytics.nn.modules.conv.Concat[1]                           \n",
      " 20                  -1  1     98816  models.HyperYOLOt.pkgs.hyper_ultralytics.nn.modules.conv.Conv[384, 256, 1, 1]              \n",
      " 21             [17, 6]  1         0  models.HyperYOLOt.pkgs.hyper_ultralytics.nn.modules.conv.Concat[1]                           \n",
      " 22                  -1  1    131840  models.HyperYOLOt.pkgs.hyper_ultralytics.nn.modules.block.C2f[256, 128, 1, False]          \n",
      " 23                  17  1         0  torch.nn.modules.upsampling.Upsample         [None, 2, 'nearest']          \n",
      " 24             [-1, 4]  1         0  models.HyperYOLOt.pkgs.hyper_ultralytics.nn.modules.conv.Concat[1]                           \n",
      " 25                  -1  1     37248  models.HyperYOLOt.pkgs.hyper_ultralytics.nn.modules.block.C2f[192, 64, 1, False]           \n",
      " 26                  -1  1     36992  models.HyperYOLOt.pkgs.hyper_ultralytics.nn.modules.conv.Conv[64, 64, 3, 2]                \n",
      " 27            [-1, 22]  1         0  models.HyperYOLOt.pkgs.hyper_ultralytics.nn.modules.conv.Concat[1]                           \n",
      " 28                  -1  1    123648  models.HyperYOLOt.pkgs.hyper_ultralytics.nn.modules.block.C2f[192, 128, 1, False]          \n",
      " 29                  -1  1    147712  models.HyperYOLOt.pkgs.hyper_ultralytics.nn.modules.conv.Conv[128, 128, 3, 2]              \n",
      " 30            [-1, 20]  1         0  models.HyperYOLOt.pkgs.hyper_ultralytics.nn.modules.conv.Concat[1]                           \n",
      " 31                  -1  1     98816  models.HyperYOLOt.pkgs.hyper_ultralytics.nn.modules.conv.Conv[384, 256, 1, 1]              \n",
      " 32        [25, 28, 31]  1    897664  models.HyperYOLOt.pkgs.hyper_ultralytics.nn.modules.head.Detect[80, [64, 128, 256]]          \n",
      "Hyper-YOLOt summary: 286 layers, 3156752 parameters, 3156736 gradients, 9.7 GFLOPs\n",
      "\n",
      "Hyper-YOLOv1.0 🚀 Python-3.10.16 torch-2.8.0.dev20250417+cu128 CUDA:0 (NVIDIA GeForce RTX 5070 Ti, 16303MiB)\n",
      "\u001b[34m\u001b[1mengine/trainer: \u001b[0mtask=detect, mode=train, model=HyperYOLOt.yaml, data=Datasets/airplane/data_iter_01.yaml, epochs=20, patience=100, batch=16, imgsz=640, save=True, val_period=1, start_val_epoch=0, save_period=-1, cache=False, device=cuda:0, workers=8, project=output/250422_005007/train, name=250422_005349_HyperYOLOt_airplane_Iter_1, exist_ok=False, pretrained=False, optimizer=AdamW, verbose=True, seed=0, deterministic=True, single_cls=True, rect=False, cos_lr=True, close_mosaic=2, resume=False, amp=False, fraction=1.0, profile=False, freeze=None, overlap_mask=True, mask_ratio=4, dropout=0.0, val=True, split=val, save_json=False, save_hybrid=False, conf=0.001, iou=0.7, max_det=300, half=True, dnn=False, plots=True, source=None, vid_stride=1, stream_buffer=False, visualize=False, augment=False, agnostic_nms=False, classes=None, retina_masks=False, show=False, save_frames=False, save_txt=False, save_conf=False, save_crop=False, show_labels=False, show_conf=False, show_boxes=False, line_width=1, format=onnx, keras=False, optimize=False, int8=False, dynamic=False, simplify=True, opset=None, workspace=4, nms=False, lr0=0.003, lrf=0.01, momentum=0.9, weight_decay=0.0001, warmup_epochs=2.0, warmup_momentum=0.85, warmup_bias_lr=0.1, box=5.0, cls=0.3, dfl=1.5, pose=12.0, kobj=1.0, label_smoothing=0.0, nbs=64, hsv_h=0.015, hsv_s=0.7, hsv_v=0.4, degrees=0.0, translate=0.1, scale=0.5, shear=0.0, perspective=0.0, flipud=0.0, fliplr=0.5, mosaic=1.0, mixup=0.0, copy_paste=0.0, cfg=None, tracker=botsort.yaml, save_dir=output/250422_005007/train/250422_005349_HyperYOLOt_airplane_Iter_1\n",
      "Overriding model.yaml nc=80 with nc=1\n",
      "\n",
      "                   from  n    params  module                                       arguments                     \n",
      "  0                  -1  1       464  models.HyperYOLOt.pkgs.hyper_ultralytics.nn.modules.conv.Conv[3, 16, 3, 2]                 \n",
      "  1                  -1  1      4672  models.HyperYOLOt.pkgs.hyper_ultralytics.nn.modules.conv.Conv[16, 32, 3, 2]                \n",
      "  2                  -1  1      7360  models.HyperYOLOt.pkgs.hyper_ultralytics.nn.modules.block.C2f[32, 32, 1, True]             \n",
      "  3                  -1  1     18560  models.HyperYOLOt.pkgs.hyper_ultralytics.nn.modules.conv.Conv[32, 64, 3, 2]                \n",
      "  4                  -1  2     62912  models.HyperYOLOt.pkgs.hyper_ultralytics.nn.modules.block.MANet[64, 64, 2, True, 1, 3]       \n",
      "  5                  -1  1     73984  models.HyperYOLOt.pkgs.hyper_ultralytics.nn.modules.conv.Conv[64, 128, 3, 2]               \n",
      "  6                  -1  2    248704  models.HyperYOLOt.pkgs.hyper_ultralytics.nn.modules.block.MANet[128, 128, 2, True, 1, 3]     \n",
      "  7                  -1  1    295424  models.HyperYOLOt.pkgs.hyper_ultralytics.nn.modules.conv.Conv[128, 256, 3, 2]              \n",
      "  8                  -1  1    460288  models.HyperYOLOt.pkgs.hyper_ultralytics.nn.modules.block.C2f[256, 256, 1, True]           \n",
      "  9                  -1  1    164608  models.HyperYOLOt.pkgs.hyper_ultralytics.nn.modules.block.SPPF[256, 256, 5]                 \n",
      " 10                   0  1         0  torch.nn.modules.pooling.AvgPool2d           [8, 8, 0]                     \n",
      " 11                   2  1         0  torch.nn.modules.pooling.AvgPool2d           [4, 4, 0]                     \n",
      " 12                   4  1         0  torch.nn.modules.pooling.AvgPool2d           [2, 2, 0]                     \n",
      " 13                   9  1         0  torch.nn.modules.upsampling.Upsample         [None, 2, 'nearest']          \n",
      " 14 [10, 11, 12, 6, 13]  1         0  models.HyperYOLOt.pkgs.hyper_ultralytics.nn.modules.conv.Concat[1]                           \n",
      " 15                  -1  1     63744  models.HyperYOLOt.pkgs.hyper_ultralytics.nn.modules.conv.Conv[496, 128, 1, 1]              \n",
      " 16                  -1  1     16768  models.HyperYOLOt.pkgs.hyper_ultralytics.nn.modules.block.HyperComputeModule[128, 128, 6]                 \n",
      " 17                  -1  1    166528  models.HyperYOLOt.pkgs.hyper_ultralytics.nn.modules.block.MANet[128, 128, 1, True]           \n",
      " 18                  -1  1         0  torch.nn.modules.pooling.AvgPool2d           [2, 2, 0]                     \n",
      " 19             [-1, 9]  1         0  models.HyperYOLOt.pkgs.hyper_ultralytics.nn.modules.conv.Concat[1]                           \n",
      " 20                  -1  1     98816  models.HyperYOLOt.pkgs.hyper_ultralytics.nn.modules.conv.Conv[384, 256, 1, 1]              \n",
      " 21             [17, 6]  1         0  models.HyperYOLOt.pkgs.hyper_ultralytics.nn.modules.conv.Concat[1]                           \n",
      " 22                  -1  1    131840  models.HyperYOLOt.pkgs.hyper_ultralytics.nn.modules.block.C2f[256, 128, 1, False]          \n",
      " 23                  17  1         0  torch.nn.modules.upsampling.Upsample         [None, 2, 'nearest']          \n",
      " 24             [-1, 4]  1         0  models.HyperYOLOt.pkgs.hyper_ultralytics.nn.modules.conv.Concat[1]                           \n",
      " 25                  -1  1     37248  models.HyperYOLOt.pkgs.hyper_ultralytics.nn.modules.block.C2f[192, 64, 1, False]           \n",
      " 26                  -1  1     36992  models.HyperYOLOt.pkgs.hyper_ultralytics.nn.modules.conv.Conv[64, 64, 3, 2]                \n",
      " 27            [-1, 22]  1         0  models.HyperYOLOt.pkgs.hyper_ultralytics.nn.modules.conv.Concat[1]                           \n",
      " 28                  -1  1    123648  models.HyperYOLOt.pkgs.hyper_ultralytics.nn.modules.block.C2f[192, 128, 1, False]          \n",
      " 29                  -1  1    147712  models.HyperYOLOt.pkgs.hyper_ultralytics.nn.modules.conv.Conv[128, 128, 3, 2]              \n",
      " 30            [-1, 20]  1         0  models.HyperYOLOt.pkgs.hyper_ultralytics.nn.modules.conv.Concat[1]                           \n",
      " 31                  -1  1     98816  models.HyperYOLOt.pkgs.hyper_ultralytics.nn.modules.conv.Conv[384, 256, 1, 1]              \n",
      " 32        [25, 28, 31]  1    751507  models.HyperYOLOt.pkgs.hyper_ultralytics.nn.modules.head.Detect[1, [64, 128, 256]]           \n",
      "Hyper-YOLOt summary: 286 layers, 3010595 parameters, 3010579 gradients, 9.0 GFLOPs\n",
      "\n",
      "\u001b[34m\u001b[1mTensorBoard: \u001b[0mStart with 'tensorboard --logdir output/250422_005007/train/250422_005349_HyperYOLOt_airplane_Iter_1', view at http://localhost:6006/\n",
      "Freezing layer 'model.32.dfl.conv.weight'\n"
     ]
    },
    {
     "name": "stderr",
     "output_type": "stream",
     "text": [
      "\u001b[34m\u001b[1mtrain: \u001b[0mScanning Datasets/airplane/labels... 1051 images, 0 backgrounds, 0 corrupt: 100%|██████████| 1051/1051 [00:00<00:00, 1258.50it/s]"
     ]
    },
    {
     "name": "stdout",
     "output_type": "stream",
     "text": [
      "\u001b[34m\u001b[1mtrain: \u001b[0mNew cache created: Datasets/airplane/labels.cache\n"
     ]
    },
    {
     "name": "stderr",
     "output_type": "stream",
     "text": [
      "\n",
      "\u001b[34m\u001b[1mval: \u001b[0mScanning Datasets/airplane/labels... 351 images, 0 backgrounds, 0 corrupt: 100%|██████████| 351/351 [00:00<00:00, 712.41it/s]"
     ]
    },
    {
     "name": "stdout",
     "output_type": "stream",
     "text": [
      "\u001b[34m\u001b[1mval: \u001b[0mNew cache created: Datasets/airplane/labels.cache\n"
     ]
    },
    {
     "name": "stderr",
     "output_type": "stream",
     "text": [
      "\n"
     ]
    },
    {
     "name": "stdout",
     "output_type": "stream",
     "text": [
      "Plotting labels to output/250422_005007/train/250422_005349_HyperYOLOt_airplane_Iter_1/labels.jpg... \n",
      "\u001b[34m\u001b[1moptimizer:\u001b[0m AdamW(lr=0.003, momentum=0.9) with parameter groups 73 weight(decay=0.0), 80 weight(decay=0.0001), 80 bias(decay=0.0)\n",
      "Image sizes 640 train, 640 val\n",
      "Using 8 dataloader workers\n",
      "Logging results to \u001b[1moutput/250422_005007/train/250422_005349_HyperYOLOt_airplane_Iter_1\u001b[0m\n",
      "Starting training for 20 epochs...\n",
      "\n",
      "      Epoch    GPU_mem   box_loss   cls_loss   dfl_loss  Instances       Size\n"
     ]
    },
    {
     "name": "stderr",
     "output_type": "stream",
     "text": [
      "       1/20      4.84G      2.107      1.939      3.608         30        640: 100%|██████████| 66/66 [00:06<00:00,  9.66it/s]\n",
      "                 Class     Images  Instances      Box(P          R      mAP50  mAP50-95): 100%|██████████| 11/11 [00:02<00:00,  5.09it/s]"
     ]
    },
    {
     "name": "stdout",
     "output_type": "stream",
     "text": [
      "                   all        351        384     0.0133      0.245    0.00706    0.00164\n"
     ]
    },
    {
     "name": "stderr",
     "output_type": "stream",
     "text": [
      "\n"
     ]
    },
    {
     "name": "stdout",
     "output_type": "stream",
     "text": [
      "\n",
      "      Epoch    GPU_mem   box_loss   cls_loss   dfl_loss  Instances       Size\n"
     ]
    },
    {
     "name": "stderr",
     "output_type": "stream",
     "text": [
      "       2/20      4.85G      2.034      1.661      3.397         20        640: 100%|██████████| 66/66 [00:06<00:00, 10.25it/s]\n",
      "                 Class     Images  Instances      Box(P          R      mAP50  mAP50-95): 100%|██████████| 11/11 [00:02<00:00,  5.32it/s]"
     ]
    },
    {
     "name": "stdout",
     "output_type": "stream",
     "text": [
      "                   all        351        384    0.00104       0.25   0.000673   0.000173\n"
     ]
    },
    {
     "name": "stderr",
     "output_type": "stream",
     "text": [
      "\n"
     ]
    },
    {
     "name": "stdout",
     "output_type": "stream",
     "text": [
      "\n",
      "      Epoch    GPU_mem   box_loss   cls_loss   dfl_loss  Instances       Size\n"
     ]
    },
    {
     "name": "stderr",
     "output_type": "stream",
     "text": [
      "       3/20      4.86G       1.84      1.598      3.163         22        640: 100%|██████████| 66/66 [00:06<00:00, 10.27it/s]\n",
      "                 Class     Images  Instances      Box(P          R      mAP50  mAP50-95): 100%|██████████| 11/11 [00:01<00:00,  5.68it/s]"
     ]
    },
    {
     "name": "stdout",
     "output_type": "stream",
     "text": [
      "                   all        351        384     0.0102     0.0677    0.00471    0.00127\n"
     ]
    },
    {
     "name": "stderr",
     "output_type": "stream",
     "text": [
      "\n"
     ]
    },
    {
     "name": "stdout",
     "output_type": "stream",
     "text": [
      "\n",
      "      Epoch    GPU_mem   box_loss   cls_loss   dfl_loss  Instances       Size\n"
     ]
    },
    {
     "name": "stderr",
     "output_type": "stream",
     "text": [
      "       4/20      4.87G      1.714      1.588       2.97         16        640: 100%|██████████| 66/66 [00:06<00:00, 10.25it/s]\n",
      "                 Class     Images  Instances      Box(P          R      mAP50  mAP50-95): 100%|██████████| 11/11 [00:01<00:00,  6.01it/s]\n"
     ]
    },
    {
     "name": "stdout",
     "output_type": "stream",
     "text": [
      "                   all        351        384      0.179      0.276      0.117     0.0311\n",
      "\n",
      "      Epoch    GPU_mem   box_loss   cls_loss   dfl_loss  Instances       Size\n"
     ]
    },
    {
     "name": "stderr",
     "output_type": "stream",
     "text": [
      "       5/20      4.85G      1.581      1.512      2.802         20        640: 100%|██████████| 66/66 [00:06<00:00, 10.16it/s]\n",
      "                 Class     Images  Instances      Box(P          R      mAP50  mAP50-95): 100%|██████████| 11/11 [00:02<00:00,  5.45it/s]\n"
     ]
    },
    {
     "name": "stdout",
     "output_type": "stream",
     "text": [
      "                   all        351        384      0.175      0.367      0.119     0.0335\n",
      "\n",
      "      Epoch    GPU_mem   box_loss   cls_loss   dfl_loss  Instances       Size\n"
     ]
    },
    {
     "name": "stderr",
     "output_type": "stream",
     "text": [
      "       6/20      4.86G      1.527       1.48      2.715         30        640: 100%|██████████| 66/66 [00:06<00:00, 10.00it/s]\n",
      "                 Class     Images  Instances      Box(P          R      mAP50  mAP50-95): 100%|██████████| 11/11 [00:01<00:00,  5.98it/s]\n"
     ]
    },
    {
     "name": "stdout",
     "output_type": "stream",
     "text": [
      "                   all        351        384      0.167       0.25      0.125     0.0344\n",
      "\n",
      "      Epoch    GPU_mem   box_loss   cls_loss   dfl_loss  Instances       Size\n"
     ]
    },
    {
     "name": "stderr",
     "output_type": "stream",
     "text": [
      "       7/20      4.87G      1.477      1.458       2.63         33        640: 100%|██████████| 66/66 [00:06<00:00, 10.28it/s]\n",
      "                 Class     Images  Instances      Box(P          R      mAP50  mAP50-95): 100%|██████████| 11/11 [00:01<00:00,  5.84it/s]\n"
     ]
    },
    {
     "name": "stdout",
     "output_type": "stream",
     "text": [
      "                   all        351        384      0.132      0.417      0.119     0.0434\n",
      "\n",
      "      Epoch    GPU_mem   box_loss   cls_loss   dfl_loss  Instances       Size\n"
     ]
    },
    {
     "name": "stderr",
     "output_type": "stream",
     "text": [
      "       8/20      4.88G      1.419      1.354      2.502         26        640: 100%|██████████| 66/66 [00:06<00:00, 10.08it/s]\n",
      "                 Class     Images  Instances      Box(P          R      mAP50  mAP50-95): 100%|██████████| 11/11 [00:01<00:00,  5.85it/s]"
     ]
    },
    {
     "name": "stdout",
     "output_type": "stream",
     "text": [
      "                   all        351        384      0.391       0.35      0.317      0.105\n"
     ]
    },
    {
     "name": "stderr",
     "output_type": "stream",
     "text": [
      "\n"
     ]
    },
    {
     "name": "stdout",
     "output_type": "stream",
     "text": [
      "\n",
      "      Epoch    GPU_mem   box_loss   cls_loss   dfl_loss  Instances       Size\n"
     ]
    },
    {
     "name": "stderr",
     "output_type": "stream",
     "text": [
      "       9/20      4.87G      1.358      1.308      2.448         24        640: 100%|██████████| 66/66 [00:06<00:00, 10.12it/s]\n",
      "                 Class     Images  Instances      Box(P          R      mAP50  mAP50-95): 100%|██████████| 11/11 [00:01<00:00,  5.71it/s]"
     ]
    },
    {
     "name": "stdout",
     "output_type": "stream",
     "text": [
      "                   all        351        384      0.256      0.302        0.2     0.0666\n"
     ]
    },
    {
     "name": "stderr",
     "output_type": "stream",
     "text": [
      "\n"
     ]
    },
    {
     "name": "stdout",
     "output_type": "stream",
     "text": [
      "\n",
      "      Epoch    GPU_mem   box_loss   cls_loss   dfl_loss  Instances       Size\n"
     ]
    },
    {
     "name": "stderr",
     "output_type": "stream",
     "text": [
      "      10/20      4.87G      1.315      1.273      2.376         29        640: 100%|██████████| 66/66 [00:06<00:00, 10.28it/s]\n",
      "                 Class     Images  Instances      Box(P          R      mAP50  mAP50-95): 100%|██████████| 11/11 [00:01<00:00,  6.03it/s]"
     ]
    },
    {
     "name": "stdout",
     "output_type": "stream",
     "text": [
      "                   all        351        384      0.344      0.458      0.338       0.13\n"
     ]
    },
    {
     "name": "stderr",
     "output_type": "stream",
     "text": [
      "\n"
     ]
    },
    {
     "name": "stdout",
     "output_type": "stream",
     "text": [
      "\n",
      "      Epoch    GPU_mem   box_loss   cls_loss   dfl_loss  Instances       Size\n"
     ]
    },
    {
     "name": "stderr",
     "output_type": "stream",
     "text": [
      "      11/20      4.87G      1.292      1.238       2.34         25        640: 100%|██████████| 66/66 [00:06<00:00, 10.02it/s]\n",
      "                 Class     Images  Instances      Box(P          R      mAP50  mAP50-95): 100%|██████████| 11/11 [00:01<00:00,  5.81it/s]"
     ]
    },
    {
     "name": "stdout",
     "output_type": "stream",
     "text": [
      "                   all        351        384      0.495      0.479      0.483      0.197\n"
     ]
    },
    {
     "name": "stderr",
     "output_type": "stream",
     "text": [
      "\n"
     ]
    },
    {
     "name": "stdout",
     "output_type": "stream",
     "text": [
      "\n",
      "      Epoch    GPU_mem   box_loss   cls_loss   dfl_loss  Instances       Size\n"
     ]
    },
    {
     "name": "stderr",
     "output_type": "stream",
     "text": [
      "      12/20      4.88G      1.249      1.172      2.244         29        640: 100%|██████████| 66/66 [00:06<00:00,  9.75it/s]\n",
      "                 Class     Images  Instances      Box(P          R      mAP50  mAP50-95): 100%|██████████| 11/11 [00:02<00:00,  5.02it/s]"
     ]
    },
    {
     "name": "stdout",
     "output_type": "stream",
     "text": [
      "                   all        351        384      0.389      0.529      0.397      0.163\n"
     ]
    },
    {
     "name": "stderr",
     "output_type": "stream",
     "text": [
      "\n"
     ]
    },
    {
     "name": "stdout",
     "output_type": "stream",
     "text": [
      "\n",
      "      Epoch    GPU_mem   box_loss   cls_loss   dfl_loss  Instances       Size\n"
     ]
    },
    {
     "name": "stderr",
     "output_type": "stream",
     "text": [
      "      13/20      4.87G      1.224      1.123      2.209         21        640: 100%|██████████| 66/66 [00:06<00:00,  9.62it/s]\n",
      "                 Class     Images  Instances      Box(P          R      mAP50  mAP50-95): 100%|██████████| 11/11 [00:02<00:00,  5.36it/s]\n"
     ]
    },
    {
     "name": "stdout",
     "output_type": "stream",
     "text": [
      "                   all        351        384      0.439      0.456      0.448      0.188\n",
      "\n",
      "      Epoch    GPU_mem   box_loss   cls_loss   dfl_loss  Instances       Size\n"
     ]
    },
    {
     "name": "stderr",
     "output_type": "stream",
     "text": [
      "      14/20      4.87G      1.181      1.115      2.165         20        640: 100%|██████████| 66/66 [00:06<00:00,  9.75it/s]\n",
      "                 Class     Images  Instances      Box(P          R      mAP50  mAP50-95): 100%|██████████| 11/11 [00:02<00:00,  5.27it/s]\n"
     ]
    },
    {
     "name": "stdout",
     "output_type": "stream",
     "text": [
      "                   all        351        384      0.499      0.521      0.491      0.218\n",
      "\n",
      "      Epoch    GPU_mem   box_loss   cls_loss   dfl_loss  Instances       Size\n"
     ]
    },
    {
     "name": "stderr",
     "output_type": "stream",
     "text": [
      "      15/20      4.87G      1.155      1.087      2.134         25        640: 100%|██████████| 66/66 [00:06<00:00, 10.03it/s]\n",
      "                 Class     Images  Instances      Box(P          R      mAP50  mAP50-95): 100%|██████████| 11/11 [00:01<00:00,  6.02it/s]"
     ]
    },
    {
     "name": "stdout",
     "output_type": "stream",
     "text": [
      "                   all        351        384      0.586      0.598      0.557      0.258\n"
     ]
    },
    {
     "name": "stderr",
     "output_type": "stream",
     "text": [
      "\n"
     ]
    },
    {
     "name": "stdout",
     "output_type": "stream",
     "text": [
      "\n",
      "      Epoch    GPU_mem   box_loss   cls_loss   dfl_loss  Instances       Size\n"
     ]
    },
    {
     "name": "stderr",
     "output_type": "stream",
     "text": [
      "      16/20      4.88G       1.14      1.047       2.09         20        640: 100%|██████████| 66/66 [00:07<00:00,  9.36it/s]\n",
      "                 Class     Images  Instances      Box(P          R      mAP50  mAP50-95): 100%|██████████| 11/11 [00:02<00:00,  4.43it/s]\n"
     ]
    },
    {
     "name": "stdout",
     "output_type": "stream",
     "text": [
      "                   all        351        384      0.576      0.583      0.577      0.256\n",
      "\n",
      "      Epoch    GPU_mem   box_loss   cls_loss   dfl_loss  Instances       Size\n"
     ]
    },
    {
     "name": "stderr",
     "output_type": "stream",
     "text": [
      "      17/20      4.87G      1.138      1.035      2.081         22        640: 100%|██████████| 66/66 [00:06<00:00, 10.35it/s]\n",
      "                 Class     Images  Instances      Box(P          R      mAP50  mAP50-95): 100%|██████████| 11/11 [00:01<00:00,  5.68it/s]"
     ]
    },
    {
     "name": "stdout",
     "output_type": "stream",
     "text": [
      "                   all        351        384      0.606      0.573      0.603      0.303\n"
     ]
    },
    {
     "name": "stderr",
     "output_type": "stream",
     "text": [
      "\n"
     ]
    },
    {
     "name": "stdout",
     "output_type": "stream",
     "text": [
      "\n",
      "      Epoch    GPU_mem   box_loss   cls_loss   dfl_loss  Instances       Size\n"
     ]
    },
    {
     "name": "stderr",
     "output_type": "stream",
     "text": [
      "      18/20      4.87G      1.114       1.03      2.063         26        640: 100%|██████████| 66/66 [00:06<00:00, 10.13it/s]\n",
      "                 Class     Images  Instances      Box(P          R      mAP50  mAP50-95): 100%|██████████| 11/11 [00:02<00:00,  5.44it/s]\n"
     ]
    },
    {
     "name": "stdout",
     "output_type": "stream",
     "text": [
      "                   all        351        384      0.603      0.643      0.638      0.328\n",
      "Closing dataloader mosaic\n",
      "\n",
      "      Epoch    GPU_mem   box_loss   cls_loss   dfl_loss  Instances       Size\n"
     ]
    },
    {
     "name": "stderr",
     "output_type": "stream",
     "text": [
      "      19/20       4.9G      1.093      1.054      2.074         11        640: 100%|██████████| 66/66 [00:06<00:00,  9.59it/s]\n",
      "                 Class     Images  Instances      Box(P          R      mAP50  mAP50-95): 100%|██████████| 11/11 [00:01<00:00,  5.75it/s]"
     ]
    },
    {
     "name": "stdout",
     "output_type": "stream",
     "text": [
      "                   all        351        384       0.68      0.604      0.668      0.314\n"
     ]
    },
    {
     "name": "stderr",
     "output_type": "stream",
     "text": [
      "\n"
     ]
    },
    {
     "name": "stdout",
     "output_type": "stream",
     "text": [
      "\n",
      "      Epoch    GPU_mem   box_loss   cls_loss   dfl_loss  Instances       Size\n"
     ]
    },
    {
     "name": "stderr",
     "output_type": "stream",
     "text": [
      "      20/20      4.88G      1.033     0.9403      2.011         11        640: 100%|██████████| 66/66 [00:06<00:00, 10.10it/s]\n",
      "                 Class     Images  Instances      Box(P          R      mAP50  mAP50-95): 100%|██████████| 11/11 [00:02<00:00,  5.42it/s]"
     ]
    },
    {
     "name": "stdout",
     "output_type": "stream",
     "text": [
      "                   all        351        384      0.664      0.659      0.677      0.355\n"
     ]
    },
    {
     "name": "stderr",
     "output_type": "stream",
     "text": [
      "\n"
     ]
    },
    {
     "name": "stdout",
     "output_type": "stream",
     "text": [
      "\n",
      "20 epochs completed in 0.051 hours.\n",
      "Optimizer stripped from output/250422_005007/train/250422_005349_HyperYOLOt_airplane_Iter_1/weights/last.pt, 6.3MB\n",
      "Optimizer stripped from output/250422_005007/train/250422_005349_HyperYOLOt_airplane_Iter_1/weights/best.pt, 6.3MB\n",
      "\n",
      "Validating output/250422_005007/train/250422_005349_HyperYOLOt_airplane_Iter_1/weights/best.pt...\n",
      "Hyper-YOLOv1.0 🚀 Python-3.10.16 torch-2.8.0.dev20250417+cu128 CUDA:0 (NVIDIA GeForce RTX 5070 Ti, 16303MiB)\n",
      "Hyper-YOLOt summary (fused): 214 layers, 3004179 parameters, 0 gradients, 8.9 GFLOPs\n",
      "Hyper-YOLOt summary (fused): 214 layers, 3004179 parameters, 0 gradients, 8.9 GFLOPs\n"
     ]
    },
    {
     "name": "stderr",
     "output_type": "stream",
     "text": [
      "                 Class     Images  Instances      Box(P          R      mAP50  mAP50-95): 100%|██████████| 11/11 [00:02<00:00,  3.81it/s]\n"
     ]
    },
    {
     "name": "stdout",
     "output_type": "stream",
     "text": [
      "                   all        351        384       0.66      0.659      0.677      0.355\n",
      "                   all        351        384       0.66      0.659      0.677      0.355\n",
      "Speed: 0.2ms preprocess, 0.8ms inference, 0.0ms loss, 1.3ms postprocess per image\n",
      "Speed: 0.2ms preprocess, 0.8ms inference, 0.0ms loss, 1.3ms postprocess per image\n",
      "Saving output/250422_005007/train/250422_005349_HyperYOLOt_airplane_Iter_1/predictions.json...\n",
      "Saving output/250422_005007/train/250422_005349_HyperYOLOt_airplane_Iter_1/predictions.json...\n",
      "\n",
      "Evaluating pycocotools mAP using output/250422_005007/train/250422_005349_HyperYOLOt_airplane_Iter_1/predictions.json and /home/gamejoongsa/CV_midterm_competition_code/Datasets/airplane/annotations/instances_val2017.json...\n",
      "\n",
      "Evaluating pycocotools mAP using output/250422_005007/train/250422_005349_HyperYOLOt_airplane_Iter_1/predictions.json and /home/gamejoongsa/CV_midterm_competition_code/Datasets/airplane/annotations/instances_val2017.json...\n",
      "pycocotools unable to run: /home/gamejoongsa/CV_midterm_competition_code/Datasets/airplane/annotations/instances_val2017.json file not found\n",
      "pycocotools unable to run: /home/gamejoongsa/CV_midterm_competition_code/Datasets/airplane/annotations/instances_val2017.json file not found\n",
      "Results saved to \u001b[1moutput/250422_005007/train/250422_005349_HyperYOLOt_airplane_Iter_1\u001b[0m\n",
      "Results saved to \u001b[1moutput/250422_005007/train/250422_005349_HyperYOLOt_airplane_Iter_1\u001b[0m\n",
      "Transferred 452/452 items from pretrained weights\n",
      "Transferred 452/452 items from pretrained weights\n",
      "결과가 output/250422_005007/json/250422_005349_submission_HyperYOLOt_Iter_1_detection_results.json에 저장되었습니다.\n",
      "Ultralytics 8.3.96 🚀 Python-3.10.16 torch-2.8.0.dev20250417+cu128 CUDA:0 (NVIDIA GeForce RTX 5070 Ti, 16303MiB)\n",
      "\u001b[34m\u001b[1mengine/trainer: \u001b[0mtask=detect, mode=train, model=yolov8n.yaml, data=Datasets/airplane/data_iter_02.yaml, epochs=20, time=None, patience=100, batch=16, imgsz=640, save=True, save_period=-1, cache=False, device=cuda:0, workers=8, project=output/250422_005007/train, name=250422_005928_yolov8n_airplane_Iter_2, exist_ok=False, pretrained=False, optimizer=AdamW, verbose=True, seed=0, deterministic=True, single_cls=True, rect=False, cos_lr=True, close_mosaic=2, resume=False, amp=False, fraction=1.0, profile=False, freeze=None, multi_scale=False, overlap_mask=True, mask_ratio=4, dropout=0.0, val=True, split=val, save_json=False, save_hybrid=False, conf=None, iou=0.7, max_det=300, half=False, dnn=False, plots=True, source=None, vid_stride=1, stream_buffer=False, visualize=False, augment=False, agnostic_nms=False, classes=None, retina_masks=False, embed=None, show=False, save_frames=False, save_txt=False, save_conf=False, save_crop=False, show_labels=True, show_conf=True, show_boxes=True, line_width=None, format=torchscript, keras=False, optimize=False, int8=False, dynamic=False, simplify=True, opset=None, workspace=None, nms=False, lr0=0.003, lrf=0.01, momentum=0.9, weight_decay=0.0001, warmup_epochs=2.0, warmup_momentum=0.85, warmup_bias_lr=0.1, box=5.0, cls=0.3, dfl=1.5, pose=12.0, kobj=1.0, nbs=64, hsv_h=0.015, hsv_s=0.7, hsv_v=0.4, degrees=0.0, translate=0.1, scale=0.5, shear=0.0, perspective=0.0, flipud=0.0, fliplr=0.5, bgr=0.0, mosaic=1.0, mixup=0.0, copy_paste=0.0, copy_paste_mode=flip, auto_augment=randaugment, erasing=0.4, crop_fraction=1.0, cfg=None, tracker=botsort.yaml, save_dir=output/250422_005007/train/250422_005928_yolov8n_airplane_Iter_2\n",
      "Overriding class names with single class.\n",
      "Overriding model.yaml nc=80 with nc=1\n",
      "\n",
      "                   from  n    params  module                                       arguments                     \n",
      "  0                  -1  1       464  ultralytics.nn.modules.conv.Conv             [3, 16, 3, 2]                 \n",
      "  1                  -1  1      4672  ultralytics.nn.modules.conv.Conv             [16, 32, 3, 2]                \n",
      "  2                  -1  1      7360  ultralytics.nn.modules.block.C2f             [32, 32, 1, True]             \n",
      "  3                  -1  1     18560  ultralytics.nn.modules.conv.Conv             [32, 64, 3, 2]                \n",
      "  4                  -1  2     49664  ultralytics.nn.modules.block.C2f             [64, 64, 2, True]             \n",
      "  5                  -1  1     73984  ultralytics.nn.modules.conv.Conv             [64, 128, 3, 2]               \n",
      "  6                  -1  2    197632  ultralytics.nn.modules.block.C2f             [128, 128, 2, True]           \n",
      "  7                  -1  1    295424  ultralytics.nn.modules.conv.Conv             [128, 256, 3, 2]              \n",
      "  8                  -1  1    460288  ultralytics.nn.modules.block.C2f             [256, 256, 1, True]           \n",
      "  9                  -1  1    164608  ultralytics.nn.modules.block.SPPF            [256, 256, 5]                 \n",
      " 10                  -1  1         0  torch.nn.modules.upsampling.Upsample         [None, 2, 'nearest']          \n",
      " 11             [-1, 6]  1         0  ultralytics.nn.modules.conv.Concat           [1]                           \n",
      " 12                  -1  1    148224  ultralytics.nn.modules.block.C2f             [384, 128, 1]                 \n",
      " 13                  -1  1         0  torch.nn.modules.upsampling.Upsample         [None, 2, 'nearest']          \n",
      " 14             [-1, 4]  1         0  ultralytics.nn.modules.conv.Concat           [1]                           \n",
      " 15                  -1  1     37248  ultralytics.nn.modules.block.C2f             [192, 64, 1]                  \n",
      " 16                  -1  1     36992  ultralytics.nn.modules.conv.Conv             [64, 64, 3, 2]                \n",
      " 17            [-1, 12]  1         0  ultralytics.nn.modules.conv.Concat           [1]                           \n",
      " 18                  -1  1    123648  ultralytics.nn.modules.block.C2f             [192, 128, 1]                 \n",
      " 19                  -1  1    147712  ultralytics.nn.modules.conv.Conv             [128, 128, 3, 2]              \n",
      " 20             [-1, 9]  1         0  ultralytics.nn.modules.conv.Concat           [1]                           \n",
      " 21                  -1  1    493056  ultralytics.nn.modules.block.C2f             [384, 256, 1]                 \n",
      " 22        [15, 18, 21]  1    751507  ultralytics.nn.modules.head.Detect           [1, [64, 128, 256]]           \n",
      "YOLOv8n summary: 129 layers, 3,011,043 parameters, 3,011,027 gradients, 8.2 GFLOPs\n",
      "\n",
      "\u001b[34m\u001b[1mTensorBoard: \u001b[0mStart with 'tensorboard --logdir output/250422_005007/train/250422_005928_yolov8n_airplane_Iter_2', view at http://localhost:6006/\n",
      "Freezing layer 'model.22.dfl.conv.weight'\n"
     ]
    },
    {
     "name": "stderr",
     "output_type": "stream",
     "text": [
      "\u001b[34m\u001b[1mtrain: \u001b[0mScanning Datasets/airplane/labels... 1051 images, 0 backgrounds, 0 corrupt: 100%|██████████| 1051/1051 [00:00<00:00, 1315.69it/s]"
     ]
    },
    {
     "name": "stdout",
     "output_type": "stream",
     "text": [
      "\u001b[34m\u001b[1mtrain: \u001b[0mNew cache created: Datasets/airplane/labels.cache\n"
     ]
    },
    {
     "name": "stderr",
     "output_type": "stream",
     "text": [
      "\n",
      "\u001b[34m\u001b[1mval: \u001b[0mScanning Datasets/airplane/labels... 351 images, 0 backgrounds, 0 corrupt: 100%|██████████| 351/351 [00:00<00:00, 718.94it/s]"
     ]
    },
    {
     "name": "stdout",
     "output_type": "stream",
     "text": [
      "\u001b[34m\u001b[1mval: \u001b[0mNew cache created: Datasets/airplane/labels.cache\n"
     ]
    },
    {
     "name": "stderr",
     "output_type": "stream",
     "text": [
      "\n"
     ]
    },
    {
     "name": "stdout",
     "output_type": "stream",
     "text": [
      "Plotting labels to output/250422_005007/train/250422_005928_yolov8n_airplane_Iter_2/labels.jpg... \n",
      "\u001b[34m\u001b[1moptimizer:\u001b[0m AdamW(lr=0.003, momentum=0.9) with parameter groups 57 weight(decay=0.0), 64 weight(decay=0.0001), 63 bias(decay=0.0)\n",
      "\u001b[34m\u001b[1mTensorBoard: \u001b[0mmodel graph visualization added ✅\n",
      "Image sizes 640 train, 640 val\n",
      "Using 8 dataloader workers\n",
      "Logging results to \u001b[1moutput/250422_005007/train/250422_005928_yolov8n_airplane_Iter_2\u001b[0m\n",
      "Starting training for 20 epochs...\n",
      "\n",
      "      Epoch    GPU_mem   box_loss   cls_loss   dfl_loss  Instances       Size\n"
     ]
    },
    {
     "name": "stderr",
     "output_type": "stream",
     "text": [
      "       1/20      3.63G       2.08      1.955      3.587         20        640: 100%|██████████| 66/66 [00:06<00:00, 10.99it/s]\n",
      "                 Class     Images  Instances      Box(P          R      mAP50  mAP50-95): 100%|██████████| 11/11 [00:01<00:00,  6.42it/s]"
     ]
    },
    {
     "name": "stdout",
     "output_type": "stream",
     "text": [
      "                   all        351        386    0.00281      0.316    0.00151   0.000375\n"
     ]
    },
    {
     "name": "stderr",
     "output_type": "stream",
     "text": [
      "\n"
     ]
    },
    {
     "name": "stdout",
     "output_type": "stream",
     "text": [
      "\n",
      "      Epoch    GPU_mem   box_loss   cls_loss   dfl_loss  Instances       Size\n"
     ]
    },
    {
     "name": "stderr",
     "output_type": "stream",
     "text": [
      "       2/20      4.23G      1.937      1.732      3.299         20        640: 100%|██████████| 66/66 [00:05<00:00, 11.62it/s]\n",
      "                 Class     Images  Instances      Box(P          R      mAP50  mAP50-95): 100%|██████████| 11/11 [00:01<00:00,  7.52it/s]"
     ]
    },
    {
     "name": "stdout",
     "output_type": "stream",
     "text": [
      "                   all        351        386    0.00684      0.171    0.00406   0.000807\n"
     ]
    },
    {
     "name": "stderr",
     "output_type": "stream",
     "text": [
      "\n"
     ]
    },
    {
     "name": "stdout",
     "output_type": "stream",
     "text": [
      "\n",
      "      Epoch    GPU_mem   box_loss   cls_loss   dfl_loss  Instances       Size\n"
     ]
    },
    {
     "name": "stderr",
     "output_type": "stream",
     "text": [
      "       3/20      4.23G      1.789      1.671      3.118         29        640: 100%|██████████| 66/66 [00:05<00:00, 12.03it/s]\n",
      "                 Class     Images  Instances      Box(P          R      mAP50  mAP50-95): 100%|██████████| 11/11 [00:01<00:00,  5.72it/s]"
     ]
    },
    {
     "name": "stdout",
     "output_type": "stream",
     "text": [
      "                   all        351        386    0.00672       0.43    0.00425    0.00138\n"
     ]
    },
    {
     "name": "stderr",
     "output_type": "stream",
     "text": [
      "\n"
     ]
    },
    {
     "name": "stdout",
     "output_type": "stream",
     "text": [
      "\n",
      "      Epoch    GPU_mem   box_loss   cls_loss   dfl_loss  Instances       Size\n"
     ]
    },
    {
     "name": "stderr",
     "output_type": "stream",
     "text": [
      "       4/20      4.25G      1.598      1.625      2.904         24        640: 100%|██████████| 66/66 [00:05<00:00, 11.89it/s]\n",
      "                 Class     Images  Instances      Box(P          R      mAP50  mAP50-95): 100%|██████████| 11/11 [00:01<00:00,  7.37it/s]"
     ]
    },
    {
     "name": "stdout",
     "output_type": "stream",
     "text": [
      "                   all        351        386     0.0261      0.324     0.0177    0.00617\n"
     ]
    },
    {
     "name": "stderr",
     "output_type": "stream",
     "text": [
      "\n"
     ]
    },
    {
     "name": "stdout",
     "output_type": "stream",
     "text": [
      "\n",
      "      Epoch    GPU_mem   box_loss   cls_loss   dfl_loss  Instances       Size\n"
     ]
    },
    {
     "name": "stderr",
     "output_type": "stream",
     "text": [
      "       5/20      4.26G      1.529      1.556      2.815         23        640: 100%|██████████| 66/66 [00:05<00:00, 12.55it/s]\n",
      "                 Class     Images  Instances      Box(P          R      mAP50  mAP50-95): 100%|██████████| 11/11 [00:01<00:00,  7.22it/s]"
     ]
    },
    {
     "name": "stdout",
     "output_type": "stream",
     "text": [
      "                   all        351        386      0.166      0.199     0.0853     0.0245\n"
     ]
    },
    {
     "name": "stderr",
     "output_type": "stream",
     "text": [
      "\n"
     ]
    },
    {
     "name": "stdout",
     "output_type": "stream",
     "text": [
      "\n",
      "      Epoch    GPU_mem   box_loss   cls_loss   dfl_loss  Instances       Size\n"
     ]
    },
    {
     "name": "stderr",
     "output_type": "stream",
     "text": [
      "       6/20      4.28G      1.499      1.501      2.716         32        640: 100%|██████████| 66/66 [00:05<00:00, 11.81it/s]\n",
      "                 Class     Images  Instances      Box(P          R      mAP50  mAP50-95): 100%|██████████| 11/11 [00:01<00:00,  7.20it/s]"
     ]
    },
    {
     "name": "stdout",
     "output_type": "stream",
     "text": [
      "                   all        351        386      0.176      0.446      0.208     0.0633\n"
     ]
    },
    {
     "name": "stderr",
     "output_type": "stream",
     "text": [
      "\n"
     ]
    },
    {
     "name": "stdout",
     "output_type": "stream",
     "text": [
      "\n",
      "      Epoch    GPU_mem   box_loss   cls_loss   dfl_loss  Instances       Size\n"
     ]
    },
    {
     "name": "stderr",
     "output_type": "stream",
     "text": [
      "       7/20       4.3G      1.416      1.426      2.609         28        640: 100%|██████████| 66/66 [00:05<00:00, 12.22it/s]\n",
      "                 Class     Images  Instances      Box(P          R      mAP50  mAP50-95): 100%|██████████| 11/11 [00:01<00:00,  6.81it/s]"
     ]
    },
    {
     "name": "stdout",
     "output_type": "stream",
     "text": [
      "                   all        351        386      0.386       0.44      0.311      0.106\n"
     ]
    },
    {
     "name": "stderr",
     "output_type": "stream",
     "text": [
      "\n"
     ]
    },
    {
     "name": "stdout",
     "output_type": "stream",
     "text": [
      "\n",
      "      Epoch    GPU_mem   box_loss   cls_loss   dfl_loss  Instances       Size\n"
     ]
    },
    {
     "name": "stderr",
     "output_type": "stream",
     "text": [
      "       8/20      4.31G      1.373      1.377      2.528         16        640: 100%|██████████| 66/66 [00:05<00:00, 11.51it/s]\n",
      "                 Class     Images  Instances      Box(P          R      mAP50  mAP50-95): 100%|██████████| 11/11 [00:01<00:00,  6.86it/s]"
     ]
    },
    {
     "name": "stdout",
     "output_type": "stream",
     "text": [
      "                   all        351        386      0.412      0.479      0.387      0.134\n"
     ]
    },
    {
     "name": "stderr",
     "output_type": "stream",
     "text": [
      "\n"
     ]
    },
    {
     "name": "stdout",
     "output_type": "stream",
     "text": [
      "\n",
      "      Epoch    GPU_mem   box_loss   cls_loss   dfl_loss  Instances       Size\n"
     ]
    },
    {
     "name": "stderr",
     "output_type": "stream",
     "text": [
      "       9/20      4.33G      1.356      1.343      2.478         29        640: 100%|██████████| 66/66 [00:05<00:00, 12.40it/s]\n",
      "                 Class     Images  Instances      Box(P          R      mAP50  mAP50-95): 100%|██████████| 11/11 [00:01<00:00,  6.84it/s]\n"
     ]
    },
    {
     "name": "stdout",
     "output_type": "stream",
     "text": [
      "                   all        351        386      0.368      0.408      0.299      0.106\n",
      "\n",
      "      Epoch    GPU_mem   box_loss   cls_loss   dfl_loss  Instances       Size\n"
     ]
    },
    {
     "name": "stderr",
     "output_type": "stream",
     "text": [
      "      10/20      4.35G       1.29      1.294      2.392         22        640: 100%|██████████| 66/66 [00:05<00:00, 11.92it/s]\n",
      "                 Class     Images  Instances      Box(P          R      mAP50  mAP50-95): 100%|██████████| 11/11 [00:01<00:00,  6.93it/s]"
     ]
    },
    {
     "name": "stdout",
     "output_type": "stream",
     "text": [
      "                   all        351        386      0.495      0.514      0.462      0.173\n"
     ]
    },
    {
     "name": "stderr",
     "output_type": "stream",
     "text": [
      "\n"
     ]
    },
    {
     "name": "stdout",
     "output_type": "stream",
     "text": [
      "\n",
      "      Epoch    GPU_mem   box_loss   cls_loss   dfl_loss  Instances       Size\n"
     ]
    },
    {
     "name": "stderr",
     "output_type": "stream",
     "text": [
      "      11/20      4.36G      1.251      1.218      2.299         22        640: 100%|██████████| 66/66 [00:05<00:00, 12.19it/s]\n",
      "                 Class     Images  Instances      Box(P          R      mAP50  mAP50-95): 100%|██████████| 11/11 [00:01<00:00,  7.31it/s]"
     ]
    },
    {
     "name": "stdout",
     "output_type": "stream",
     "text": [
      "                   all        351        386      0.551      0.602      0.549      0.224\n"
     ]
    },
    {
     "name": "stderr",
     "output_type": "stream",
     "text": [
      "\n"
     ]
    },
    {
     "name": "stdout",
     "output_type": "stream",
     "text": [
      "\n",
      "      Epoch    GPU_mem   box_loss   cls_loss   dfl_loss  Instances       Size\n"
     ]
    },
    {
     "name": "stderr",
     "output_type": "stream",
     "text": [
      "      12/20      4.38G      1.242      1.195      2.298         28        640: 100%|██████████| 66/66 [00:05<00:00, 11.76it/s]\n",
      "                 Class     Images  Instances      Box(P          R      mAP50  mAP50-95): 100%|██████████| 11/11 [00:01<00:00,  6.37it/s]"
     ]
    },
    {
     "name": "stdout",
     "output_type": "stream",
     "text": [
      "                   all        351        386      0.394      0.383      0.314      0.102\n"
     ]
    },
    {
     "name": "stderr",
     "output_type": "stream",
     "text": [
      "\n"
     ]
    },
    {
     "name": "stdout",
     "output_type": "stream",
     "text": [
      "\n",
      "      Epoch    GPU_mem   box_loss   cls_loss   dfl_loss  Instances       Size\n"
     ]
    },
    {
     "name": "stderr",
     "output_type": "stream",
     "text": [
      "      13/20      4.38G      1.189      1.157      2.207         21        640: 100%|██████████| 66/66 [00:05<00:00, 11.35it/s]\n",
      "                 Class     Images  Instances      Box(P          R      mAP50  mAP50-95): 100%|██████████| 11/11 [00:01<00:00,  7.06it/s]"
     ]
    },
    {
     "name": "stdout",
     "output_type": "stream",
     "text": [
      "                   all        351        386      0.554      0.521       0.54      0.236\n"
     ]
    },
    {
     "name": "stderr",
     "output_type": "stream",
     "text": [
      "\n"
     ]
    },
    {
     "name": "stdout",
     "output_type": "stream",
     "text": [
      "\n",
      "      Epoch    GPU_mem   box_loss   cls_loss   dfl_loss  Instances       Size\n"
     ]
    },
    {
     "name": "stderr",
     "output_type": "stream",
     "text": [
      "      14/20      4.38G       1.15      1.111      2.162         28        640: 100%|██████████| 66/66 [00:06<00:00, 10.91it/s]\n",
      "                 Class     Images  Instances      Box(P          R      mAP50  mAP50-95): 100%|██████████| 11/11 [00:01<00:00,  7.00it/s]"
     ]
    },
    {
     "name": "stdout",
     "output_type": "stream",
     "text": [
      "                   all        351        386       0.55      0.631      0.598      0.258\n"
     ]
    },
    {
     "name": "stderr",
     "output_type": "stream",
     "text": [
      "\n"
     ]
    },
    {
     "name": "stdout",
     "output_type": "stream",
     "text": [
      "\n",
      "      Epoch    GPU_mem   box_loss   cls_loss   dfl_loss  Instances       Size\n"
     ]
    },
    {
     "name": "stderr",
     "output_type": "stream",
     "text": [
      "      15/20      4.38G      1.132      1.087      2.144         19        640: 100%|██████████| 66/66 [00:05<00:00, 12.30it/s]\n",
      "                 Class     Images  Instances      Box(P          R      mAP50  mAP50-95): 100%|██████████| 11/11 [00:01<00:00,  5.94it/s]"
     ]
    },
    {
     "name": "stdout",
     "output_type": "stream",
     "text": [
      "                   all        351        386      0.597      0.645      0.627       0.29\n"
     ]
    },
    {
     "name": "stderr",
     "output_type": "stream",
     "text": [
      "\n"
     ]
    },
    {
     "name": "stdout",
     "output_type": "stream",
     "text": [
      "\n",
      "      Epoch    GPU_mem   box_loss   cls_loss   dfl_loss  Instances       Size\n"
     ]
    },
    {
     "name": "stderr",
     "output_type": "stream",
     "text": [
      "      16/20      4.38G      1.119      1.073      2.122         21        640: 100%|██████████| 66/66 [00:05<00:00, 12.14it/s]\n",
      "                 Class     Images  Instances      Box(P          R      mAP50  mAP50-95): 100%|██████████| 11/11 [00:01<00:00,  5.92it/s]"
     ]
    },
    {
     "name": "stdout",
     "output_type": "stream",
     "text": [
      "                   all        351        386      0.636      0.609      0.659      0.303\n"
     ]
    },
    {
     "name": "stderr",
     "output_type": "stream",
     "text": [
      "\n"
     ]
    },
    {
     "name": "stdout",
     "output_type": "stream",
     "text": [
      "\n",
      "      Epoch    GPU_mem   box_loss   cls_loss   dfl_loss  Instances       Size\n"
     ]
    },
    {
     "name": "stderr",
     "output_type": "stream",
     "text": [
      "      17/20      4.38G      1.087      1.029      2.065         29        640: 100%|██████████| 66/66 [00:05<00:00, 12.46it/s]\n",
      "                 Class     Images  Instances      Box(P          R      mAP50  mAP50-95): 100%|██████████| 11/11 [00:01<00:00,  6.11it/s]"
     ]
    },
    {
     "name": "stdout",
     "output_type": "stream",
     "text": [
      "                   all        351        386      0.642      0.637      0.671      0.317\n"
     ]
    },
    {
     "name": "stderr",
     "output_type": "stream",
     "text": [
      "\n"
     ]
    },
    {
     "name": "stdout",
     "output_type": "stream",
     "text": [
      "\n",
      "      Epoch    GPU_mem   box_loss   cls_loss   dfl_loss  Instances       Size\n"
     ]
    },
    {
     "name": "stderr",
     "output_type": "stream",
     "text": [
      "      18/20      4.38G       1.09      1.021      2.071         35        640: 100%|██████████| 66/66 [00:05<00:00, 11.96it/s]\n",
      "                 Class     Images  Instances      Box(P          R      mAP50  mAP50-95): 100%|██████████| 11/11 [00:01<00:00,  6.35it/s]"
     ]
    },
    {
     "name": "stdout",
     "output_type": "stream",
     "text": [
      "                   all        351        386      0.685      0.658      0.672      0.328\n"
     ]
    },
    {
     "name": "stderr",
     "output_type": "stream",
     "text": [
      "\n"
     ]
    },
    {
     "name": "stdout",
     "output_type": "stream",
     "text": [
      "Closing dataloader mosaic\n",
      "\n",
      "      Epoch    GPU_mem   box_loss   cls_loss   dfl_loss  Instances       Size\n"
     ]
    },
    {
     "name": "stderr",
     "output_type": "stream",
     "text": [
      "      19/20      4.38G      1.043      1.038      2.025         11        640: 100%|██████████| 66/66 [00:05<00:00, 11.42it/s]\n",
      "                 Class     Images  Instances      Box(P          R      mAP50  mAP50-95): 100%|██████████| 11/11 [00:01<00:00,  7.57it/s]"
     ]
    },
    {
     "name": "stdout",
     "output_type": "stream",
     "text": [
      "                   all        351        386      0.679      0.663      0.687      0.332\n"
     ]
    },
    {
     "name": "stderr",
     "output_type": "stream",
     "text": [
      "\n"
     ]
    },
    {
     "name": "stdout",
     "output_type": "stream",
     "text": [
      "\n",
      "      Epoch    GPU_mem   box_loss   cls_loss   dfl_loss  Instances       Size\n"
     ]
    },
    {
     "name": "stderr",
     "output_type": "stream",
     "text": [
      "      20/20      4.38G      1.022     0.9351      2.009         11        640: 100%|██████████| 66/66 [00:05<00:00, 12.33it/s]\n",
      "                 Class     Images  Instances      Box(P          R      mAP50  mAP50-95): 100%|██████████| 11/11 [00:01<00:00,  6.51it/s]"
     ]
    },
    {
     "name": "stdout",
     "output_type": "stream",
     "text": [
      "                   all        351        386      0.676      0.681      0.708       0.35\n"
     ]
    },
    {
     "name": "stderr",
     "output_type": "stream",
     "text": [
      "\n"
     ]
    },
    {
     "name": "stdout",
     "output_type": "stream",
     "text": [
      "\n",
      "20 epochs completed in 0.042 hours.\n",
      "Optimizer stripped from output/250422_005007/train/250422_005928_yolov8n_airplane_Iter_2/weights/last.pt, 6.2MB\n",
      "Optimizer stripped from output/250422_005007/train/250422_005928_yolov8n_airplane_Iter_2/weights/best.pt, 6.2MB\n",
      "\n",
      "Validating output/250422_005007/train/250422_005928_yolov8n_airplane_Iter_2/weights/best.pt...\n",
      "Ultralytics 8.3.96 🚀 Python-3.10.16 torch-2.8.0.dev20250417+cu128 CUDA:0 (NVIDIA GeForce RTX 5070 Ti, 16303MiB)\n",
      "YOLOv8n summary (fused): 72 layers, 3,005,843 parameters, 0 gradients, 8.1 GFLOPs\n"
     ]
    },
    {
     "name": "stderr",
     "output_type": "stream",
     "text": [
      "                 Class     Images  Instances      Box(P          R      mAP50  mAP50-95): 100%|██████████| 11/11 [00:02<00:00,  5.12it/s]\n"
     ]
    },
    {
     "name": "stdout",
     "output_type": "stream",
     "text": [
      "                   all        351        386      0.673      0.679      0.705       0.35\n",
      "Speed: 0.2ms preprocess, 1.0ms inference, 0.0ms loss, 1.1ms postprocess per image\n",
      "Results saved to \u001b[1moutput/250422_005007/train/250422_005928_yolov8n_airplane_Iter_2\u001b[0m\n",
      "Transferred 355/355 items from pretrained weights\n",
      "결과가 output/250422_005007/json/250422_005928_submission_YOLOv8n_Iter_2_detection_results.json에 저장되었습니다.\n",
      "\n",
      "                   from  n    params  module                                       arguments                     \n",
      "\n",
      "                   from  n    params  module                                       arguments                     \n",
      "  0                  -1  1       464  models.HyperYOLOt.pkgs.hyper_ultralytics.nn.modules.conv.Conv[3, 16, 3, 2]                 \n",
      "  0                  -1  1       464  models.HyperYOLOt.pkgs.hyper_ultralytics.nn.modules.conv.Conv[3, 16, 3, 2]                 \n",
      "  1                  -1  1      4672  models.HyperYOLOt.pkgs.hyper_ultralytics.nn.modules.conv.Conv[16, 32, 3, 2]                \n",
      "  1                  -1  1      4672  models.HyperYOLOt.pkgs.hyper_ultralytics.nn.modules.conv.Conv[16, 32, 3, 2]                \n",
      "  2                  -1  1      7360  models.HyperYOLOt.pkgs.hyper_ultralytics.nn.modules.block.C2f[32, 32, 1, True]             \n",
      "  2                  -1  1      7360  models.HyperYOLOt.pkgs.hyper_ultralytics.nn.modules.block.C2f[32, 32, 1, True]             \n",
      "  3                  -1  1     18560  models.HyperYOLOt.pkgs.hyper_ultralytics.nn.modules.conv.Conv[32, 64, 3, 2]                \n",
      "  3                  -1  1     18560  models.HyperYOLOt.pkgs.hyper_ultralytics.nn.modules.conv.Conv[32, 64, 3, 2]                \n",
      "  4                  -1  2     62912  models.HyperYOLOt.pkgs.hyper_ultralytics.nn.modules.block.MANet[64, 64, 2, True, 1, 3]       \n",
      "  4                  -1  2     62912  models.HyperYOLOt.pkgs.hyper_ultralytics.nn.modules.block.MANet[64, 64, 2, True, 1, 3]       \n",
      "  5                  -1  1     73984  models.HyperYOLOt.pkgs.hyper_ultralytics.nn.modules.conv.Conv[64, 128, 3, 2]               \n",
      "  5                  -1  1     73984  models.HyperYOLOt.pkgs.hyper_ultralytics.nn.modules.conv.Conv[64, 128, 3, 2]               \n",
      "  6                  -1  2    248704  models.HyperYOLOt.pkgs.hyper_ultralytics.nn.modules.block.MANet[128, 128, 2, True, 1, 3]     \n",
      "  6                  -1  2    248704  models.HyperYOLOt.pkgs.hyper_ultralytics.nn.modules.block.MANet[128, 128, 2, True, 1, 3]     \n",
      "  7                  -1  1    295424  models.HyperYOLOt.pkgs.hyper_ultralytics.nn.modules.conv.Conv[128, 256, 3, 2]              \n",
      "  7                  -1  1    295424  models.HyperYOLOt.pkgs.hyper_ultralytics.nn.modules.conv.Conv[128, 256, 3, 2]              \n",
      "  8                  -1  1    460288  models.HyperYOLOt.pkgs.hyper_ultralytics.nn.modules.block.C2f[256, 256, 1, True]           \n",
      "  8                  -1  1    460288  models.HyperYOLOt.pkgs.hyper_ultralytics.nn.modules.block.C2f[256, 256, 1, True]           \n",
      "  9                  -1  1    164608  models.HyperYOLOt.pkgs.hyper_ultralytics.nn.modules.block.SPPF[256, 256, 5]                 \n",
      "  9                  -1  1    164608  models.HyperYOLOt.pkgs.hyper_ultralytics.nn.modules.block.SPPF[256, 256, 5]                 \n",
      " 10                   0  1         0  torch.nn.modules.pooling.AvgPool2d           [8, 8, 0]                     \n",
      " 10                   0  1         0  torch.nn.modules.pooling.AvgPool2d           [8, 8, 0]                     \n",
      " 11                   2  1         0  torch.nn.modules.pooling.AvgPool2d           [4, 4, 0]                     \n",
      " 11                   2  1         0  torch.nn.modules.pooling.AvgPool2d           [4, 4, 0]                     \n",
      " 12                   4  1         0  torch.nn.modules.pooling.AvgPool2d           [2, 2, 0]                     \n",
      " 12                   4  1         0  torch.nn.modules.pooling.AvgPool2d           [2, 2, 0]                     \n",
      " 13                   9  1         0  torch.nn.modules.upsampling.Upsample         [None, 2, 'nearest']          \n",
      " 13                   9  1         0  torch.nn.modules.upsampling.Upsample         [None, 2, 'nearest']          \n",
      " 14 [10, 11, 12, 6, 13]  1         0  models.HyperYOLOt.pkgs.hyper_ultralytics.nn.modules.conv.Concat[1]                           \n",
      " 14 [10, 11, 12, 6, 13]  1         0  models.HyperYOLOt.pkgs.hyper_ultralytics.nn.modules.conv.Concat[1]                           \n",
      " 15                  -1  1     63744  models.HyperYOLOt.pkgs.hyper_ultralytics.nn.modules.conv.Conv[496, 128, 1, 1]              \n",
      " 15                  -1  1     63744  models.HyperYOLOt.pkgs.hyper_ultralytics.nn.modules.conv.Conv[496, 128, 1, 1]              \n",
      " 16                  -1  1     16768  models.HyperYOLOt.pkgs.hyper_ultralytics.nn.modules.block.HyperComputeModule[128, 128, 6]                 \n",
      " 16                  -1  1     16768  models.HyperYOLOt.pkgs.hyper_ultralytics.nn.modules.block.HyperComputeModule[128, 128, 6]                 \n",
      " 17                  -1  1    166528  models.HyperYOLOt.pkgs.hyper_ultralytics.nn.modules.block.MANet[128, 128, 1, True]           \n",
      " 17                  -1  1    166528  models.HyperYOLOt.pkgs.hyper_ultralytics.nn.modules.block.MANet[128, 128, 1, True]           \n",
      " 18                  -1  1         0  torch.nn.modules.pooling.AvgPool2d           [2, 2, 0]                     \n",
      " 18                  -1  1         0  torch.nn.modules.pooling.AvgPool2d           [2, 2, 0]                     \n",
      " 19             [-1, 9]  1         0  models.HyperYOLOt.pkgs.hyper_ultralytics.nn.modules.conv.Concat[1]                           \n",
      " 19             [-1, 9]  1         0  models.HyperYOLOt.pkgs.hyper_ultralytics.nn.modules.conv.Concat[1]                           \n",
      " 20                  -1  1     98816  models.HyperYOLOt.pkgs.hyper_ultralytics.nn.modules.conv.Conv[384, 256, 1, 1]              \n",
      " 20                  -1  1     98816  models.HyperYOLOt.pkgs.hyper_ultralytics.nn.modules.conv.Conv[384, 256, 1, 1]              \n",
      " 21             [17, 6]  1         0  models.HyperYOLOt.pkgs.hyper_ultralytics.nn.modules.conv.Concat[1]                           \n",
      " 21             [17, 6]  1         0  models.HyperYOLOt.pkgs.hyper_ultralytics.nn.modules.conv.Concat[1]                           \n",
      " 22                  -1  1    131840  models.HyperYOLOt.pkgs.hyper_ultralytics.nn.modules.block.C2f[256, 128, 1, False]          \n",
      " 22                  -1  1    131840  models.HyperYOLOt.pkgs.hyper_ultralytics.nn.modules.block.C2f[256, 128, 1, False]          \n",
      " 23                  17  1         0  torch.nn.modules.upsampling.Upsample         [None, 2, 'nearest']          \n",
      " 23                  17  1         0  torch.nn.modules.upsampling.Upsample         [None, 2, 'nearest']          \n",
      " 24             [-1, 4]  1         0  models.HyperYOLOt.pkgs.hyper_ultralytics.nn.modules.conv.Concat[1]                           \n",
      " 24             [-1, 4]  1         0  models.HyperYOLOt.pkgs.hyper_ultralytics.nn.modules.conv.Concat[1]                           \n",
      " 25                  -1  1     37248  models.HyperYOLOt.pkgs.hyper_ultralytics.nn.modules.block.C2f[192, 64, 1, False]           \n",
      " 25                  -1  1     37248  models.HyperYOLOt.pkgs.hyper_ultralytics.nn.modules.block.C2f[192, 64, 1, False]           \n",
      " 26                  -1  1     36992  models.HyperYOLOt.pkgs.hyper_ultralytics.nn.modules.conv.Conv[64, 64, 3, 2]                \n",
      " 26                  -1  1     36992  models.HyperYOLOt.pkgs.hyper_ultralytics.nn.modules.conv.Conv[64, 64, 3, 2]                \n",
      " 27            [-1, 22]  1         0  models.HyperYOLOt.pkgs.hyper_ultralytics.nn.modules.conv.Concat[1]                           \n",
      " 27            [-1, 22]  1         0  models.HyperYOLOt.pkgs.hyper_ultralytics.nn.modules.conv.Concat[1]                           \n",
      " 28                  -1  1    123648  models.HyperYOLOt.pkgs.hyper_ultralytics.nn.modules.block.C2f[192, 128, 1, False]          \n",
      " 28                  -1  1    123648  models.HyperYOLOt.pkgs.hyper_ultralytics.nn.modules.block.C2f[192, 128, 1, False]          \n",
      " 29                  -1  1    147712  models.HyperYOLOt.pkgs.hyper_ultralytics.nn.modules.conv.Conv[128, 128, 3, 2]              \n",
      " 29                  -1  1    147712  models.HyperYOLOt.pkgs.hyper_ultralytics.nn.modules.conv.Conv[128, 128, 3, 2]              \n",
      " 30            [-1, 20]  1         0  models.HyperYOLOt.pkgs.hyper_ultralytics.nn.modules.conv.Concat[1]                           \n",
      " 30            [-1, 20]  1         0  models.HyperYOLOt.pkgs.hyper_ultralytics.nn.modules.conv.Concat[1]                           \n",
      " 31                  -1  1     98816  models.HyperYOLOt.pkgs.hyper_ultralytics.nn.modules.conv.Conv[384, 256, 1, 1]              \n",
      " 31                  -1  1     98816  models.HyperYOLOt.pkgs.hyper_ultralytics.nn.modules.conv.Conv[384, 256, 1, 1]              \n",
      " 32        [25, 28, 31]  1    897664  models.HyperYOLOt.pkgs.hyper_ultralytics.nn.modules.head.Detect[80, [64, 128, 256]]          \n",
      " 32        [25, 28, 31]  1    897664  models.HyperYOLOt.pkgs.hyper_ultralytics.nn.modules.head.Detect[80, [64, 128, 256]]          \n",
      "Hyper-YOLOt summary: 286 layers, 3156752 parameters, 3156736 gradients, 9.7 GFLOPs\n",
      "Hyper-YOLOt summary: 286 layers, 3156752 parameters, 3156736 gradients, 9.7 GFLOPs\n",
      "\n",
      "\n",
      "Hyper-YOLOv1.0 🚀 Python-3.10.16 torch-2.8.0.dev20250417+cu128 CUDA:0 (NVIDIA GeForce RTX 5070 Ti, 16303MiB)\n",
      "Hyper-YOLOv1.0 🚀 Python-3.10.16 torch-2.8.0.dev20250417+cu128 CUDA:0 (NVIDIA GeForce RTX 5070 Ti, 16303MiB)\n",
      "\u001b[34m\u001b[1mengine/trainer: \u001b[0mtask=detect, mode=train, model=HyperYOLOt.yaml, data=Datasets/airplane/data_iter_02.yaml, epochs=20, patience=100, batch=16, imgsz=640, save=True, val_period=1, start_val_epoch=0, save_period=-1, cache=False, device=cuda:0, workers=8, project=output/250422_005007/train, name=250422_010313_HyperYOLOt_airplane_Iter_2, exist_ok=False, pretrained=False, optimizer=AdamW, verbose=True, seed=0, deterministic=True, single_cls=True, rect=False, cos_lr=True, close_mosaic=2, resume=False, amp=False, fraction=1.0, profile=False, freeze=None, overlap_mask=True, mask_ratio=4, dropout=0.0, val=True, split=val, save_json=False, save_hybrid=False, conf=0.001, iou=0.7, max_det=300, half=True, dnn=False, plots=True, source=None, vid_stride=1, stream_buffer=False, visualize=False, augment=False, agnostic_nms=False, classes=None, retina_masks=False, show=False, save_frames=False, save_txt=False, save_conf=False, save_crop=False, show_labels=False, show_conf=False, show_boxes=False, line_width=1, format=onnx, keras=False, optimize=False, int8=False, dynamic=False, simplify=True, opset=None, workspace=4, nms=False, lr0=0.003, lrf=0.01, momentum=0.9, weight_decay=0.0001, warmup_epochs=2.0, warmup_momentum=0.85, warmup_bias_lr=0.1, box=5.0, cls=0.3, dfl=1.5, pose=12.0, kobj=1.0, label_smoothing=0.0, nbs=64, hsv_h=0.015, hsv_s=0.7, hsv_v=0.4, degrees=0.0, translate=0.1, scale=0.5, shear=0.0, perspective=0.0, flipud=0.0, fliplr=0.5, mosaic=1.0, mixup=0.0, copy_paste=0.0, cfg=None, tracker=botsort.yaml, save_dir=output/250422_005007/train/250422_010313_HyperYOLOt_airplane_Iter_2\n",
      "\u001b[34m\u001b[1mengine/trainer: \u001b[0mtask=detect, mode=train, model=HyperYOLOt.yaml, data=Datasets/airplane/data_iter_02.yaml, epochs=20, patience=100, batch=16, imgsz=640, save=True, val_period=1, start_val_epoch=0, save_period=-1, cache=False, device=cuda:0, workers=8, project=output/250422_005007/train, name=250422_010313_HyperYOLOt_airplane_Iter_2, exist_ok=False, pretrained=False, optimizer=AdamW, verbose=True, seed=0, deterministic=True, single_cls=True, rect=False, cos_lr=True, close_mosaic=2, resume=False, amp=False, fraction=1.0, profile=False, freeze=None, overlap_mask=True, mask_ratio=4, dropout=0.0, val=True, split=val, save_json=False, save_hybrid=False, conf=0.001, iou=0.7, max_det=300, half=True, dnn=False, plots=True, source=None, vid_stride=1, stream_buffer=False, visualize=False, augment=False, agnostic_nms=False, classes=None, retina_masks=False, show=False, save_frames=False, save_txt=False, save_conf=False, save_crop=False, show_labels=False, show_conf=False, show_boxes=False, line_width=1, format=onnx, keras=False, optimize=False, int8=False, dynamic=False, simplify=True, opset=None, workspace=4, nms=False, lr0=0.003, lrf=0.01, momentum=0.9, weight_decay=0.0001, warmup_epochs=2.0, warmup_momentum=0.85, warmup_bias_lr=0.1, box=5.0, cls=0.3, dfl=1.5, pose=12.0, kobj=1.0, label_smoothing=0.0, nbs=64, hsv_h=0.015, hsv_s=0.7, hsv_v=0.4, degrees=0.0, translate=0.1, scale=0.5, shear=0.0, perspective=0.0, flipud=0.0, fliplr=0.5, mosaic=1.0, mixup=0.0, copy_paste=0.0, cfg=None, tracker=botsort.yaml, save_dir=output/250422_005007/train/250422_010313_HyperYOLOt_airplane_Iter_2\n",
      "Overriding model.yaml nc=80 with nc=1\n",
      "Overriding model.yaml nc=80 with nc=1\n",
      "\n",
      "                   from  n    params  module                                       arguments                     \n",
      "\n",
      "                   from  n    params  module                                       arguments                     \n",
      "  0                  -1  1       464  models.HyperYOLOt.pkgs.hyper_ultralytics.nn.modules.conv.Conv[3, 16, 3, 2]                 \n",
      "  0                  -1  1       464  models.HyperYOLOt.pkgs.hyper_ultralytics.nn.modules.conv.Conv[3, 16, 3, 2]                 \n",
      "  1                  -1  1      4672  models.HyperYOLOt.pkgs.hyper_ultralytics.nn.modules.conv.Conv[16, 32, 3, 2]                \n",
      "  1                  -1  1      4672  models.HyperYOLOt.pkgs.hyper_ultralytics.nn.modules.conv.Conv[16, 32, 3, 2]                \n",
      "  2                  -1  1      7360  models.HyperYOLOt.pkgs.hyper_ultralytics.nn.modules.block.C2f[32, 32, 1, True]             \n",
      "  2                  -1  1      7360  models.HyperYOLOt.pkgs.hyper_ultralytics.nn.modules.block.C2f[32, 32, 1, True]             \n",
      "  3                  -1  1     18560  models.HyperYOLOt.pkgs.hyper_ultralytics.nn.modules.conv.Conv[32, 64, 3, 2]                \n",
      "  3                  -1  1     18560  models.HyperYOLOt.pkgs.hyper_ultralytics.nn.modules.conv.Conv[32, 64, 3, 2]                \n",
      "  4                  -1  2     62912  models.HyperYOLOt.pkgs.hyper_ultralytics.nn.modules.block.MANet[64, 64, 2, True, 1, 3]       \n",
      "  4                  -1  2     62912  models.HyperYOLOt.pkgs.hyper_ultralytics.nn.modules.block.MANet[64, 64, 2, True, 1, 3]       \n",
      "  5                  -1  1     73984  models.HyperYOLOt.pkgs.hyper_ultralytics.nn.modules.conv.Conv[64, 128, 3, 2]               \n",
      "  5                  -1  1     73984  models.HyperYOLOt.pkgs.hyper_ultralytics.nn.modules.conv.Conv[64, 128, 3, 2]               \n",
      "  6                  -1  2    248704  models.HyperYOLOt.pkgs.hyper_ultralytics.nn.modules.block.MANet[128, 128, 2, True, 1, 3]     \n",
      "  6                  -1  2    248704  models.HyperYOLOt.pkgs.hyper_ultralytics.nn.modules.block.MANet[128, 128, 2, True, 1, 3]     \n",
      "  7                  -1  1    295424  models.HyperYOLOt.pkgs.hyper_ultralytics.nn.modules.conv.Conv[128, 256, 3, 2]              \n",
      "  7                  -1  1    295424  models.HyperYOLOt.pkgs.hyper_ultralytics.nn.modules.conv.Conv[128, 256, 3, 2]              \n",
      "  8                  -1  1    460288  models.HyperYOLOt.pkgs.hyper_ultralytics.nn.modules.block.C2f[256, 256, 1, True]           \n",
      "  8                  -1  1    460288  models.HyperYOLOt.pkgs.hyper_ultralytics.nn.modules.block.C2f[256, 256, 1, True]           \n",
      "  9                  -1  1    164608  models.HyperYOLOt.pkgs.hyper_ultralytics.nn.modules.block.SPPF[256, 256, 5]                 \n",
      "  9                  -1  1    164608  models.HyperYOLOt.pkgs.hyper_ultralytics.nn.modules.block.SPPF[256, 256, 5]                 \n",
      " 10                   0  1         0  torch.nn.modules.pooling.AvgPool2d           [8, 8, 0]                     \n",
      " 10                   0  1         0  torch.nn.modules.pooling.AvgPool2d           [8, 8, 0]                     \n",
      " 11                   2  1         0  torch.nn.modules.pooling.AvgPool2d           [4, 4, 0]                     \n",
      " 11                   2  1         0  torch.nn.modules.pooling.AvgPool2d           [4, 4, 0]                     \n",
      " 12                   4  1         0  torch.nn.modules.pooling.AvgPool2d           [2, 2, 0]                     \n",
      " 12                   4  1         0  torch.nn.modules.pooling.AvgPool2d           [2, 2, 0]                     \n",
      " 13                   9  1         0  torch.nn.modules.upsampling.Upsample         [None, 2, 'nearest']          \n",
      " 13                   9  1         0  torch.nn.modules.upsampling.Upsample         [None, 2, 'nearest']          \n",
      " 14 [10, 11, 12, 6, 13]  1         0  models.HyperYOLOt.pkgs.hyper_ultralytics.nn.modules.conv.Concat[1]                           \n",
      " 14 [10, 11, 12, 6, 13]  1         0  models.HyperYOLOt.pkgs.hyper_ultralytics.nn.modules.conv.Concat[1]                           \n",
      " 15                  -1  1     63744  models.HyperYOLOt.pkgs.hyper_ultralytics.nn.modules.conv.Conv[496, 128, 1, 1]              \n",
      " 15                  -1  1     63744  models.HyperYOLOt.pkgs.hyper_ultralytics.nn.modules.conv.Conv[496, 128, 1, 1]              \n",
      " 16                  -1  1     16768  models.HyperYOLOt.pkgs.hyper_ultralytics.nn.modules.block.HyperComputeModule[128, 128, 6]                 \n",
      " 16                  -1  1     16768  models.HyperYOLOt.pkgs.hyper_ultralytics.nn.modules.block.HyperComputeModule[128, 128, 6]                 \n",
      " 17                  -1  1    166528  models.HyperYOLOt.pkgs.hyper_ultralytics.nn.modules.block.MANet[128, 128, 1, True]           \n",
      " 17                  -1  1    166528  models.HyperYOLOt.pkgs.hyper_ultralytics.nn.modules.block.MANet[128, 128, 1, True]           \n",
      " 18                  -1  1         0  torch.nn.modules.pooling.AvgPool2d           [2, 2, 0]                     \n",
      " 18                  -1  1         0  torch.nn.modules.pooling.AvgPool2d           [2, 2, 0]                     \n",
      " 19             [-1, 9]  1         0  models.HyperYOLOt.pkgs.hyper_ultralytics.nn.modules.conv.Concat[1]                           \n",
      " 19             [-1, 9]  1         0  models.HyperYOLOt.pkgs.hyper_ultralytics.nn.modules.conv.Concat[1]                           \n",
      " 20                  -1  1     98816  models.HyperYOLOt.pkgs.hyper_ultralytics.nn.modules.conv.Conv[384, 256, 1, 1]              \n",
      " 20                  -1  1     98816  models.HyperYOLOt.pkgs.hyper_ultralytics.nn.modules.conv.Conv[384, 256, 1, 1]              \n",
      " 21             [17, 6]  1         0  models.HyperYOLOt.pkgs.hyper_ultralytics.nn.modules.conv.Concat[1]                           \n",
      " 21             [17, 6]  1         0  models.HyperYOLOt.pkgs.hyper_ultralytics.nn.modules.conv.Concat[1]                           \n",
      " 22                  -1  1    131840  models.HyperYOLOt.pkgs.hyper_ultralytics.nn.modules.block.C2f[256, 128, 1, False]          \n",
      " 22                  -1  1    131840  models.HyperYOLOt.pkgs.hyper_ultralytics.nn.modules.block.C2f[256, 128, 1, False]          \n",
      " 23                  17  1         0  torch.nn.modules.upsampling.Upsample         [None, 2, 'nearest']          \n",
      " 23                  17  1         0  torch.nn.modules.upsampling.Upsample         [None, 2, 'nearest']          \n",
      " 24             [-1, 4]  1         0  models.HyperYOLOt.pkgs.hyper_ultralytics.nn.modules.conv.Concat[1]                           \n",
      " 24             [-1, 4]  1         0  models.HyperYOLOt.pkgs.hyper_ultralytics.nn.modules.conv.Concat[1]                           \n",
      " 25                  -1  1     37248  models.HyperYOLOt.pkgs.hyper_ultralytics.nn.modules.block.C2f[192, 64, 1, False]           \n",
      " 25                  -1  1     37248  models.HyperYOLOt.pkgs.hyper_ultralytics.nn.modules.block.C2f[192, 64, 1, False]           \n",
      " 26                  -1  1     36992  models.HyperYOLOt.pkgs.hyper_ultralytics.nn.modules.conv.Conv[64, 64, 3, 2]                \n",
      " 26                  -1  1     36992  models.HyperYOLOt.pkgs.hyper_ultralytics.nn.modules.conv.Conv[64, 64, 3, 2]                \n",
      " 27            [-1, 22]  1         0  models.HyperYOLOt.pkgs.hyper_ultralytics.nn.modules.conv.Concat[1]                           \n",
      " 27            [-1, 22]  1         0  models.HyperYOLOt.pkgs.hyper_ultralytics.nn.modules.conv.Concat[1]                           \n",
      " 28                  -1  1    123648  models.HyperYOLOt.pkgs.hyper_ultralytics.nn.modules.block.C2f[192, 128, 1, False]          \n",
      " 28                  -1  1    123648  models.HyperYOLOt.pkgs.hyper_ultralytics.nn.modules.block.C2f[192, 128, 1, False]          \n",
      " 29                  -1  1    147712  models.HyperYOLOt.pkgs.hyper_ultralytics.nn.modules.conv.Conv[128, 128, 3, 2]              \n",
      " 29                  -1  1    147712  models.HyperYOLOt.pkgs.hyper_ultralytics.nn.modules.conv.Conv[128, 128, 3, 2]              \n",
      " 30            [-1, 20]  1         0  models.HyperYOLOt.pkgs.hyper_ultralytics.nn.modules.conv.Concat[1]                           \n",
      " 30            [-1, 20]  1         0  models.HyperYOLOt.pkgs.hyper_ultralytics.nn.modules.conv.Concat[1]                           \n",
      " 31                  -1  1     98816  models.HyperYOLOt.pkgs.hyper_ultralytics.nn.modules.conv.Conv[384, 256, 1, 1]              \n",
      " 31                  -1  1     98816  models.HyperYOLOt.pkgs.hyper_ultralytics.nn.modules.conv.Conv[384, 256, 1, 1]              \n",
      " 32        [25, 28, 31]  1    751507  models.HyperYOLOt.pkgs.hyper_ultralytics.nn.modules.head.Detect[1, [64, 128, 256]]           \n",
      " 32        [25, 28, 31]  1    751507  models.HyperYOLOt.pkgs.hyper_ultralytics.nn.modules.head.Detect[1, [64, 128, 256]]           \n",
      "Hyper-YOLOt summary: 286 layers, 3010595 parameters, 3010579 gradients, 9.0 GFLOPs\n",
      "Hyper-YOLOt summary: 286 layers, 3010595 parameters, 3010579 gradients, 9.0 GFLOPs\n",
      "\n",
      "\n",
      "\u001b[34m\u001b[1mTensorBoard: \u001b[0mStart with 'tensorboard --logdir output/250422_005007/train/250422_010313_HyperYOLOt_airplane_Iter_2', view at http://localhost:6006/\n",
      "\u001b[34m\u001b[1mTensorBoard: \u001b[0mStart with 'tensorboard --logdir output/250422_005007/train/250422_010313_HyperYOLOt_airplane_Iter_2', view at http://localhost:6006/\n",
      "Freezing layer 'model.32.dfl.conv.weight'\n",
      "Freezing layer 'model.32.dfl.conv.weight'\n"
     ]
    },
    {
     "name": "stderr",
     "output_type": "stream",
     "text": [
      "\u001b[34m\u001b[1mtrain: \u001b[0mScanning Datasets/airplane/labels... 1051 images, 0 backgrounds, 0 corrupt: 100%|██████████| 1051/1051 [00:00<00:00, 1259.58it/s]"
     ]
    },
    {
     "name": "stdout",
     "output_type": "stream",
     "text": [
      "\u001b[34m\u001b[1mtrain: \u001b[0mNew cache created: Datasets/airplane/labels.cache\n",
      "\u001b[34m\u001b[1mtrain: \u001b[0mNew cache created: Datasets/airplane/labels.cache\n"
     ]
    },
    {
     "name": "stderr",
     "output_type": "stream",
     "text": [
      "\n",
      "\u001b[34m\u001b[1mval: \u001b[0mScanning Datasets/airplane/labels... 351 images, 0 backgrounds, 0 corrupt: 100%|██████████| 351/351 [00:00<00:00, 707.69it/s]"
     ]
    },
    {
     "name": "stdout",
     "output_type": "stream",
     "text": [
      "\u001b[34m\u001b[1mval: \u001b[0mNew cache created: Datasets/airplane/labels.cache\n",
      "\u001b[34m\u001b[1mval: \u001b[0mNew cache created: Datasets/airplane/labels.cache\n"
     ]
    },
    {
     "name": "stderr",
     "output_type": "stream",
     "text": [
      "\n"
     ]
    },
    {
     "name": "stdout",
     "output_type": "stream",
     "text": [
      "Plotting labels to output/250422_005007/train/250422_010313_HyperYOLOt_airplane_Iter_2/labels.jpg... \n",
      "Plotting labels to output/250422_005007/train/250422_010313_HyperYOLOt_airplane_Iter_2/labels.jpg... \n",
      "\u001b[34m\u001b[1moptimizer:\u001b[0m AdamW(lr=0.003, momentum=0.9) with parameter groups 73 weight(decay=0.0), 80 weight(decay=0.0001), 80 bias(decay=0.0)\n",
      "\u001b[34m\u001b[1moptimizer:\u001b[0m AdamW(lr=0.003, momentum=0.9) with parameter groups 73 weight(decay=0.0), 80 weight(decay=0.0001), 80 bias(decay=0.0)\n",
      "Image sizes 640 train, 640 val\n",
      "Using 8 dataloader workers\n",
      "Logging results to \u001b[1moutput/250422_005007/train/250422_010313_HyperYOLOt_airplane_Iter_2\u001b[0m\n",
      "Starting training for 20 epochs...\n",
      "Image sizes 640 train, 640 val\n",
      "Using 8 dataloader workers\n",
      "Logging results to \u001b[1moutput/250422_005007/train/250422_010313_HyperYOLOt_airplane_Iter_2\u001b[0m\n",
      "Starting training for 20 epochs...\n",
      "\n",
      "      Epoch    GPU_mem   box_loss   cls_loss   dfl_loss  Instances       Size\n",
      "\n",
      "      Epoch    GPU_mem   box_loss   cls_loss   dfl_loss  Instances       Size\n"
     ]
    },
    {
     "name": "stderr",
     "output_type": "stream",
     "text": [
      "       1/20      4.87G      2.081      1.968       3.62         38        640: 100%|██████████| 66/66 [00:06<00:00,  9.56it/s]\n",
      "                 Class     Images  Instances      Box(P          R      mAP50  mAP50-95): 100%|██████████| 11/11 [00:01<00:00,  6.09it/s]\n"
     ]
    },
    {
     "name": "stdout",
     "output_type": "stream",
     "text": [
      "                   all        351        386    0.00456       0.36    0.00316    0.00069\n",
      "                   all        351        386    0.00456       0.36    0.00316    0.00069\n",
      "\n",
      "      Epoch    GPU_mem   box_loss   cls_loss   dfl_loss  Instances       Size\n",
      "\n",
      "      Epoch    GPU_mem   box_loss   cls_loss   dfl_loss  Instances       Size\n"
     ]
    },
    {
     "name": "stderr",
     "output_type": "stream",
     "text": [
      "       2/20      4.85G      2.015       1.69      3.331         21        640: 100%|██████████| 66/66 [00:06<00:00,  9.63it/s]\n",
      "                 Class     Images  Instances      Box(P          R      mAP50  mAP50-95): 100%|██████████| 11/11 [00:02<00:00,  5.15it/s]\n"
     ]
    },
    {
     "name": "stdout",
     "output_type": "stream",
     "text": [
      "                   all        351        386     0.0011      0.171   0.000588   0.000148\n",
      "                   all        351        386     0.0011      0.171   0.000588   0.000148\n",
      "\n",
      "      Epoch    GPU_mem   box_loss   cls_loss   dfl_loss  Instances       Size\n",
      "\n",
      "      Epoch    GPU_mem   box_loss   cls_loss   dfl_loss  Instances       Size\n"
     ]
    },
    {
     "name": "stderr",
     "output_type": "stream",
     "text": [
      "       3/20      4.86G      1.779      1.672      3.082         19        640: 100%|██████████| 66/66 [00:06<00:00, 10.48it/s]\n",
      "                 Class     Images  Instances      Box(P          R      mAP50  mAP50-95): 100%|██████████| 11/11 [00:02<00:00,  5.11it/s]\n"
     ]
    },
    {
     "name": "stdout",
     "output_type": "stream",
     "text": [
      "                   all        351        386     0.0742     0.0492    0.00819    0.00223\n",
      "                   all        351        386     0.0742     0.0492    0.00819    0.00223\n",
      "\n",
      "      Epoch    GPU_mem   box_loss   cls_loss   dfl_loss  Instances       Size\n",
      "\n",
      "      Epoch    GPU_mem   box_loss   cls_loss   dfl_loss  Instances       Size\n"
     ]
    },
    {
     "name": "stderr",
     "output_type": "stream",
     "text": [
      "       4/20      4.87G      1.666      1.652      2.926         20        640: 100%|██████████| 66/66 [00:06<00:00, 10.35it/s]\n",
      "                 Class     Images  Instances      Box(P          R      mAP50  mAP50-95): 100%|██████████| 11/11 [00:02<00:00,  5.36it/s]\n"
     ]
    },
    {
     "name": "stdout",
     "output_type": "stream",
     "text": [
      "                   all        351        386     0.0183     0.0518    0.00671    0.00178\n",
      "                   all        351        386     0.0183     0.0518    0.00671    0.00178\n",
      "\n",
      "      Epoch    GPU_mem   box_loss   cls_loss   dfl_loss  Instances       Size\n",
      "\n",
      "      Epoch    GPU_mem   box_loss   cls_loss   dfl_loss  Instances       Size\n"
     ]
    },
    {
     "name": "stderr",
     "output_type": "stream",
     "text": [
      "       5/20      4.89G      1.599      1.576      2.824         23        640: 100%|██████████| 66/66 [00:06<00:00, 10.32it/s]\n",
      "                 Class     Images  Instances      Box(P          R      mAP50  mAP50-95): 100%|██████████| 11/11 [00:01<00:00,  5.65it/s]"
     ]
    },
    {
     "name": "stdout",
     "output_type": "stream",
     "text": [
      "                   all        351        386      0.241      0.135      0.115     0.0303\n",
      "                   all        351        386      0.241      0.135      0.115     0.0303\n"
     ]
    },
    {
     "name": "stderr",
     "output_type": "stream",
     "text": [
      "\n"
     ]
    },
    {
     "name": "stdout",
     "output_type": "stream",
     "text": [
      "\n",
      "      Epoch    GPU_mem   box_loss   cls_loss   dfl_loss  Instances       Size\n",
      "\n",
      "      Epoch    GPU_mem   box_loss   cls_loss   dfl_loss  Instances       Size\n"
     ]
    },
    {
     "name": "stderr",
     "output_type": "stream",
     "text": [
      "       6/20      4.87G      1.537      1.485      2.731         30        640: 100%|██████████| 66/66 [00:06<00:00, 10.02it/s]\n",
      "                 Class     Images  Instances      Box(P          R      mAP50  mAP50-95): 100%|██████████| 11/11 [00:01<00:00,  5.76it/s]\n"
     ]
    },
    {
     "name": "stdout",
     "output_type": "stream",
     "text": [
      "                   all        351        386        0.2      0.396      0.149     0.0423\n",
      "                   all        351        386        0.2      0.396      0.149     0.0423\n",
      "\n",
      "      Epoch    GPU_mem   box_loss   cls_loss   dfl_loss  Instances       Size\n",
      "\n",
      "      Epoch    GPU_mem   box_loss   cls_loss   dfl_loss  Instances       Size\n"
     ]
    },
    {
     "name": "stderr",
     "output_type": "stream",
     "text": [
      "       7/20      4.87G      1.466      1.438      2.649         33        640: 100%|██████████| 66/66 [00:06<00:00, 10.10it/s]\n",
      "                 Class     Images  Instances      Box(P          R      mAP50  mAP50-95): 100%|██████████| 11/11 [00:01<00:00,  5.52it/s]"
     ]
    },
    {
     "name": "stdout",
     "output_type": "stream",
     "text": [
      "                   all        351        386      0.187      0.358      0.163     0.0493\n",
      "                   all        351        386      0.187      0.358      0.163     0.0493\n"
     ]
    },
    {
     "name": "stderr",
     "output_type": "stream",
     "text": [
      "\n"
     ]
    },
    {
     "name": "stdout",
     "output_type": "stream",
     "text": [
      "\n",
      "      Epoch    GPU_mem   box_loss   cls_loss   dfl_loss  Instances       Size\n",
      "\n",
      "      Epoch    GPU_mem   box_loss   cls_loss   dfl_loss  Instances       Size\n"
     ]
    },
    {
     "name": "stderr",
     "output_type": "stream",
     "text": [
      "       8/20      4.87G      1.423      1.393      2.565         22        640: 100%|██████████| 66/66 [00:06<00:00, 10.17it/s]\n",
      "                 Class     Images  Instances      Box(P          R      mAP50  mAP50-95): 100%|██████████| 11/11 [00:01<00:00,  5.75it/s]"
     ]
    },
    {
     "name": "stdout",
     "output_type": "stream",
     "text": [
      "                   all        351        386      0.369      0.425      0.325      0.104\n",
      "                   all        351        386      0.369      0.425      0.325      0.104\n"
     ]
    },
    {
     "name": "stderr",
     "output_type": "stream",
     "text": [
      "\n"
     ]
    },
    {
     "name": "stdout",
     "output_type": "stream",
     "text": [
      "\n",
      "      Epoch    GPU_mem   box_loss   cls_loss   dfl_loss  Instances       Size\n",
      "\n",
      "      Epoch    GPU_mem   box_loss   cls_loss   dfl_loss  Instances       Size\n"
     ]
    },
    {
     "name": "stderr",
     "output_type": "stream",
     "text": [
      "       9/20      4.88G      1.371      1.318      2.471         22        640: 100%|██████████| 66/66 [00:06<00:00, 10.26it/s]\n",
      "                 Class     Images  Instances      Box(P          R      mAP50  mAP50-95): 100%|██████████| 11/11 [00:01<00:00,  5.94it/s]\n"
     ]
    },
    {
     "name": "stdout",
     "output_type": "stream",
     "text": [
      "                   all        351        386      0.358      0.488      0.361       0.12\n",
      "                   all        351        386      0.358      0.488      0.361       0.12\n",
      "\n",
      "      Epoch    GPU_mem   box_loss   cls_loss   dfl_loss  Instances       Size\n",
      "\n",
      "      Epoch    GPU_mem   box_loss   cls_loss   dfl_loss  Instances       Size\n"
     ]
    },
    {
     "name": "stderr",
     "output_type": "stream",
     "text": [
      "      10/20      4.87G       1.32      1.289      2.398         24        640: 100%|██████████| 66/66 [00:06<00:00,  9.97it/s]\n",
      "                 Class     Images  Instances      Box(P          R      mAP50  mAP50-95): 100%|██████████| 11/11 [00:02<00:00,  5.06it/s]"
     ]
    },
    {
     "name": "stdout",
     "output_type": "stream",
     "text": [
      "                   all        351        386      0.532       0.51       0.48      0.165\n",
      "                   all        351        386      0.532       0.51       0.48      0.165\n"
     ]
    },
    {
     "name": "stderr",
     "output_type": "stream",
     "text": [
      "\n"
     ]
    },
    {
     "name": "stdout",
     "output_type": "stream",
     "text": [
      "\n",
      "      Epoch    GPU_mem   box_loss   cls_loss   dfl_loss  Instances       Size\n",
      "\n",
      "      Epoch    GPU_mem   box_loss   cls_loss   dfl_loss  Instances       Size\n"
     ]
    },
    {
     "name": "stderr",
     "output_type": "stream",
     "text": [
      "      11/20      4.87G      1.301      1.205      2.354         24        640: 100%|██████████| 66/66 [00:06<00:00,  9.67it/s]\n",
      "                 Class     Images  Instances      Box(P          R      mAP50  mAP50-95): 100%|██████████| 11/11 [00:01<00:00,  5.61it/s]\n"
     ]
    },
    {
     "name": "stdout",
     "output_type": "stream",
     "text": [
      "                   all        351        386      0.545       0.51      0.514      0.184\n",
      "                   all        351        386      0.545       0.51      0.514      0.184\n",
      "\n",
      "      Epoch    GPU_mem   box_loss   cls_loss   dfl_loss  Instances       Size\n",
      "\n",
      "      Epoch    GPU_mem   box_loss   cls_loss   dfl_loss  Instances       Size\n"
     ]
    },
    {
     "name": "stderr",
     "output_type": "stream",
     "text": [
      "      12/20      4.87G      1.251      1.181      2.287         28        640: 100%|██████████| 66/66 [00:06<00:00,  9.73it/s]\n",
      "                 Class     Images  Instances      Box(P          R      mAP50  mAP50-95): 100%|██████████| 11/11 [00:01<00:00,  5.61it/s]\n"
     ]
    },
    {
     "name": "stdout",
     "output_type": "stream",
     "text": [
      "                   all        351        386      0.467      0.493      0.425      0.162\n",
      "                   all        351        386      0.467      0.493      0.425      0.162\n",
      "\n",
      "      Epoch    GPU_mem   box_loss   cls_loss   dfl_loss  Instances       Size\n",
      "\n",
      "      Epoch    GPU_mem   box_loss   cls_loss   dfl_loss  Instances       Size\n"
     ]
    },
    {
     "name": "stderr",
     "output_type": "stream",
     "text": [
      "      13/20      4.88G      1.226      1.125      2.235         18        640: 100%|██████████| 66/66 [00:06<00:00,  9.98it/s]\n",
      "                 Class     Images  Instances      Box(P          R      mAP50  mAP50-95): 100%|██████████| 11/11 [00:02<00:00,  5.30it/s]"
     ]
    },
    {
     "name": "stdout",
     "output_type": "stream",
     "text": [
      "                   all        351        386      0.625      0.505      0.547      0.223\n",
      "                   all        351        386      0.625      0.505      0.547      0.223\n"
     ]
    },
    {
     "name": "stderr",
     "output_type": "stream",
     "text": [
      "\n"
     ]
    },
    {
     "name": "stdout",
     "output_type": "stream",
     "text": [
      "\n",
      "      Epoch    GPU_mem   box_loss   cls_loss   dfl_loss  Instances       Size\n",
      "\n",
      "      Epoch    GPU_mem   box_loss   cls_loss   dfl_loss  Instances       Size\n"
     ]
    },
    {
     "name": "stderr",
     "output_type": "stream",
     "text": [
      "      14/20      4.89G      1.204      1.125      2.202         18        640: 100%|██████████| 66/66 [00:06<00:00, 10.39it/s]\n",
      "                 Class     Images  Instances      Box(P          R      mAP50  mAP50-95): 100%|██████████| 11/11 [00:02<00:00,  4.87it/s]"
     ]
    },
    {
     "name": "stdout",
     "output_type": "stream",
     "text": [
      "                   all        351        386      0.605      0.504      0.515      0.212\n",
      "                   all        351        386      0.605      0.504      0.515      0.212\n"
     ]
    },
    {
     "name": "stderr",
     "output_type": "stream",
     "text": [
      "\n"
     ]
    },
    {
     "name": "stdout",
     "output_type": "stream",
     "text": [
      "\n",
      "      Epoch    GPU_mem   box_loss   cls_loss   dfl_loss  Instances       Size\n",
      "\n",
      "      Epoch    GPU_mem   box_loss   cls_loss   dfl_loss  Instances       Size\n"
     ]
    },
    {
     "name": "stderr",
     "output_type": "stream",
     "text": [
      "      15/20      4.87G      1.162       1.09      2.146         22        640: 100%|██████████| 66/66 [00:06<00:00, 10.14it/s]\n",
      "                 Class     Images  Instances      Box(P          R      mAP50  mAP50-95): 100%|██████████| 11/11 [00:02<00:00,  5.30it/s]\n"
     ]
    },
    {
     "name": "stdout",
     "output_type": "stream",
     "text": [
      "                   all        351        386      0.622      0.562      0.596      0.279\n",
      "                   all        351        386      0.622      0.562      0.596      0.279\n",
      "\n",
      "      Epoch    GPU_mem   box_loss   cls_loss   dfl_loss  Instances       Size\n",
      "\n",
      "      Epoch    GPU_mem   box_loss   cls_loss   dfl_loss  Instances       Size\n"
     ]
    },
    {
     "name": "stderr",
     "output_type": "stream",
     "text": [
      "      16/20      4.87G      1.159      1.064      2.118         23        640: 100%|██████████| 66/66 [00:06<00:00, 10.44it/s]\n",
      "                 Class     Images  Instances      Box(P          R      mAP50  mAP50-95): 100%|██████████| 11/11 [00:02<00:00,  4.30it/s]\n"
     ]
    },
    {
     "name": "stdout",
     "output_type": "stream",
     "text": [
      "                   all        351        386      0.671      0.526      0.629       0.28\n",
      "                   all        351        386      0.671      0.526      0.629       0.28\n",
      "\n",
      "      Epoch    GPU_mem   box_loss   cls_loss   dfl_loss  Instances       Size\n",
      "\n",
      "      Epoch    GPU_mem   box_loss   cls_loss   dfl_loss  Instances       Size\n"
     ]
    },
    {
     "name": "stderr",
     "output_type": "stream",
     "text": [
      "      17/20      4.88G       1.14      1.063      2.112         31        640: 100%|██████████| 66/66 [00:07<00:00,  9.36it/s]\n",
      "                 Class     Images  Instances      Box(P          R      mAP50  mAP50-95): 100%|██████████| 11/11 [00:02<00:00,  5.43it/s]"
     ]
    },
    {
     "name": "stdout",
     "output_type": "stream",
     "text": [
      "                   all        351        386      0.637      0.573      0.614      0.282\n",
      "                   all        351        386      0.637      0.573      0.614      0.282\n"
     ]
    },
    {
     "name": "stderr",
     "output_type": "stream",
     "text": [
      "\n"
     ]
    },
    {
     "name": "stdout",
     "output_type": "stream",
     "text": [
      "\n",
      "      Epoch    GPU_mem   box_loss   cls_loss   dfl_loss  Instances       Size\n",
      "\n",
      "      Epoch    GPU_mem   box_loss   cls_loss   dfl_loss  Instances       Size\n"
     ]
    },
    {
     "name": "stderr",
     "output_type": "stream",
     "text": [
      "      18/20      4.89G      1.114      1.045      2.067         28        640: 100%|██████████| 66/66 [00:06<00:00,  9.96it/s]\n",
      "                 Class     Images  Instances      Box(P          R      mAP50  mAP50-95): 100%|██████████| 11/11 [00:01<00:00,  5.76it/s]"
     ]
    },
    {
     "name": "stdout",
     "output_type": "stream",
     "text": [
      "                   all        351        386      0.628      0.604      0.623      0.295\n",
      "                   all        351        386      0.628      0.604      0.623      0.295\n"
     ]
    },
    {
     "name": "stderr",
     "output_type": "stream",
     "text": [
      "\n"
     ]
    },
    {
     "name": "stdout",
     "output_type": "stream",
     "text": [
      "Closing dataloader mosaic\n",
      "Closing dataloader mosaic\n",
      "\n",
      "      Epoch    GPU_mem   box_loss   cls_loss   dfl_loss  Instances       Size\n",
      "\n",
      "      Epoch    GPU_mem   box_loss   cls_loss   dfl_loss  Instances       Size\n"
     ]
    },
    {
     "name": "stderr",
     "output_type": "stream",
     "text": [
      "      19/20      4.87G      1.085      1.072      2.083         11        640: 100%|██████████| 66/66 [00:06<00:00,  9.59it/s]\n",
      "                 Class     Images  Instances      Box(P          R      mAP50  mAP50-95): 100%|██████████| 11/11 [00:01<00:00,  6.12it/s]"
     ]
    },
    {
     "name": "stdout",
     "output_type": "stream",
     "text": [
      "                   all        351        386      0.623      0.601      0.612      0.298\n",
      "                   all        351        386      0.623      0.601      0.612      0.298\n"
     ]
    },
    {
     "name": "stderr",
     "output_type": "stream",
     "text": [
      "\n"
     ]
    },
    {
     "name": "stdout",
     "output_type": "stream",
     "text": [
      "\n",
      "      Epoch    GPU_mem   box_loss   cls_loss   dfl_loss  Instances       Size\n",
      "\n",
      "      Epoch    GPU_mem   box_loss   cls_loss   dfl_loss  Instances       Size\n"
     ]
    },
    {
     "name": "stderr",
     "output_type": "stream",
     "text": [
      "      20/20      4.87G      1.019     0.9658      2.013         11        640: 100%|██████████| 66/66 [00:06<00:00,  9.93it/s]\n",
      "                 Class     Images  Instances      Box(P          R      mAP50  mAP50-95): 100%|██████████| 11/11 [00:01<00:00,  5.86it/s]"
     ]
    },
    {
     "name": "stdout",
     "output_type": "stream",
     "text": [
      "                   all        351        386      0.698      0.619      0.674      0.333\n",
      "                   all        351        386      0.698      0.619      0.674      0.333\n"
     ]
    },
    {
     "name": "stderr",
     "output_type": "stream",
     "text": [
      "\n"
     ]
    },
    {
     "name": "stdout",
     "output_type": "stream",
     "text": [
      "\n",
      "20 epochs completed in 0.051 hours.\n",
      "\n",
      "20 epochs completed in 0.051 hours.\n",
      "Optimizer stripped from output/250422_005007/train/250422_010313_HyperYOLOt_airplane_Iter_2/weights/last.pt, 6.3MB\n",
      "Optimizer stripped from output/250422_005007/train/250422_010313_HyperYOLOt_airplane_Iter_2/weights/last.pt, 6.3MB\n",
      "Optimizer stripped from output/250422_005007/train/250422_010313_HyperYOLOt_airplane_Iter_2/weights/best.pt, 6.3MB\n",
      "Optimizer stripped from output/250422_005007/train/250422_010313_HyperYOLOt_airplane_Iter_2/weights/best.pt, 6.3MB\n",
      "\n",
      "Validating output/250422_005007/train/250422_010313_HyperYOLOt_airplane_Iter_2/weights/best.pt...\n",
      "\n",
      "Validating output/250422_005007/train/250422_010313_HyperYOLOt_airplane_Iter_2/weights/best.pt...\n",
      "Hyper-YOLOv1.0 🚀 Python-3.10.16 torch-2.8.0.dev20250417+cu128 CUDA:0 (NVIDIA GeForce RTX 5070 Ti, 16303MiB)\n",
      "Hyper-YOLOv1.0 🚀 Python-3.10.16 torch-2.8.0.dev20250417+cu128 CUDA:0 (NVIDIA GeForce RTX 5070 Ti, 16303MiB)\n",
      "Hyper-YOLOt summary (fused): 214 layers, 3004179 parameters, 0 gradients, 8.9 GFLOPs\n",
      "Hyper-YOLOt summary (fused): 214 layers, 3004179 parameters, 0 gradients, 8.9 GFLOPs\n"
     ]
    },
    {
     "name": "stderr",
     "output_type": "stream",
     "text": [
      "                 Class     Images  Instances      Box(P          R      mAP50  mAP50-95): 100%|██████████| 11/11 [00:02<00:00,  4.18it/s]\n"
     ]
    },
    {
     "name": "stdout",
     "output_type": "stream",
     "text": [
      "                   all        351        386      0.699      0.617      0.674      0.333\n",
      "                   all        351        386      0.699      0.617      0.674      0.333\n",
      "Speed: 0.2ms preprocess, 0.8ms inference, 0.0ms loss, 1.0ms postprocess per image\n",
      "Speed: 0.2ms preprocess, 0.8ms inference, 0.0ms loss, 1.0ms postprocess per image\n",
      "Saving output/250422_005007/train/250422_010313_HyperYOLOt_airplane_Iter_2/predictions.json...\n",
      "Saving output/250422_005007/train/250422_010313_HyperYOLOt_airplane_Iter_2/predictions.json...\n",
      "\n",
      "Evaluating pycocotools mAP using output/250422_005007/train/250422_010313_HyperYOLOt_airplane_Iter_2/predictions.json and /home/gamejoongsa/CV_midterm_competition_code/Datasets/airplane/annotations/instances_val2017.json...\n",
      "\n",
      "Evaluating pycocotools mAP using output/250422_005007/train/250422_010313_HyperYOLOt_airplane_Iter_2/predictions.json and /home/gamejoongsa/CV_midterm_competition_code/Datasets/airplane/annotations/instances_val2017.json...\n",
      "pycocotools unable to run: /home/gamejoongsa/CV_midterm_competition_code/Datasets/airplane/annotations/instances_val2017.json file not found\n",
      "pycocotools unable to run: /home/gamejoongsa/CV_midterm_competition_code/Datasets/airplane/annotations/instances_val2017.json file not found\n",
      "Results saved to \u001b[1moutput/250422_005007/train/250422_010313_HyperYOLOt_airplane_Iter_2\u001b[0m\n",
      "Results saved to \u001b[1moutput/250422_005007/train/250422_010313_HyperYOLOt_airplane_Iter_2\u001b[0m\n",
      "Transferred 452/452 items from pretrained weights\n",
      "Transferred 452/452 items from pretrained weights\n",
      "결과가 output/250422_005007/json/250422_010312_submission_HyperYOLOt_Iter_2_detection_results.json에 저장되었습니다.\n"
     ]
    }
   ],
   "source": [
    "from competition_utils import *\n",
    "from models.base_config import BaseConfig\n",
    "\n",
    "# 제출 함수를 리스트로 정의 (submission_N_학번)\n",
    "# 깃허브에는 최대 3개 업로드 데모시 하이퍼파라미터 튜닝 후 1개만 제출\n",
    "# submission_functions = ['submission_YOLOv8n', 'submission_YOLOv9t', 'submission_YOLOv10n', 'submission_YOLO11n', 'submission_YOLO12n',\n",
    "#                         'submission_YOLOXNano', 'submission_YOGAn', 'submission_LightweightOB', 'submission_FLDetn', 'submission_HyperYOLOt'] \n",
    "submission_functions = ['submission_YOLOv8n', 'submission_HyperYOLOt'] \n",
    "for submission_function in submission_functions:\n",
    "    exec(f\"from submissions.{submission_function} import {submission_function}\")\n",
    "\n",
    "# 분석 방향에 따라 iteration 수 수정\n",
    "# 평가시에는 데모와 다른 스플릿 시드를 만들어 [1, 10]로 진행 예정\n",
    "iterations = [1, 2] \n",
    "# 'Crown Detection'는 예제 데이터셋, 데모 및 평가시에는 'CV_Competition'\n",
    "Dataset_Name = 'airplane' \n",
    "\n",
    "# 결과를 모아 하나의 csv 파일에 저장\n",
    "results_df = pd.DataFrame(columns=[\n",
    "    'Experiment Time', 'Iteration', 'Submission Function', \n",
    "    'IoU', 'Dice', 'Precision', 'Recall', 'Output Json Path',\n",
    "])\n",
    "csv_filename = os.path.join(BaseConfig.get_output_dir(), f\"Evaluation_Results_{BaseConfig.get_experiment_time()}.csv\")\n",
    "json_foldername = \"json\"\n",
    "vis_foldername = \"vis\"\n",
    "\n",
    "os.makedirs(os.path.join(BaseConfig.get_output_dir(), json_foldername), exist_ok=True)\n",
    "os.makedirs(os.path.join(BaseConfig.get_output_dir(), vis_foldername), exist_ok=True)\n",
    "\n",
    "# 서로 다른 iteration, submission function으로 실험 진행\n",
    "for iteration in range(iterations[0], iterations[1]+1):\n",
    "    \n",
    "    yaml_path = f'Datasets/{Dataset_Name}/data_iter_{iteration:02d}.yaml'\n",
    "    \n",
    "    for submission_function in submission_functions:\n",
    "        \n",
    "        ex_time = datetime.now().strftime('%y%m%d_%H%M%S')\n",
    "        output_json_path = os.path.join(BaseConfig.get_output_dir(), json_foldername, f\"{ex_time}_{submission_function}_Iter_{iteration}_detection_results.json\")\n",
    "        \n",
    "        globals()[submission_function](yaml_path, output_json_path)\n",
    "        \n",
    "        labels_dir = f\"Datasets/{Dataset_Name}/labels\"  \n",
    "        vis_output_dir = os.path.join(BaseConfig.get_output_dir(), vis_foldername, f\"{ex_time}_visualization_results\")\n",
    "        image_level_result_path =os.path.join(BaseConfig.get_output_dir(), json_foldername, f\"{ex_time}_{submission_function}_Iter_{iteration}_image_level_results.json\")\n",
    "        stats = eval_and_vis(yaml_path, output_json_path, labels_dir, image_level_result_path, vis_output_dir, vis=True) # 분석 방향에 따라 vis=True 설정\n",
    "        new_row = {\n",
    "            'Experiment Time': ex_time,\n",
    "            'Iteration': iteration,\n",
    "            'Submission Function': submission_function,\n",
    "            'IoU': stats['IoU']['avg'],\n",
    "            'Dice': stats['Dice']['avg'],\n",
    "            'Precision': stats['Precision']['avg'],\n",
    "            'Recall': stats['Recall']['avg'],\n",
    "            'Output Json Path': output_json_path,\n",
    "        }\n",
    "        results_df = pd.concat([results_df, pd.DataFrame([new_row])], ignore_index=True)\n",
    "        results_df.to_csv(csv_filename, index=False)"
   ]
  },
  {
   "cell_type": "code",
   "execution_count": null,
   "id": "a42711cc-d6dc-49db-b7cd-d9ebc4a9f596",
   "metadata": {},
   "outputs": [],
   "source": [
    "# 분석 방향에 따라 전체 결과를 모아 평균-표준편차-통계테스트 결과 저장 \n",
    "keep_columns = ['Iteration','Submission Function']\n",
    "keep_measures = ['IoU','Dice','Precision','Recall']  \n",
    "\n",
    "reduction = 'Iteration'\n",
    "row = 'Measure Type'\n",
    "column = 'Submission Function'\n",
    "reference_column = 'submission_YOLOv8n'\n",
    "\n",
    "custom_fmt_template = '{mean_fmt} ± {std_fmt} {significance}'\n",
    "significance_levels = [0.1, 0.05, 0.01]\n",
    "decimal_places = 3\n",
    "transpose = True\n",
    "make_tables(csv_filename, keep_columns, keep_measures, reduction, row, column,  \n",
    "            reference_column, custom_fmt_template, significance_levels, decimal_places, transpose)"
   ]
  },
  {
   "cell_type": "code",
   "execution_count": null,
   "id": "046f0a89-b0b6-4406-9500-24156dabcfc7",
   "metadata": {},
   "outputs": [],
   "source": []
  }
 ],
 "metadata": {
  "kernelspec": {
   "display_name": "CV",
   "language": "python",
   "name": "python3"
  },
  "language_info": {
   "codemirror_mode": {
    "name": "ipython",
    "version": 3
   },
   "file_extension": ".py",
   "mimetype": "text/x-python",
   "name": "python",
   "nbconvert_exporter": "python",
   "pygments_lexer": "ipython3",
   "version": "3.10.16"
  }
 },
 "nbformat": 4,
 "nbformat_minor": 5
}
