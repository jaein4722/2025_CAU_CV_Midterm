{
 "cells": [
  {
   "cell_type": "code",
   "execution_count": null,
   "id": "b9a22a04-1665-4ea8-b1a4-e0172ce1a30a",
   "metadata": {
    "scrolled": true
   },
   "outputs": [
    {
     "name": "stderr",
     "output_type": "stream",
     "text": [
      "train_data_iter_01: 100%|██████████| 670/670 [00:01<00:00, 616.09it/s]\n"
     ]
    },
    {
     "name": "stdout",
     "output_type": "stream",
     "text": [
      "✓  train_data_iter_01.json 저장\n"
     ]
    },
    {
     "name": "stderr",
     "output_type": "stream",
     "text": [
      "val_data_iter_01: 100%|██████████| 223/223 [00:00<00:00, 629.92it/s]\n"
     ]
    },
    {
     "name": "stdout",
     "output_type": "stream",
     "text": [
      "✓  val_data_iter_01.json 저장\n"
     ]
    },
    {
     "name": "stderr",
     "output_type": "stream",
     "text": [
      "test_data_iter_01: 100%|██████████| 224/224 [00:00<00:00, 636.04it/s]\n"
     ]
    },
    {
     "name": "stdout",
     "output_type": "stream",
     "text": [
      "✓  test_data_iter_01.json 저장\n"
     ]
    },
    {
     "name": "stderr",
     "output_type": "stream",
     "text": [
      "train_data_iter_02: 100%|██████████| 670/670 [00:01<00:00, 610.01it/s]\n"
     ]
    },
    {
     "name": "stdout",
     "output_type": "stream",
     "text": [
      "✓  train_data_iter_02.json 저장\n"
     ]
    },
    {
     "name": "stderr",
     "output_type": "stream",
     "text": [
      "val_data_iter_02: 100%|██████████| 223/223 [00:00<00:00, 624.39it/s]\n"
     ]
    },
    {
     "name": "stdout",
     "output_type": "stream",
     "text": [
      "✓  val_data_iter_02.json 저장\n"
     ]
    },
    {
     "name": "stderr",
     "output_type": "stream",
     "text": [
      "test_data_iter_02: 100%|██████████| 224/224 [00:00<00:00, 644.67it/s]\n"
     ]
    },
    {
     "name": "stdout",
     "output_type": "stream",
     "text": [
      "✓  test_data_iter_02.json 저장\n"
     ]
    },
    {
     "name": "stderr",
     "output_type": "stream",
     "text": [
      "train_data_iter_03: 100%|██████████| 670/670 [00:01<00:00, 637.73it/s]\n"
     ]
    },
    {
     "name": "stdout",
     "output_type": "stream",
     "text": [
      "✓  train_data_iter_03.json 저장\n"
     ]
    },
    {
     "name": "stderr",
     "output_type": "stream",
     "text": [
      "val_data_iter_03: 100%|██████████| 223/223 [00:00<00:00, 648.06it/s]\n"
     ]
    },
    {
     "name": "stdout",
     "output_type": "stream",
     "text": [
      "✓  val_data_iter_03.json 저장\n"
     ]
    },
    {
     "name": "stderr",
     "output_type": "stream",
     "text": [
      "test_data_iter_03: 100%|██████████| 224/224 [00:00<00:00, 628.35it/s]\n"
     ]
    },
    {
     "name": "stdout",
     "output_type": "stream",
     "text": [
      "✓  test_data_iter_03.json 저장\n"
     ]
    },
    {
     "name": "stderr",
     "output_type": "stream",
     "text": [
      "train_data_iter_04: 100%|██████████| 670/670 [00:01<00:00, 642.61it/s]\n"
     ]
    },
    {
     "name": "stdout",
     "output_type": "stream",
     "text": [
      "✓  train_data_iter_04.json 저장\n"
     ]
    },
    {
     "name": "stderr",
     "output_type": "stream",
     "text": [
      "val_data_iter_04: 100%|██████████| 223/223 [00:00<00:00, 650.66it/s]\n"
     ]
    },
    {
     "name": "stdout",
     "output_type": "stream",
     "text": [
      "✓  val_data_iter_04.json 저장\n"
     ]
    },
    {
     "name": "stderr",
     "output_type": "stream",
     "text": [
      "test_data_iter_04: 100%|██████████| 224/224 [00:00<00:00, 648.87it/s]\n"
     ]
    },
    {
     "name": "stdout",
     "output_type": "stream",
     "text": [
      "✓  test_data_iter_04.json 저장\n"
     ]
    },
    {
     "name": "stderr",
     "output_type": "stream",
     "text": [
      "train_data_iter_05: 100%|██████████| 670/670 [00:01<00:00, 646.11it/s]\n"
     ]
    },
    {
     "name": "stdout",
     "output_type": "stream",
     "text": [
      "✓  train_data_iter_05.json 저장\n"
     ]
    },
    {
     "name": "stderr",
     "output_type": "stream",
     "text": [
      "val_data_iter_05: 100%|██████████| 223/223 [00:00<00:00, 656.42it/s]\n"
     ]
    },
    {
     "name": "stdout",
     "output_type": "stream",
     "text": [
      "✓  val_data_iter_05.json 저장\n"
     ]
    },
    {
     "name": "stderr",
     "output_type": "stream",
     "text": [
      "test_data_iter_05: 100%|██████████| 224/224 [00:00<00:00, 640.40it/s]\n"
     ]
    },
    {
     "name": "stdout",
     "output_type": "stream",
     "text": [
      "✓  test_data_iter_05.json 저장\n"
     ]
    },
    {
     "name": "stderr",
     "output_type": "stream",
     "text": [
      "train_data_iter_06: 100%|██████████| 670/670 [00:00<00:00, 685.23it/s]\n"
     ]
    },
    {
     "name": "stdout",
     "output_type": "stream",
     "text": [
      "✓  train_data_iter_06.json 저장\n"
     ]
    },
    {
     "name": "stderr",
     "output_type": "stream",
     "text": [
      "val_data_iter_06: 100%|██████████| 223/223 [00:00<00:00, 661.92it/s]\n"
     ]
    },
    {
     "name": "stdout",
     "output_type": "stream",
     "text": [
      "✓  val_data_iter_06.json 저장\n"
     ]
    },
    {
     "name": "stderr",
     "output_type": "stream",
     "text": [
      "test_data_iter_06: 100%|██████████| 224/224 [00:00<00:00, 661.43it/s]\n"
     ]
    },
    {
     "name": "stdout",
     "output_type": "stream",
     "text": [
      "✓  test_data_iter_06.json 저장\n"
     ]
    },
    {
     "name": "stderr",
     "output_type": "stream",
     "text": [
      "train_data_iter_07: 100%|██████████| 670/670 [00:00<00:00, 680.32it/s]\n"
     ]
    },
    {
     "name": "stdout",
     "output_type": "stream",
     "text": [
      "✓  train_data_iter_07.json 저장\n"
     ]
    },
    {
     "name": "stderr",
     "output_type": "stream",
     "text": [
      "val_data_iter_07: 100%|██████████| 223/223 [00:00<00:00, 677.20it/s]\n"
     ]
    },
    {
     "name": "stdout",
     "output_type": "stream",
     "text": [
      "✓  val_data_iter_07.json 저장\n"
     ]
    },
    {
     "name": "stderr",
     "output_type": "stream",
     "text": [
      "test_data_iter_07: 100%|██████████| 224/224 [00:00<00:00, 667.62it/s]\n"
     ]
    },
    {
     "name": "stdout",
     "output_type": "stream",
     "text": [
      "✓  test_data_iter_07.json 저장\n"
     ]
    },
    {
     "name": "stderr",
     "output_type": "stream",
     "text": [
      "train_data_iter_08: 100%|██████████| 670/670 [00:00<00:00, 674.73it/s]\n"
     ]
    },
    {
     "name": "stdout",
     "output_type": "stream",
     "text": [
      "✓  train_data_iter_08.json 저장\n"
     ]
    },
    {
     "name": "stderr",
     "output_type": "stream",
     "text": [
      "val_data_iter_08: 100%|██████████| 223/223 [00:00<00:00, 694.21it/s]\n"
     ]
    },
    {
     "name": "stdout",
     "output_type": "stream",
     "text": [
      "✓  val_data_iter_08.json 저장\n"
     ]
    },
    {
     "name": "stderr",
     "output_type": "stream",
     "text": [
      "test_data_iter_08: 100%|██████████| 224/224 [00:00<00:00, 682.83it/s]\n"
     ]
    },
    {
     "name": "stdout",
     "output_type": "stream",
     "text": [
      "✓  test_data_iter_08.json 저장\n"
     ]
    },
    {
     "name": "stderr",
     "output_type": "stream",
     "text": [
      "train_data_iter_09: 100%|██████████| 670/670 [00:00<00:00, 689.50it/s]\n"
     ]
    },
    {
     "name": "stdout",
     "output_type": "stream",
     "text": [
      "✓  train_data_iter_09.json 저장\n"
     ]
    },
    {
     "name": "stderr",
     "output_type": "stream",
     "text": [
      "val_data_iter_09: 100%|██████████| 223/223 [00:00<00:00, 661.73it/s]\n"
     ]
    },
    {
     "name": "stdout",
     "output_type": "stream",
     "text": [
      "✓  val_data_iter_09.json 저장\n"
     ]
    },
    {
     "name": "stderr",
     "output_type": "stream",
     "text": [
      "test_data_iter_09: 100%|██████████| 224/224 [00:00<00:00, 666.68it/s]\n"
     ]
    },
    {
     "name": "stdout",
     "output_type": "stream",
     "text": [
      "✓  test_data_iter_09.json 저장\n"
     ]
    },
    {
     "name": "stderr",
     "output_type": "stream",
     "text": [
      "train_data_iter_10: 100%|██████████| 670/670 [00:00<00:00, 678.62it/s]\n"
     ]
    },
    {
     "name": "stdout",
     "output_type": "stream",
     "text": [
      "✓  train_data_iter_10.json 저장\n"
     ]
    },
    {
     "name": "stderr",
     "output_type": "stream",
     "text": [
      "val_data_iter_10: 100%|██████████| 223/223 [00:00<00:00, 672.80it/s]\n"
     ]
    },
    {
     "name": "stdout",
     "output_type": "stream",
     "text": [
      "✓  val_data_iter_10.json 저장\n"
     ]
    },
    {
     "name": "stderr",
     "output_type": "stream",
     "text": [
      "test_data_iter_10: 100%|██████████| 224/224 [00:00<00:00, 671.40it/s]\n",
      "/home/gamejoongsa/CV_midterm_competition_code/models/YOLOXNano/pkgs/yolox/core/trainer.py:47: FutureWarning: `torch.cuda.amp.GradScaler(args...)` is deprecated. Please use `torch.amp.GradScaler('cuda', args...)` instead.\n",
      "  self.scaler = torch.cuda.amp.GradScaler(enabled=args.fp16)\n",
      "\u001b[32m2025-04-22 05:59:21\u001b[0m | \u001b[1mINFO    \u001b[0m | \u001b[36mmodels.YOLOXNano.pkgs.yolox.core.trainer\u001b[0m:\u001b[36m132\u001b[0m - \u001b[1margs: namespace(batch_size=16, fp16=False, cache=None, logger='tensorboard', ckpt=None, resume=False, start_epoch=None, exp_file=None, experiment_name='250422_055904_yoloxnano_COCO_airplane_Iter_1', occupy=False)\u001b[0m\n",
      "\u001b[32m2025-04-22 05:59:21\u001b[0m | \u001b[1mINFO    \u001b[0m | \u001b[36mmodels.YOLOXNano.pkgs.yolox.core.trainer\u001b[0m:\u001b[36m133\u001b[0m - \u001b[1mexp value:\n",
      "╒═══════════════════╤════════════════════════════════════════════════╕\n",
      "│ keys              │ values                                         │\n",
      "╞═══════════════════╪════════════════════════════════════════════════╡\n",
      "│ seed              │ 42                                             │\n",
      "├───────────────────┼────────────────────────────────────────────────┤\n",
      "│ output_dir        │ 'output/250422_055904/train'                   │\n",
      "├───────────────────┼────────────────────────────────────────────────┤\n",
      "│ print_interval    │ 10                                             │\n",
      "├───────────────────┼────────────────────────────────────────────────┤\n",
      "│ eval_interval     │ 5                                              │\n",
      "├───────────────────┼────────────────────────────────────────────────┤\n",
      "│ dataset           │ None                                           │\n",
      "├───────────────────┼────────────────────────────────────────────────┤\n",
      "│ num_classes       │ 1                                              │\n",
      "├───────────────────┼────────────────────────────────────────────────┤\n",
      "│ depth             │ 0.33                                           │\n",
      "├───────────────────┼────────────────────────────────────────────────┤\n",
      "│ width             │ 0.25                                           │\n",
      "├───────────────────┼────────────────────────────────────────────────┤\n",
      "│ act               │ 'silu'                                         │\n",
      "├───────────────────┼────────────────────────────────────────────────┤\n",
      "│ data_num_workers  │ 8                                              │\n",
      "├───────────────────┼────────────────────────────────────────────────┤\n",
      "│ input_size        │ (640, 640)                                     │\n",
      "├───────────────────┼────────────────────────────────────────────────┤\n",
      "│ multiscale_range  │ 0                                              │\n",
      "├───────────────────┼────────────────────────────────────────────────┤\n",
      "│ data_dir          │ 'Datasets/COCO_airplane'                       │\n",
      "├───────────────────┼────────────────────────────────────────────────┤\n",
      "│ train_ann         │ 'train_data_iter_01.json'                      │\n",
      "├───────────────────┼────────────────────────────────────────────────┤\n",
      "│ val_ann           │ 'val_data_iter_01.json'                        │\n",
      "├───────────────────┼────────────────────────────────────────────────┤\n",
      "│ test_ann          │ 'test_data_iter_01.json'                       │\n",
      "├───────────────────┼────────────────────────────────────────────────┤\n",
      "│ mosaic_prob       │ 0.5                                            │\n",
      "├───────────────────┼────────────────────────────────────────────────┤\n",
      "│ mixup_prob        │ 1.0                                            │\n",
      "├───────────────────┼────────────────────────────────────────────────┤\n",
      "│ hsv_prob          │ 1.0                                            │\n",
      "├───────────────────┼────────────────────────────────────────────────┤\n",
      "│ flip_prob         │ 0.5                                            │\n",
      "├───────────────────┼────────────────────────────────────────────────┤\n",
      "│ degrees           │ 10.0                                           │\n",
      "├───────────────────┼────────────────────────────────────────────────┤\n",
      "│ translate         │ 0.1                                            │\n",
      "├───────────────────┼────────────────────────────────────────────────┤\n",
      "│ mosaic_scale      │ (0.5, 1.5)                                     │\n",
      "├───────────────────┼────────────────────────────────────────────────┤\n",
      "│ enable_mixup      │ False                                          │\n",
      "├───────────────────┼────────────────────────────────────────────────┤\n",
      "│ mixup_scale       │ (0.5, 1.5)                                     │\n",
      "├───────────────────┼────────────────────────────────────────────────┤\n",
      "│ shear             │ 2.0                                            │\n",
      "├───────────────────┼────────────────────────────────────────────────┤\n",
      "│ warmup_epochs     │ 2                                              │\n",
      "├───────────────────┼────────────────────────────────────────────────┤\n",
      "│ max_epoch         │ 20                                             │\n",
      "├───────────────────┼────────────────────────────────────────────────┤\n",
      "│ warmup_lr         │ 0                                              │\n",
      "├───────────────────┼────────────────────────────────────────────────┤\n",
      "│ min_lr_ratio      │ 0.3                                            │\n",
      "├───────────────────┼────────────────────────────────────────────────┤\n",
      "│ basic_lr_per_img  │ 0.000625                                       │\n",
      "├───────────────────┼────────────────────────────────────────────────┤\n",
      "│ scheduler         │ 'yoloxwarmcos'                                 │\n",
      "├───────────────────┼────────────────────────────────────────────────┤\n",
      "│ no_aug_epochs     │ 2                                              │\n",
      "├───────────────────┼────────────────────────────────────────────────┤\n",
      "│ ema               │ True                                           │\n",
      "├───────────────────┼────────────────────────────────────────────────┤\n",
      "│ weight_decay      │ 0.0005                                         │\n",
      "├───────────────────┼────────────────────────────────────────────────┤\n",
      "│ momentum          │ 0.9                                            │\n",
      "├───────────────────┼────────────────────────────────────────────────┤\n",
      "│ save_history_ckpt │ False                                          │\n",
      "├───────────────────┼────────────────────────────────────────────────┤\n",
      "│ exp_name          │ '250422_055904_yoloxnano_COCO_airplane_Iter_1' │\n",
      "├───────────────────┼────────────────────────────────────────────────┤\n",
      "│ test_size         │ (640, 640)                                     │\n",
      "├───────────────────┼────────────────────────────────────────────────┤\n",
      "│ test_conf         │ 0.25                                           │\n",
      "├───────────────────┼────────────────────────────────────────────────┤\n",
      "│ nmsthre           │ 0.65                                           │\n",
      "├───────────────────┼────────────────────────────────────────────────┤\n",
      "│ random_size       │ (10, 20)                                       │\n",
      "├───────────────────┼────────────────────────────────────────────────┤\n",
      "│ depthwise         │ True                                           │\n",
      "╘═══════════════════╧════════════════════════════════════════════════╛\u001b[0m\n",
      "\u001b[32m2025-04-22 05:59:22\u001b[0m | \u001b[1mINFO    \u001b[0m | \u001b[36mmodels.YOLOXNano.pkgs.yolox.core.trainer\u001b[0m:\u001b[36m138\u001b[0m - \u001b[1mModel Summary: Params: 0.90M, Gflops: 2.55\u001b[0m\n"
     ]
    },
    {
     "name": "stdout",
     "output_type": "stream",
     "text": [
      "✓  test_data_iter_10.json 저장\n"
     ]
    },
    {
     "name": "stderr",
     "output_type": "stream",
     "text": [
      "\u001b[32m2025-04-22 05:59:22\u001b[0m | \u001b[1mINFO    \u001b[0m | \u001b[36myolox.data.datasets.coco\u001b[0m:\u001b[36m63\u001b[0m - \u001b[1mloading annotations into memory...\u001b[0m\n",
      "\u001b[32m2025-04-22 05:59:22\u001b[0m | \u001b[1mINFO    \u001b[0m | \u001b[36myolox.data.datasets.coco\u001b[0m:\u001b[36m63\u001b[0m - \u001b[1mDone (t=0.00s)\u001b[0m\n",
      "\u001b[32m2025-04-22 05:59:22\u001b[0m | \u001b[1mINFO    \u001b[0m | \u001b[36mpycocotools.coco\u001b[0m:\u001b[36m86\u001b[0m - \u001b[1mcreating index...\u001b[0m\n",
      "\u001b[32m2025-04-22 05:59:22\u001b[0m | \u001b[1mINFO    \u001b[0m | \u001b[36mpycocotools.coco\u001b[0m:\u001b[36m86\u001b[0m - \u001b[1mindex created!\u001b[0m\n",
      "\u001b[32m2025-04-22 05:59:22\u001b[0m | \u001b[1mINFO    \u001b[0m | \u001b[36mmodels.YOLOXNano.pkgs.yolox.core.trainer\u001b[0m:\u001b[36m157\u001b[0m - \u001b[1minit prefetcher, this might take one minute or less...\u001b[0m\n",
      "\u001b[32m2025-04-22 05:59:23\u001b[0m | \u001b[1mINFO    \u001b[0m | \u001b[36myolox.data.datasets.coco\u001b[0m:\u001b[36m63\u001b[0m - \u001b[1mloading annotations into memory...\u001b[0m\n",
      "\u001b[32m2025-04-22 05:59:23\u001b[0m | \u001b[1mINFO    \u001b[0m | \u001b[36myolox.data.datasets.coco\u001b[0m:\u001b[36m63\u001b[0m - \u001b[1mDone (t=0.00s)\u001b[0m\n",
      "\u001b[32m2025-04-22 05:59:23\u001b[0m | \u001b[1mINFO    \u001b[0m | \u001b[36mpycocotools.coco\u001b[0m:\u001b[36m86\u001b[0m - \u001b[1mcreating index...\u001b[0m\n",
      "\u001b[32m2025-04-22 05:59:23\u001b[0m | \u001b[1mINFO    \u001b[0m | \u001b[36mpycocotools.coco\u001b[0m:\u001b[36m86\u001b[0m - \u001b[1mindex created!\u001b[0m\n",
      "\u001b[32m2025-04-22 05:59:23\u001b[0m | \u001b[1mINFO    \u001b[0m | \u001b[36mmodels.YOLOXNano.pkgs.yolox.core.trainer\u001b[0m:\u001b[36m196\u001b[0m - \u001b[1mTraining start...\u001b[0m\n",
      "\u001b[32m2025-04-22 05:59:23\u001b[0m | \u001b[1mINFO    \u001b[0m | \u001b[36mmodels.YOLOXNano.pkgs.yolox.core.trainer\u001b[0m:\u001b[36m197\u001b[0m - \u001b[1m\n",
      "YOLOX(\n",
      "  (backbone): YOLOPAFPN(\n",
      "    (backbone): CSPDarknet(\n",
      "      (stem): Focus(\n",
      "        (conv): BaseConv(\n",
      "          (conv): Conv2d(12, 16, kernel_size=(3, 3), stride=(1, 1), padding=(1, 1), bias=False)\n",
      "          (bn): BatchNorm2d(16, eps=0.001, momentum=0.03, affine=True, track_running_stats=True)\n",
      "          (act): SiLU(inplace=True)\n",
      "        )\n",
      "      )\n",
      "      (dark2): Sequential(\n",
      "        (0): DWConv(\n",
      "          (dconv): BaseConv(\n",
      "            (conv): Conv2d(16, 16, kernel_size=(3, 3), stride=(2, 2), padding=(1, 1), groups=16, bias=False)\n",
      "            (bn): BatchNorm2d(16, eps=0.001, momentum=0.03, affine=True, track_running_stats=True)\n",
      "            (act): SiLU(inplace=True)\n",
      "          )\n",
      "          (pconv): BaseConv(\n",
      "            (conv): Conv2d(16, 32, kernel_size=(1, 1), stride=(1, 1), bias=False)\n",
      "            (bn): BatchNorm2d(32, eps=0.001, momentum=0.03, affine=True, track_running_stats=True)\n",
      "            (act): SiLU(inplace=True)\n",
      "          )\n",
      "        )\n",
      "        (1): CSPLayer(\n",
      "          (conv1): BaseConv(\n",
      "            (conv): Conv2d(32, 16, kernel_size=(1, 1), stride=(1, 1), bias=False)\n",
      "            (bn): BatchNorm2d(16, eps=0.001, momentum=0.03, affine=True, track_running_stats=True)\n",
      "            (act): SiLU(inplace=True)\n",
      "          )\n",
      "          (conv2): BaseConv(\n",
      "            (conv): Conv2d(32, 16, kernel_size=(1, 1), stride=(1, 1), bias=False)\n",
      "            (bn): BatchNorm2d(16, eps=0.001, momentum=0.03, affine=True, track_running_stats=True)\n",
      "            (act): SiLU(inplace=True)\n",
      "          )\n",
      "          (conv3): BaseConv(\n",
      "            (conv): Conv2d(32, 32, kernel_size=(1, 1), stride=(1, 1), bias=False)\n",
      "            (bn): BatchNorm2d(32, eps=0.001, momentum=0.03, affine=True, track_running_stats=True)\n",
      "            (act): SiLU(inplace=True)\n",
      "          )\n",
      "          (m): Sequential(\n",
      "            (0): Bottleneck(\n",
      "              (conv1): BaseConv(\n",
      "                (conv): Conv2d(16, 16, kernel_size=(1, 1), stride=(1, 1), bias=False)\n",
      "                (bn): BatchNorm2d(16, eps=0.001, momentum=0.03, affine=True, track_running_stats=True)\n",
      "                (act): SiLU(inplace=True)\n",
      "              )\n",
      "              (conv2): DWConv(\n",
      "                (dconv): BaseConv(\n",
      "                  (conv): Conv2d(16, 16, kernel_size=(3, 3), stride=(1, 1), padding=(1, 1), groups=16, bias=False)\n",
      "                  (bn): BatchNorm2d(16, eps=0.001, momentum=0.03, affine=True, track_running_stats=True)\n",
      "                  (act): SiLU(inplace=True)\n",
      "                )\n",
      "                (pconv): BaseConv(\n",
      "                  (conv): Conv2d(16, 16, kernel_size=(1, 1), stride=(1, 1), bias=False)\n",
      "                  (bn): BatchNorm2d(16, eps=0.001, momentum=0.03, affine=True, track_running_stats=True)\n",
      "                  (act): SiLU(inplace=True)\n",
      "                )\n",
      "              )\n",
      "            )\n",
      "          )\n",
      "        )\n",
      "      )\n",
      "      (dark3): Sequential(\n",
      "        (0): DWConv(\n",
      "          (dconv): BaseConv(\n",
      "            (conv): Conv2d(32, 32, kernel_size=(3, 3), stride=(2, 2), padding=(1, 1), groups=32, bias=False)\n",
      "            (bn): BatchNorm2d(32, eps=0.001, momentum=0.03, affine=True, track_running_stats=True)\n",
      "            (act): SiLU(inplace=True)\n",
      "          )\n",
      "          (pconv): BaseConv(\n",
      "            (conv): Conv2d(32, 64, kernel_size=(1, 1), stride=(1, 1), bias=False)\n",
      "            (bn): BatchNorm2d(64, eps=0.001, momentum=0.03, affine=True, track_running_stats=True)\n",
      "            (act): SiLU(inplace=True)\n",
      "          )\n",
      "        )\n",
      "        (1): CSPLayer(\n",
      "          (conv1): BaseConv(\n",
      "            (conv): Conv2d(64, 32, kernel_size=(1, 1), stride=(1, 1), bias=False)\n",
      "            (bn): BatchNorm2d(32, eps=0.001, momentum=0.03, affine=True, track_running_stats=True)\n",
      "            (act): SiLU(inplace=True)\n",
      "          )\n",
      "          (conv2): BaseConv(\n",
      "            (conv): Conv2d(64, 32, kernel_size=(1, 1), stride=(1, 1), bias=False)\n",
      "            (bn): BatchNorm2d(32, eps=0.001, momentum=0.03, affine=True, track_running_stats=True)\n",
      "            (act): SiLU(inplace=True)\n",
      "          )\n",
      "          (conv3): BaseConv(\n",
      "            (conv): Conv2d(64, 64, kernel_size=(1, 1), stride=(1, 1), bias=False)\n",
      "            (bn): BatchNorm2d(64, eps=0.001, momentum=0.03, affine=True, track_running_stats=True)\n",
      "            (act): SiLU(inplace=True)\n",
      "          )\n",
      "          (m): Sequential(\n",
      "            (0): Bottleneck(\n",
      "              (conv1): BaseConv(\n",
      "                (conv): Conv2d(32, 32, kernel_size=(1, 1), stride=(1, 1), bias=False)\n",
      "                (bn): BatchNorm2d(32, eps=0.001, momentum=0.03, affine=True, track_running_stats=True)\n",
      "                (act): SiLU(inplace=True)\n",
      "              )\n",
      "              (conv2): DWConv(\n",
      "                (dconv): BaseConv(\n",
      "                  (conv): Conv2d(32, 32, kernel_size=(3, 3), stride=(1, 1), padding=(1, 1), groups=32, bias=False)\n",
      "                  (bn): BatchNorm2d(32, eps=0.001, momentum=0.03, affine=True, track_running_stats=True)\n",
      "                  (act): SiLU(inplace=True)\n",
      "                )\n",
      "                (pconv): BaseConv(\n",
      "                  (conv): Conv2d(32, 32, kernel_size=(1, 1), stride=(1, 1), bias=False)\n",
      "                  (bn): BatchNorm2d(32, eps=0.001, momentum=0.03, affine=True, track_running_stats=True)\n",
      "                  (act): SiLU(inplace=True)\n",
      "                )\n",
      "              )\n",
      "            )\n",
      "            (1): Bottleneck(\n",
      "              (conv1): BaseConv(\n",
      "                (conv): Conv2d(32, 32, kernel_size=(1, 1), stride=(1, 1), bias=False)\n",
      "                (bn): BatchNorm2d(32, eps=0.001, momentum=0.03, affine=True, track_running_stats=True)\n",
      "                (act): SiLU(inplace=True)\n",
      "              )\n",
      "              (conv2): DWConv(\n",
      "                (dconv): BaseConv(\n",
      "                  (conv): Conv2d(32, 32, kernel_size=(3, 3), stride=(1, 1), padding=(1, 1), groups=32, bias=False)\n",
      "                  (bn): BatchNorm2d(32, eps=0.001, momentum=0.03, affine=True, track_running_stats=True)\n",
      "                  (act): SiLU(inplace=True)\n",
      "                )\n",
      "                (pconv): BaseConv(\n",
      "                  (conv): Conv2d(32, 32, kernel_size=(1, 1), stride=(1, 1), bias=False)\n",
      "                  (bn): BatchNorm2d(32, eps=0.001, momentum=0.03, affine=True, track_running_stats=True)\n",
      "                  (act): SiLU(inplace=True)\n",
      "                )\n",
      "              )\n",
      "            )\n",
      "            (2): Bottleneck(\n",
      "              (conv1): BaseConv(\n",
      "                (conv): Conv2d(32, 32, kernel_size=(1, 1), stride=(1, 1), bias=False)\n",
      "                (bn): BatchNorm2d(32, eps=0.001, momentum=0.03, affine=True, track_running_stats=True)\n",
      "                (act): SiLU(inplace=True)\n",
      "              )\n",
      "              (conv2): DWConv(\n",
      "                (dconv): BaseConv(\n",
      "                  (conv): Conv2d(32, 32, kernel_size=(3, 3), stride=(1, 1), padding=(1, 1), groups=32, bias=False)\n",
      "                  (bn): BatchNorm2d(32, eps=0.001, momentum=0.03, affine=True, track_running_stats=True)\n",
      "                  (act): SiLU(inplace=True)\n",
      "                )\n",
      "                (pconv): BaseConv(\n",
      "                  (conv): Conv2d(32, 32, kernel_size=(1, 1), stride=(1, 1), bias=False)\n",
      "                  (bn): BatchNorm2d(32, eps=0.001, momentum=0.03, affine=True, track_running_stats=True)\n",
      "                  (act): SiLU(inplace=True)\n",
      "                )\n",
      "              )\n",
      "            )\n",
      "          )\n",
      "        )\n",
      "      )\n",
      "      (dark4): Sequential(\n",
      "        (0): DWConv(\n",
      "          (dconv): BaseConv(\n",
      "            (conv): Conv2d(64, 64, kernel_size=(3, 3), stride=(2, 2), padding=(1, 1), groups=64, bias=False)\n",
      "            (bn): BatchNorm2d(64, eps=0.001, momentum=0.03, affine=True, track_running_stats=True)\n",
      "            (act): SiLU(inplace=True)\n",
      "          )\n",
      "          (pconv): BaseConv(\n",
      "            (conv): Conv2d(64, 128, kernel_size=(1, 1), stride=(1, 1), bias=False)\n",
      "            (bn): BatchNorm2d(128, eps=0.001, momentum=0.03, affine=True, track_running_stats=True)\n",
      "            (act): SiLU(inplace=True)\n",
      "          )\n",
      "        )\n",
      "        (1): CSPLayer(\n",
      "          (conv1): BaseConv(\n",
      "            (conv): Conv2d(128, 64, kernel_size=(1, 1), stride=(1, 1), bias=False)\n",
      "            (bn): BatchNorm2d(64, eps=0.001, momentum=0.03, affine=True, track_running_stats=True)\n",
      "            (act): SiLU(inplace=True)\n",
      "          )\n",
      "          (conv2): BaseConv(\n",
      "            (conv): Conv2d(128, 64, kernel_size=(1, 1), stride=(1, 1), bias=False)\n",
      "            (bn): BatchNorm2d(64, eps=0.001, momentum=0.03, affine=True, track_running_stats=True)\n",
      "            (act): SiLU(inplace=True)\n",
      "          )\n",
      "          (conv3): BaseConv(\n",
      "            (conv): Conv2d(128, 128, kernel_size=(1, 1), stride=(1, 1), bias=False)\n",
      "            (bn): BatchNorm2d(128, eps=0.001, momentum=0.03, affine=True, track_running_stats=True)\n",
      "            (act): SiLU(inplace=True)\n",
      "          )\n",
      "          (m): Sequential(\n",
      "            (0): Bottleneck(\n",
      "              (conv1): BaseConv(\n",
      "                (conv): Conv2d(64, 64, kernel_size=(1, 1), stride=(1, 1), bias=False)\n",
      "                (bn): BatchNorm2d(64, eps=0.001, momentum=0.03, affine=True, track_running_stats=True)\n",
      "                (act): SiLU(inplace=True)\n",
      "              )\n",
      "              (conv2): DWConv(\n",
      "                (dconv): BaseConv(\n",
      "                  (conv): Conv2d(64, 64, kernel_size=(3, 3), stride=(1, 1), padding=(1, 1), groups=64, bias=False)\n",
      "                  (bn): BatchNorm2d(64, eps=0.001, momentum=0.03, affine=True, track_running_stats=True)\n",
      "                  (act): SiLU(inplace=True)\n",
      "                )\n",
      "                (pconv): BaseConv(\n",
      "                  (conv): Conv2d(64, 64, kernel_size=(1, 1), stride=(1, 1), bias=False)\n",
      "                  (bn): BatchNorm2d(64, eps=0.001, momentum=0.03, affine=True, track_running_stats=True)\n",
      "                  (act): SiLU(inplace=True)\n",
      "                )\n",
      "              )\n",
      "            )\n",
      "            (1): Bottleneck(\n",
      "              (conv1): BaseConv(\n",
      "                (conv): Conv2d(64, 64, kernel_size=(1, 1), stride=(1, 1), bias=False)\n",
      "                (bn): BatchNorm2d(64, eps=0.001, momentum=0.03, affine=True, track_running_stats=True)\n",
      "                (act): SiLU(inplace=True)\n",
      "              )\n",
      "              (conv2): DWConv(\n",
      "                (dconv): BaseConv(\n",
      "                  (conv): Conv2d(64, 64, kernel_size=(3, 3), stride=(1, 1), padding=(1, 1), groups=64, bias=False)\n",
      "                  (bn): BatchNorm2d(64, eps=0.001, momentum=0.03, affine=True, track_running_stats=True)\n",
      "                  (act): SiLU(inplace=True)\n",
      "                )\n",
      "                (pconv): BaseConv(\n",
      "                  (conv): Conv2d(64, 64, kernel_size=(1, 1), stride=(1, 1), bias=False)\n",
      "                  (bn): BatchNorm2d(64, eps=0.001, momentum=0.03, affine=True, track_running_stats=True)\n",
      "                  (act): SiLU(inplace=True)\n",
      "                )\n",
      "              )\n",
      "            )\n",
      "            (2): Bottleneck(\n",
      "              (conv1): BaseConv(\n",
      "                (conv): Conv2d(64, 64, kernel_size=(1, 1), stride=(1, 1), bias=False)\n",
      "                (bn): BatchNorm2d(64, eps=0.001, momentum=0.03, affine=True, track_running_stats=True)\n",
      "                (act): SiLU(inplace=True)\n",
      "              )\n",
      "              (conv2): DWConv(\n",
      "                (dconv): BaseConv(\n",
      "                  (conv): Conv2d(64, 64, kernel_size=(3, 3), stride=(1, 1), padding=(1, 1), groups=64, bias=False)\n",
      "                  (bn): BatchNorm2d(64, eps=0.001, momentum=0.03, affine=True, track_running_stats=True)\n",
      "                  (act): SiLU(inplace=True)\n",
      "                )\n",
      "                (pconv): BaseConv(\n",
      "                  (conv): Conv2d(64, 64, kernel_size=(1, 1), stride=(1, 1), bias=False)\n",
      "                  (bn): BatchNorm2d(64, eps=0.001, momentum=0.03, affine=True, track_running_stats=True)\n",
      "                  (act): SiLU(inplace=True)\n",
      "                )\n",
      "              )\n",
      "            )\n",
      "          )\n",
      "        )\n",
      "      )\n",
      "      (dark5): Sequential(\n",
      "        (0): DWConv(\n",
      "          (dconv): BaseConv(\n",
      "            (conv): Conv2d(128, 128, kernel_size=(3, 3), stride=(2, 2), padding=(1, 1), groups=128, bias=False)\n",
      "            (bn): BatchNorm2d(128, eps=0.001, momentum=0.03, affine=True, track_running_stats=True)\n",
      "            (act): SiLU(inplace=True)\n",
      "          )\n",
      "          (pconv): BaseConv(\n",
      "            (conv): Conv2d(128, 256, kernel_size=(1, 1), stride=(1, 1), bias=False)\n",
      "            (bn): BatchNorm2d(256, eps=0.001, momentum=0.03, affine=True, track_running_stats=True)\n",
      "            (act): SiLU(inplace=True)\n",
      "          )\n",
      "        )\n",
      "        (1): SPPBottleneck(\n",
      "          (conv1): BaseConv(\n",
      "            (conv): Conv2d(256, 128, kernel_size=(1, 1), stride=(1, 1), bias=False)\n",
      "            (bn): BatchNorm2d(128, eps=0.001, momentum=0.03, affine=True, track_running_stats=True)\n",
      "            (act): SiLU(inplace=True)\n",
      "          )\n",
      "          (m): ModuleList(\n",
      "            (0): MaxPool2d(kernel_size=5, stride=1, padding=2, dilation=1, ceil_mode=False)\n",
      "            (1): MaxPool2d(kernel_size=9, stride=1, padding=4, dilation=1, ceil_mode=False)\n",
      "            (2): MaxPool2d(kernel_size=13, stride=1, padding=6, dilation=1, ceil_mode=False)\n",
      "          )\n",
      "          (conv2): BaseConv(\n",
      "            (conv): Conv2d(512, 256, kernel_size=(1, 1), stride=(1, 1), bias=False)\n",
      "            (bn): BatchNorm2d(256, eps=0.001, momentum=0.03, affine=True, track_running_stats=True)\n",
      "            (act): SiLU(inplace=True)\n",
      "          )\n",
      "        )\n",
      "        (2): CSPLayer(\n",
      "          (conv1): BaseConv(\n",
      "            (conv): Conv2d(256, 128, kernel_size=(1, 1), stride=(1, 1), bias=False)\n",
      "            (bn): BatchNorm2d(128, eps=0.001, momentum=0.03, affine=True, track_running_stats=True)\n",
      "            (act): SiLU(inplace=True)\n",
      "          )\n",
      "          (conv2): BaseConv(\n",
      "            (conv): Conv2d(256, 128, kernel_size=(1, 1), stride=(1, 1), bias=False)\n",
      "            (bn): BatchNorm2d(128, eps=0.001, momentum=0.03, affine=True, track_running_stats=True)\n",
      "            (act): SiLU(inplace=True)\n",
      "          )\n",
      "          (conv3): BaseConv(\n",
      "            (conv): Conv2d(256, 256, kernel_size=(1, 1), stride=(1, 1), bias=False)\n",
      "            (bn): BatchNorm2d(256, eps=0.001, momentum=0.03, affine=True, track_running_stats=True)\n",
      "            (act): SiLU(inplace=True)\n",
      "          )\n",
      "          (m): Sequential(\n",
      "            (0): Bottleneck(\n",
      "              (conv1): BaseConv(\n",
      "                (conv): Conv2d(128, 128, kernel_size=(1, 1), stride=(1, 1), bias=False)\n",
      "                (bn): BatchNorm2d(128, eps=0.001, momentum=0.03, affine=True, track_running_stats=True)\n",
      "                (act): SiLU(inplace=True)\n",
      "              )\n",
      "              (conv2): DWConv(\n",
      "                (dconv): BaseConv(\n",
      "                  (conv): Conv2d(128, 128, kernel_size=(3, 3), stride=(1, 1), padding=(1, 1), groups=128, bias=False)\n",
      "                  (bn): BatchNorm2d(128, eps=0.001, momentum=0.03, affine=True, track_running_stats=True)\n",
      "                  (act): SiLU(inplace=True)\n",
      "                )\n",
      "                (pconv): BaseConv(\n",
      "                  (conv): Conv2d(128, 128, kernel_size=(1, 1), stride=(1, 1), bias=False)\n",
      "                  (bn): BatchNorm2d(128, eps=0.001, momentum=0.03, affine=True, track_running_stats=True)\n",
      "                  (act): SiLU(inplace=True)\n",
      "                )\n",
      "              )\n",
      "            )\n",
      "          )\n",
      "        )\n",
      "      )\n",
      "    )\n",
      "    (upsample): Upsample(scale_factor=2.0, mode='nearest')\n",
      "    (lateral_conv0): BaseConv(\n",
      "      (conv): Conv2d(256, 128, kernel_size=(1, 1), stride=(1, 1), bias=False)\n",
      "      (bn): BatchNorm2d(128, eps=0.001, momentum=0.03, affine=True, track_running_stats=True)\n",
      "      (act): SiLU(inplace=True)\n",
      "    )\n",
      "    (C3_p4): CSPLayer(\n",
      "      (conv1): BaseConv(\n",
      "        (conv): Conv2d(256, 64, kernel_size=(1, 1), stride=(1, 1), bias=False)\n",
      "        (bn): BatchNorm2d(64, eps=0.001, momentum=0.03, affine=True, track_running_stats=True)\n",
      "        (act): SiLU(inplace=True)\n",
      "      )\n",
      "      (conv2): BaseConv(\n",
      "        (conv): Conv2d(256, 64, kernel_size=(1, 1), stride=(1, 1), bias=False)\n",
      "        (bn): BatchNorm2d(64, eps=0.001, momentum=0.03, affine=True, track_running_stats=True)\n",
      "        (act): SiLU(inplace=True)\n",
      "      )\n",
      "      (conv3): BaseConv(\n",
      "        (conv): Conv2d(128, 128, kernel_size=(1, 1), stride=(1, 1), bias=False)\n",
      "        (bn): BatchNorm2d(128, eps=0.001, momentum=0.03, affine=True, track_running_stats=True)\n",
      "        (act): SiLU(inplace=True)\n",
      "      )\n",
      "      (m): Sequential(\n",
      "        (0): Bottleneck(\n",
      "          (conv1): BaseConv(\n",
      "            (conv): Conv2d(64, 64, kernel_size=(1, 1), stride=(1, 1), bias=False)\n",
      "            (bn): BatchNorm2d(64, eps=0.001, momentum=0.03, affine=True, track_running_stats=True)\n",
      "            (act): SiLU(inplace=True)\n",
      "          )\n",
      "          (conv2): DWConv(\n",
      "            (dconv): BaseConv(\n",
      "              (conv): Conv2d(64, 64, kernel_size=(3, 3), stride=(1, 1), padding=(1, 1), groups=64, bias=False)\n",
      "              (bn): BatchNorm2d(64, eps=0.001, momentum=0.03, affine=True, track_running_stats=True)\n",
      "              (act): SiLU(inplace=True)\n",
      "            )\n",
      "            (pconv): BaseConv(\n",
      "              (conv): Conv2d(64, 64, kernel_size=(1, 1), stride=(1, 1), bias=False)\n",
      "              (bn): BatchNorm2d(64, eps=0.001, momentum=0.03, affine=True, track_running_stats=True)\n",
      "              (act): SiLU(inplace=True)\n",
      "            )\n",
      "          )\n",
      "        )\n",
      "      )\n",
      "    )\n",
      "    (reduce_conv1): BaseConv(\n",
      "      (conv): Conv2d(128, 64, kernel_size=(1, 1), stride=(1, 1), bias=False)\n",
      "      (bn): BatchNorm2d(64, eps=0.001, momentum=0.03, affine=True, track_running_stats=True)\n",
      "      (act): SiLU(inplace=True)\n",
      "    )\n",
      "    (C3_p3): CSPLayer(\n",
      "      (conv1): BaseConv(\n",
      "        (conv): Conv2d(128, 32, kernel_size=(1, 1), stride=(1, 1), bias=False)\n",
      "        (bn): BatchNorm2d(32, eps=0.001, momentum=0.03, affine=True, track_running_stats=True)\n",
      "        (act): SiLU(inplace=True)\n",
      "      )\n",
      "      (conv2): BaseConv(\n",
      "        (conv): Conv2d(128, 32, kernel_size=(1, 1), stride=(1, 1), bias=False)\n",
      "        (bn): BatchNorm2d(32, eps=0.001, momentum=0.03, affine=True, track_running_stats=True)\n",
      "        (act): SiLU(inplace=True)\n",
      "      )\n",
      "      (conv3): BaseConv(\n",
      "        (conv): Conv2d(64, 64, kernel_size=(1, 1), stride=(1, 1), bias=False)\n",
      "        (bn): BatchNorm2d(64, eps=0.001, momentum=0.03, affine=True, track_running_stats=True)\n",
      "        (act): SiLU(inplace=True)\n",
      "      )\n",
      "      (m): Sequential(\n",
      "        (0): Bottleneck(\n",
      "          (conv1): BaseConv(\n",
      "            (conv): Conv2d(32, 32, kernel_size=(1, 1), stride=(1, 1), bias=False)\n",
      "            (bn): BatchNorm2d(32, eps=0.001, momentum=0.03, affine=True, track_running_stats=True)\n",
      "            (act): SiLU(inplace=True)\n",
      "          )\n",
      "          (conv2): DWConv(\n",
      "            (dconv): BaseConv(\n",
      "              (conv): Conv2d(32, 32, kernel_size=(3, 3), stride=(1, 1), padding=(1, 1), groups=32, bias=False)\n",
      "              (bn): BatchNorm2d(32, eps=0.001, momentum=0.03, affine=True, track_running_stats=True)\n",
      "              (act): SiLU(inplace=True)\n",
      "            )\n",
      "            (pconv): BaseConv(\n",
      "              (conv): Conv2d(32, 32, kernel_size=(1, 1), stride=(1, 1), bias=False)\n",
      "              (bn): BatchNorm2d(32, eps=0.001, momentum=0.03, affine=True, track_running_stats=True)\n",
      "              (act): SiLU(inplace=True)\n",
      "            )\n",
      "          )\n",
      "        )\n",
      "      )\n",
      "    )\n",
      "    (bu_conv2): DWConv(\n",
      "      (dconv): BaseConv(\n",
      "        (conv): Conv2d(64, 64, kernel_size=(3, 3), stride=(2, 2), padding=(1, 1), groups=64, bias=False)\n",
      "        (bn): BatchNorm2d(64, eps=0.001, momentum=0.03, affine=True, track_running_stats=True)\n",
      "        (act): SiLU(inplace=True)\n",
      "      )\n",
      "      (pconv): BaseConv(\n",
      "        (conv): Conv2d(64, 64, kernel_size=(1, 1), stride=(1, 1), bias=False)\n",
      "        (bn): BatchNorm2d(64, eps=0.001, momentum=0.03, affine=True, track_running_stats=True)\n",
      "        (act): SiLU(inplace=True)\n",
      "      )\n",
      "    )\n",
      "    (C3_n3): CSPLayer(\n",
      "      (conv1): BaseConv(\n",
      "        (conv): Conv2d(128, 64, kernel_size=(1, 1), stride=(1, 1), bias=False)\n",
      "        (bn): BatchNorm2d(64, eps=0.001, momentum=0.03, affine=True, track_running_stats=True)\n",
      "        (act): SiLU(inplace=True)\n",
      "      )\n",
      "      (conv2): BaseConv(\n",
      "        (conv): Conv2d(128, 64, kernel_size=(1, 1), stride=(1, 1), bias=False)\n",
      "        (bn): BatchNorm2d(64, eps=0.001, momentum=0.03, affine=True, track_running_stats=True)\n",
      "        (act): SiLU(inplace=True)\n",
      "      )\n",
      "      (conv3): BaseConv(\n",
      "        (conv): Conv2d(128, 128, kernel_size=(1, 1), stride=(1, 1), bias=False)\n",
      "        (bn): BatchNorm2d(128, eps=0.001, momentum=0.03, affine=True, track_running_stats=True)\n",
      "        (act): SiLU(inplace=True)\n",
      "      )\n",
      "      (m): Sequential(\n",
      "        (0): Bottleneck(\n",
      "          (conv1): BaseConv(\n",
      "            (conv): Conv2d(64, 64, kernel_size=(1, 1), stride=(1, 1), bias=False)\n",
      "            (bn): BatchNorm2d(64, eps=0.001, momentum=0.03, affine=True, track_running_stats=True)\n",
      "            (act): SiLU(inplace=True)\n",
      "          )\n",
      "          (conv2): DWConv(\n",
      "            (dconv): BaseConv(\n",
      "              (conv): Conv2d(64, 64, kernel_size=(3, 3), stride=(1, 1), padding=(1, 1), groups=64, bias=False)\n",
      "              (bn): BatchNorm2d(64, eps=0.001, momentum=0.03, affine=True, track_running_stats=True)\n",
      "              (act): SiLU(inplace=True)\n",
      "            )\n",
      "            (pconv): BaseConv(\n",
      "              (conv): Conv2d(64, 64, kernel_size=(1, 1), stride=(1, 1), bias=False)\n",
      "              (bn): BatchNorm2d(64, eps=0.001, momentum=0.03, affine=True, track_running_stats=True)\n",
      "              (act): SiLU(inplace=True)\n",
      "            )\n",
      "          )\n",
      "        )\n",
      "      )\n",
      "    )\n",
      "    (bu_conv1): DWConv(\n",
      "      (dconv): BaseConv(\n",
      "        (conv): Conv2d(128, 128, kernel_size=(3, 3), stride=(2, 2), padding=(1, 1), groups=128, bias=False)\n",
      "        (bn): BatchNorm2d(128, eps=0.001, momentum=0.03, affine=True, track_running_stats=True)\n",
      "        (act): SiLU(inplace=True)\n",
      "      )\n",
      "      (pconv): BaseConv(\n",
      "        (conv): Conv2d(128, 128, kernel_size=(1, 1), stride=(1, 1), bias=False)\n",
      "        (bn): BatchNorm2d(128, eps=0.001, momentum=0.03, affine=True, track_running_stats=True)\n",
      "        (act): SiLU(inplace=True)\n",
      "      )\n",
      "    )\n",
      "    (C3_n4): CSPLayer(\n",
      "      (conv1): BaseConv(\n",
      "        (conv): Conv2d(256, 128, kernel_size=(1, 1), stride=(1, 1), bias=False)\n",
      "        (bn): BatchNorm2d(128, eps=0.001, momentum=0.03, affine=True, track_running_stats=True)\n",
      "        (act): SiLU(inplace=True)\n",
      "      )\n",
      "      (conv2): BaseConv(\n",
      "        (conv): Conv2d(256, 128, kernel_size=(1, 1), stride=(1, 1), bias=False)\n",
      "        (bn): BatchNorm2d(128, eps=0.001, momentum=0.03, affine=True, track_running_stats=True)\n",
      "        (act): SiLU(inplace=True)\n",
      "      )\n",
      "      (conv3): BaseConv(\n",
      "        (conv): Conv2d(256, 256, kernel_size=(1, 1), stride=(1, 1), bias=False)\n",
      "        (bn): BatchNorm2d(256, eps=0.001, momentum=0.03, affine=True, track_running_stats=True)\n",
      "        (act): SiLU(inplace=True)\n",
      "      )\n",
      "      (m): Sequential(\n",
      "        (0): Bottleneck(\n",
      "          (conv1): BaseConv(\n",
      "            (conv): Conv2d(128, 128, kernel_size=(1, 1), stride=(1, 1), bias=False)\n",
      "            (bn): BatchNorm2d(128, eps=0.001, momentum=0.03, affine=True, track_running_stats=True)\n",
      "            (act): SiLU(inplace=True)\n",
      "          )\n",
      "          (conv2): DWConv(\n",
      "            (dconv): BaseConv(\n",
      "              (conv): Conv2d(128, 128, kernel_size=(3, 3), stride=(1, 1), padding=(1, 1), groups=128, bias=False)\n",
      "              (bn): BatchNorm2d(128, eps=0.001, momentum=0.03, affine=True, track_running_stats=True)\n",
      "              (act): SiLU(inplace=True)\n",
      "            )\n",
      "            (pconv): BaseConv(\n",
      "              (conv): Conv2d(128, 128, kernel_size=(1, 1), stride=(1, 1), bias=False)\n",
      "              (bn): BatchNorm2d(128, eps=0.001, momentum=0.03, affine=True, track_running_stats=True)\n",
      "              (act): SiLU(inplace=True)\n",
      "            )\n",
      "          )\n",
      "        )\n",
      "      )\n",
      "    )\n",
      "  )\n",
      "  (head): YOLOXHead(\n",
      "    (cls_convs): ModuleList(\n",
      "      (0-2): 3 x Sequential(\n",
      "        (0): DWConv(\n",
      "          (dconv): BaseConv(\n",
      "            (conv): Conv2d(64, 64, kernel_size=(3, 3), stride=(1, 1), padding=(1, 1), groups=64, bias=False)\n",
      "            (bn): BatchNorm2d(64, eps=0.001, momentum=0.03, affine=True, track_running_stats=True)\n",
      "            (act): SiLU(inplace=True)\n",
      "          )\n",
      "          (pconv): BaseConv(\n",
      "            (conv): Conv2d(64, 64, kernel_size=(1, 1), stride=(1, 1), bias=False)\n",
      "            (bn): BatchNorm2d(64, eps=0.001, momentum=0.03, affine=True, track_running_stats=True)\n",
      "            (act): SiLU(inplace=True)\n",
      "          )\n",
      "        )\n",
      "        (1): DWConv(\n",
      "          (dconv): BaseConv(\n",
      "            (conv): Conv2d(64, 64, kernel_size=(3, 3), stride=(1, 1), padding=(1, 1), groups=64, bias=False)\n",
      "            (bn): BatchNorm2d(64, eps=0.001, momentum=0.03, affine=True, track_running_stats=True)\n",
      "            (act): SiLU(inplace=True)\n",
      "          )\n",
      "          (pconv): BaseConv(\n",
      "            (conv): Conv2d(64, 64, kernel_size=(1, 1), stride=(1, 1), bias=False)\n",
      "            (bn): BatchNorm2d(64, eps=0.001, momentum=0.03, affine=True, track_running_stats=True)\n",
      "            (act): SiLU(inplace=True)\n",
      "          )\n",
      "        )\n",
      "      )\n",
      "    )\n",
      "    (reg_convs): ModuleList(\n",
      "      (0-2): 3 x Sequential(\n",
      "        (0): DWConv(\n",
      "          (dconv): BaseConv(\n",
      "            (conv): Conv2d(64, 64, kernel_size=(3, 3), stride=(1, 1), padding=(1, 1), groups=64, bias=False)\n",
      "            (bn): BatchNorm2d(64, eps=0.001, momentum=0.03, affine=True, track_running_stats=True)\n",
      "            (act): SiLU(inplace=True)\n",
      "          )\n",
      "          (pconv): BaseConv(\n",
      "            (conv): Conv2d(64, 64, kernel_size=(1, 1), stride=(1, 1), bias=False)\n",
      "            (bn): BatchNorm2d(64, eps=0.001, momentum=0.03, affine=True, track_running_stats=True)\n",
      "            (act): SiLU(inplace=True)\n",
      "          )\n",
      "        )\n",
      "        (1): DWConv(\n",
      "          (dconv): BaseConv(\n",
      "            (conv): Conv2d(64, 64, kernel_size=(3, 3), stride=(1, 1), padding=(1, 1), groups=64, bias=False)\n",
      "            (bn): BatchNorm2d(64, eps=0.001, momentum=0.03, affine=True, track_running_stats=True)\n",
      "            (act): SiLU(inplace=True)\n",
      "          )\n",
      "          (pconv): BaseConv(\n",
      "            (conv): Conv2d(64, 64, kernel_size=(1, 1), stride=(1, 1), bias=False)\n",
      "            (bn): BatchNorm2d(64, eps=0.001, momentum=0.03, affine=True, track_running_stats=True)\n",
      "            (act): SiLU(inplace=True)\n",
      "          )\n",
      "        )\n",
      "      )\n",
      "    )\n",
      "    (cls_preds): ModuleList(\n",
      "      (0-2): 3 x Conv2d(64, 1, kernel_size=(1, 1), stride=(1, 1))\n",
      "    )\n",
      "    (reg_preds): ModuleList(\n",
      "      (0-2): 3 x Conv2d(64, 4, kernel_size=(1, 1), stride=(1, 1))\n",
      "    )\n",
      "    (obj_preds): ModuleList(\n",
      "      (0-2): 3 x Conv2d(64, 1, kernel_size=(1, 1), stride=(1, 1))\n",
      "    )\n",
      "    (stems): ModuleList(\n",
      "      (0): BaseConv(\n",
      "        (conv): Conv2d(64, 64, kernel_size=(1, 1), stride=(1, 1), bias=False)\n",
      "        (bn): BatchNorm2d(64, eps=0.001, momentum=0.03, affine=True, track_running_stats=True)\n",
      "        (act): SiLU(inplace=True)\n",
      "      )\n",
      "      (1): BaseConv(\n",
      "        (conv): Conv2d(128, 64, kernel_size=(1, 1), stride=(1, 1), bias=False)\n",
      "        (bn): BatchNorm2d(64, eps=0.001, momentum=0.03, affine=True, track_running_stats=True)\n",
      "        (act): SiLU(inplace=True)\n",
      "      )\n",
      "      (2): BaseConv(\n",
      "        (conv): Conv2d(256, 64, kernel_size=(1, 1), stride=(1, 1), bias=False)\n",
      "        (bn): BatchNorm2d(64, eps=0.001, momentum=0.03, affine=True, track_running_stats=True)\n",
      "        (act): SiLU(inplace=True)\n",
      "      )\n",
      "    )\n",
      "    (l1_loss): L1Loss()\n",
      "    (bcewithlog_loss): BCEWithLogitsLoss()\n",
      "    (iou_loss): IOUloss()\n",
      "  )\n",
      ")\u001b[0m\n",
      "\u001b[32m2025-04-22 05:59:23\u001b[0m | \u001b[1mINFO    \u001b[0m | \u001b[36mmodels.YOLOXNano.pkgs.yolox.core.trainer\u001b[0m:\u001b[36m218\u001b[0m - \u001b[1m---> start train epoch1\u001b[0m\n",
      "\u001b[32m2025-04-22 05:59:25\u001b[0m | \u001b[1mINFO    \u001b[0m | \u001b[36mmodels.YOLOXNano.pkgs.yolox.core.trainer\u001b[0m:\u001b[36m270\u001b[0m - \u001b[1mepoch: 1/20, iter: 10/42, gpu mem: 4049Mb, mem: 5.7Gb, iter_time: 0.257s, data_time: 0.001s, total_loss: 68.4, iou_loss: 4.9, l1_loss: 0.0, conf_loss: 63.0, cls_loss: 0.5, lr: 1.417e-04, size: 640, ETA: 0:03:33\u001b[0m\n",
      "\u001b[32m2025-04-22 05:59:27\u001b[0m | \u001b[1mINFO    \u001b[0m | \u001b[36mmodels.YOLOXNano.pkgs.yolox.core.trainer\u001b[0m:\u001b[36m270\u001b[0m - \u001b[1mepoch: 1/20, iter: 20/42, gpu mem: 4049Mb, mem: 5.8Gb, iter_time: 0.149s, data_time: 0.001s, total_loss: 26.7, iou_loss: 4.8, l1_loss: 0.0, conf_loss: 21.4, cls_loss: 0.6, lr: 5.669e-04, size: 640, ETA: 0:02:46\u001b[0m\n",
      "\u001b[32m2025-04-22 05:59:28\u001b[0m | \u001b[1mINFO    \u001b[0m | \u001b[36mmodels.YOLOXNano.pkgs.yolox.core.trainer\u001b[0m:\u001b[36m270\u001b[0m - \u001b[1mepoch: 1/20, iter: 30/42, gpu mem: 4049Mb, mem: 5.8Gb, iter_time: 0.130s, data_time: 0.002s, total_loss: 12.4, iou_loss: 4.8, l1_loss: 0.0, conf_loss: 7.0, cls_loss: 0.6, lr: 1.276e-03, size: 352, ETA: 0:02:24\u001b[0m\n",
      "\u001b[32m2025-04-22 05:59:29\u001b[0m | \u001b[1mINFO    \u001b[0m | \u001b[36mmodels.YOLOXNano.pkgs.yolox.core.trainer\u001b[0m:\u001b[36m270\u001b[0m - \u001b[1mepoch: 1/20, iter: 40/42, gpu mem: 4049Mb, mem: 5.8Gb, iter_time: 0.125s, data_time: 0.002s, total_loss: 11.4, iou_loss: 4.3, l1_loss: 0.0, conf_loss: 5.7, cls_loss: 1.5, lr: 2.268e-03, size: 320, ETA: 0:02:12\u001b[0m\n",
      "\u001b[32m2025-04-22 05:59:30\u001b[0m | \u001b[1mINFO    \u001b[0m | \u001b[36mmodels.YOLOXNano.pkgs.yolox.core.trainer\u001b[0m:\u001b[36m402\u001b[0m - \u001b[1mSave weights to output/250422_055904/train/250422_055904_yoloxnano_COCO_airplane_Iter_1\u001b[0m\n",
      "\u001b[32m2025-04-22 05:59:30\u001b[0m | \u001b[1mINFO    \u001b[0m | \u001b[36mmodels.YOLOXNano.pkgs.yolox.core.trainer\u001b[0m:\u001b[36m218\u001b[0m - \u001b[1m---> start train epoch2\u001b[0m\n",
      "\u001b[32m2025-04-22 05:59:31\u001b[0m | \u001b[1mINFO    \u001b[0m | \u001b[36mmodels.YOLOXNano.pkgs.yolox.core.trainer\u001b[0m:\u001b[36m270\u001b[0m - \u001b[1mepoch: 2/20, iter: 10/42, gpu mem: 4049Mb, mem: 5.8Gb, iter_time: 0.134s, data_time: 0.002s, total_loss: 11.0, iou_loss: 4.2, l1_loss: 0.0, conf_loss: 5.8, cls_loss: 1.0, lr: 3.832e-03, size: 416, ETA: 0:02:05\u001b[0m\n",
      "\u001b[32m2025-04-22 05:59:32\u001b[0m | \u001b[1mINFO    \u001b[0m | \u001b[36mmodels.YOLOXNano.pkgs.yolox.core.trainer\u001b[0m:\u001b[36m270\u001b[0m - \u001b[1mepoch: 2/20, iter: 20/42, gpu mem: 4049Mb, mem: 5.8Gb, iter_time: 0.126s, data_time: 0.002s, total_loss: 10.0, iou_loss: 4.0, l1_loss: 0.0, conf_loss: 5.0, cls_loss: 1.0, lr: 5.448e-03, size: 416, ETA: 0:02:00\u001b[0m\n",
      "\u001b[32m2025-04-22 05:59:34\u001b[0m | \u001b[1mINFO    \u001b[0m | \u001b[36mmodels.YOLOXNano.pkgs.yolox.core.trainer\u001b[0m:\u001b[36m270\u001b[0m - \u001b[1mepoch: 2/20, iter: 30/42, gpu mem: 4049Mb, mem: 5.8Gb, iter_time: 0.126s, data_time: 0.002s, total_loss: 9.8, iou_loss: 4.0, l1_loss: 0.0, conf_loss: 4.8, cls_loss: 1.0, lr: 7.347e-03, size: 384, ETA: 0:01:55\u001b[0m\n",
      "\u001b[32m2025-04-22 05:59:35\u001b[0m | \u001b[1mINFO    \u001b[0m | \u001b[36mmodels.YOLOXNano.pkgs.yolox.core.trainer\u001b[0m:\u001b[36m270\u001b[0m - \u001b[1mepoch: 2/20, iter: 40/42, gpu mem: 4049Mb, mem: 5.9Gb, iter_time: 0.119s, data_time: 0.002s, total_loss: 8.3, iou_loss: 3.9, l1_loss: 0.0, conf_loss: 3.7, cls_loss: 0.7, lr: 9.529e-03, size: 352, ETA: 0:01:51\u001b[0m\n",
      "\u001b[32m2025-04-22 05:59:35\u001b[0m | \u001b[1mINFO    \u001b[0m | \u001b[36mmodels.YOLOXNano.pkgs.yolox.core.trainer\u001b[0m:\u001b[36m402\u001b[0m - \u001b[1mSave weights to output/250422_055904/train/250422_055904_yoloxnano_COCO_airplane_Iter_1\u001b[0m\n",
      "\u001b[32m2025-04-22 05:59:35\u001b[0m | \u001b[1mINFO    \u001b[0m | \u001b[36mmodels.YOLOXNano.pkgs.yolox.core.trainer\u001b[0m:\u001b[36m218\u001b[0m - \u001b[1m---> start train epoch3\u001b[0m\n",
      "\u001b[32m2025-04-22 05:59:36\u001b[0m | \u001b[1mINFO    \u001b[0m | \u001b[36mmodels.YOLOXNano.pkgs.yolox.core.trainer\u001b[0m:\u001b[36m270\u001b[0m - \u001b[1mepoch: 3/20, iter: 10/42, gpu mem: 4049Mb, mem: 5.9Gb, iter_time: 0.129s, data_time: 0.002s, total_loss: 10.1, iou_loss: 3.7, l1_loss: 0.0, conf_loss: 5.6, cls_loss: 0.8, lr: 9.996e-03, size: 640, ETA: 0:01:47\u001b[0m\n",
      "\u001b[32m2025-04-22 05:59:38\u001b[0m | \u001b[1mINFO    \u001b[0m | \u001b[36mmodels.YOLOXNano.pkgs.yolox.core.trainer\u001b[0m:\u001b[36m270\u001b[0m - \u001b[1mepoch: 3/20, iter: 20/42, gpu mem: 4049Mb, mem: 5.9Gb, iter_time: 0.140s, data_time: 0.002s, total_loss: 9.6, iou_loss: 3.8, l1_loss: 0.0, conf_loss: 5.1, cls_loss: 0.8, lr: 9.985e-03, size: 576, ETA: 0:01:45\u001b[0m\n",
      "\u001b[32m2025-04-22 05:59:39\u001b[0m | \u001b[1mINFO    \u001b[0m | \u001b[36mmodels.YOLOXNano.pkgs.yolox.core.trainer\u001b[0m:\u001b[36m270\u001b[0m - \u001b[1mepoch: 3/20, iter: 30/42, gpu mem: 4049Mb, mem: 5.9Gb, iter_time: 0.124s, data_time: 0.002s, total_loss: 8.9, iou_loss: 3.8, l1_loss: 0.0, conf_loss: 4.2, cls_loss: 0.8, lr: 9.966e-03, size: 352, ETA: 0:01:43\u001b[0m\n",
      "\u001b[32m2025-04-22 05:59:41\u001b[0m | \u001b[1mINFO    \u001b[0m | \u001b[36mmodels.YOLOXNano.pkgs.yolox.core.trainer\u001b[0m:\u001b[36m270\u001b[0m - \u001b[1mepoch: 3/20, iter: 40/42, gpu mem: 4049Mb, mem: 6.0Gb, iter_time: 0.140s, data_time: 0.002s, total_loss: 9.0, iou_loss: 3.6, l1_loss: 0.0, conf_loss: 4.6, cls_loss: 0.8, lr: 9.939e-03, size: 608, ETA: 0:01:41\u001b[0m\n",
      "\u001b[32m2025-04-22 05:59:41\u001b[0m | \u001b[1mINFO    \u001b[0m | \u001b[36mmodels.YOLOXNano.pkgs.yolox.core.trainer\u001b[0m:\u001b[36m402\u001b[0m - \u001b[1mSave weights to output/250422_055904/train/250422_055904_yoloxnano_COCO_airplane_Iter_1\u001b[0m\n",
      "\u001b[32m2025-04-22 05:59:41\u001b[0m | \u001b[1mINFO    \u001b[0m | \u001b[36mmodels.YOLOXNano.pkgs.yolox.core.trainer\u001b[0m:\u001b[36m218\u001b[0m - \u001b[1m---> start train epoch4\u001b[0m\n",
      "\u001b[32m2025-04-22 05:59:42\u001b[0m | \u001b[1mINFO    \u001b[0m | \u001b[36mmodels.YOLOXNano.pkgs.yolox.core.trainer\u001b[0m:\u001b[36m270\u001b[0m - \u001b[1mepoch: 4/20, iter: 10/42, gpu mem: 4049Mb, mem: 5.9Gb, iter_time: 0.141s, data_time: 0.002s, total_loss: 8.9, iou_loss: 3.6, l1_loss: 0.0, conf_loss: 4.5, cls_loss: 0.7, lr: 9.897e-03, size: 512, ETA: 0:01:39\u001b[0m\n",
      "\u001b[32m2025-04-22 05:59:44\u001b[0m | \u001b[1mINFO    \u001b[0m | \u001b[36mmodels.YOLOXNano.pkgs.yolox.core.trainer\u001b[0m:\u001b[36m270\u001b[0m - \u001b[1mepoch: 4/20, iter: 20/42, gpu mem: 4049Mb, mem: 5.9Gb, iter_time: 0.129s, data_time: 0.002s, total_loss: 8.1, iou_loss: 3.8, l1_loss: 0.0, conf_loss: 3.6, cls_loss: 0.7, lr: 9.854e-03, size: 320, ETA: 0:01:37\u001b[0m\n",
      "\u001b[32m2025-04-22 05:59:45\u001b[0m | \u001b[1mINFO    \u001b[0m | \u001b[36mmodels.YOLOXNano.pkgs.yolox.core.trainer\u001b[0m:\u001b[36m270\u001b[0m - \u001b[1mepoch: 4/20, iter: 30/42, gpu mem: 4049Mb, mem: 6.1Gb, iter_time: 0.129s, data_time: 0.002s, total_loss: 7.6, iou_loss: 3.7, l1_loss: 0.0, conf_loss: 3.2, cls_loss: 0.7, lr: 9.804e-03, size: 320, ETA: 0:01:35\u001b[0m\n",
      "\u001b[32m2025-04-22 05:59:46\u001b[0m | \u001b[1mINFO    \u001b[0m | \u001b[36mmodels.YOLOXNano.pkgs.yolox.core.trainer\u001b[0m:\u001b[36m270\u001b[0m - \u001b[1mepoch: 4/20, iter: 40/42, gpu mem: 4049Mb, mem: 6.0Gb, iter_time: 0.121s, data_time: 0.002s, total_loss: 7.5, iou_loss: 3.5, l1_loss: 0.0, conf_loss: 3.2, cls_loss: 0.8, lr: 9.746e-03, size: 352, ETA: 0:01:33\u001b[0m\n",
      "\u001b[32m2025-04-22 05:59:46\u001b[0m | \u001b[1mINFO    \u001b[0m | \u001b[36mmodels.YOLOXNano.pkgs.yolox.core.trainer\u001b[0m:\u001b[36m402\u001b[0m - \u001b[1mSave weights to output/250422_055904/train/250422_055904_yoloxnano_COCO_airplane_Iter_1\u001b[0m\n",
      "\u001b[32m2025-04-22 05:59:46\u001b[0m | \u001b[1mINFO    \u001b[0m | \u001b[36mmodels.YOLOXNano.pkgs.yolox.core.trainer\u001b[0m:\u001b[36m218\u001b[0m - \u001b[1m---> start train epoch5\u001b[0m\n",
      "\u001b[32m2025-04-22 05:59:48\u001b[0m | \u001b[1mINFO    \u001b[0m | \u001b[36mmodels.YOLOXNano.pkgs.yolox.core.trainer\u001b[0m:\u001b[36m270\u001b[0m - \u001b[1mepoch: 5/20, iter: 10/42, gpu mem: 4049Mb, mem: 6.0Gb, iter_time: 0.121s, data_time: 0.002s, total_loss: 8.1, iou_loss: 3.6, l1_loss: 0.0, conf_loss: 3.8, cls_loss: 0.7, lr: 9.667e-03, size: 416, ETA: 0:01:31\u001b[0m\n",
      "\u001b[32m2025-04-22 05:59:49\u001b[0m | \u001b[1mINFO    \u001b[0m | \u001b[36mmodels.YOLOXNano.pkgs.yolox.core.trainer\u001b[0m:\u001b[36m270\u001b[0m - \u001b[1mepoch: 5/20, iter: 20/42, gpu mem: 4049Mb, mem: 6.1Gb, iter_time: 0.122s, data_time: 0.002s, total_loss: 7.2, iou_loss: 3.4, l1_loss: 0.0, conf_loss: 3.1, cls_loss: 0.7, lr: 9.594e-03, size: 416, ETA: 0:01:29\u001b[0m\n",
      "\u001b[32m2025-04-22 05:59:50\u001b[0m | \u001b[1mINFO    \u001b[0m | \u001b[36mmodels.YOLOXNano.pkgs.yolox.core.trainer\u001b[0m:\u001b[36m270\u001b[0m - \u001b[1mepoch: 5/20, iter: 30/42, gpu mem: 4049Mb, mem: 6.0Gb, iter_time: 0.122s, data_time: 0.002s, total_loss: 9.4, iou_loss: 4.0, l1_loss: 0.0, conf_loss: 4.7, cls_loss: 0.7, lr: 9.515e-03, size: 576, ETA: 0:01:27\u001b[0m\n",
      "\u001b[32m2025-04-22 05:59:51\u001b[0m | \u001b[1mINFO    \u001b[0m | \u001b[36mmodels.YOLOXNano.pkgs.yolox.core.trainer\u001b[0m:\u001b[36m270\u001b[0m - \u001b[1mepoch: 5/20, iter: 40/42, gpu mem: 4049Mb, mem: 6.0Gb, iter_time: 0.132s, data_time: 0.002s, total_loss: 8.0, iou_loss: 3.5, l1_loss: 0.0, conf_loss: 3.8, cls_loss: 0.7, lr: 9.428e-03, size: 608, ETA: 0:01:25\u001b[0m\n",
      "\u001b[32m2025-04-22 05:59:52\u001b[0m | \u001b[1mINFO    \u001b[0m | \u001b[36mmodels.YOLOXNano.pkgs.yolox.core.trainer\u001b[0m:\u001b[36m402\u001b[0m - \u001b[1mSave weights to output/250422_055904/train/250422_055904_yoloxnano_COCO_airplane_Iter_1\u001b[0m\n"
     ]
    },
    {
     "name": "stdout",
     "output_type": "stream",
     "text": [
      " 36%|###5      | 5/14 [00:01<00:01,  6.89it/s]"
     ]
    },
    {
     "name": "stderr",
     "output_type": "stream",
     "text": [
      "\u001b[32m2025-04-22 05:59:53\u001b[0m | \u001b[1mINFO    \u001b[0m | \u001b[36myolox.evaluators.coco_evaluator\u001b[0m:\u001b[36m259\u001b[0m - \u001b[1mEvaluate in main process...\u001b[0m\n",
      "\u001b[32m2025-04-22 05:59:53\u001b[0m | \u001b[1mINFO    \u001b[0m | \u001b[36mmodels.YOLOXNano.pkgs.yolox.core.trainer\u001b[0m:\u001b[36m381\u001b[0m - \u001b[1m\n",
      "Average forward time: 1.91 ms, Average NMS time: 0.27 ms, Average inference time: 2.19 ms\n",
      "\u001b[0m\n",
      "\u001b[32m2025-04-22 05:59:53\u001b[0m | \u001b[1mINFO    \u001b[0m | \u001b[36mmodels.YOLOXNano.pkgs.yolox.core.trainer\u001b[0m:\u001b[36m402\u001b[0m - \u001b[1mSave weights to output/250422_055904/train/250422_055904_yoloxnano_COCO_airplane_Iter_1\u001b[0m\n"
     ]
    },
    {
     "name": "stdout",
     "output_type": "stream",
     "text": [
      "100%|##########| 14/14 [00:01<00:00, 11.16it/s]\n"
     ]
    },
    {
     "name": "stderr",
     "output_type": "stream",
     "text": [
      "\u001b[32m2025-04-22 05:59:53\u001b[0m | \u001b[1mINFO    \u001b[0m | \u001b[36mmodels.YOLOXNano.pkgs.yolox.core.trainer\u001b[0m:\u001b[36m218\u001b[0m - \u001b[1m---> start train epoch6\u001b[0m\n",
      "\u001b[32m2025-04-22 05:59:54\u001b[0m | \u001b[1mINFO    \u001b[0m | \u001b[36mmodels.YOLOXNano.pkgs.yolox.core.trainer\u001b[0m:\u001b[36m270\u001b[0m - \u001b[1mepoch: 6/20, iter: 10/42, gpu mem: 4049Mb, mem: 6.0Gb, iter_time: 0.129s, data_time: 0.002s, total_loss: 7.2, iou_loss: 3.4, l1_loss: 0.0, conf_loss: 3.1, cls_loss: 0.7, lr: 9.316e-03, size: 320, ETA: 0:01:23\u001b[0m\n",
      "\u001b[32m2025-04-22 05:59:56\u001b[0m | \u001b[1mINFO    \u001b[0m | \u001b[36mmodels.YOLOXNano.pkgs.yolox.core.trainer\u001b[0m:\u001b[36m270\u001b[0m - \u001b[1mepoch: 6/20, iter: 20/42, gpu mem: 4049Mb, mem: 6.0Gb, iter_time: 0.142s, data_time: 0.002s, total_loss: 8.0, iou_loss: 3.4, l1_loss: 0.0, conf_loss: 3.9, cls_loss: 0.7, lr: 9.216e-03, size: 576, ETA: 0:01:22\u001b[0m\n",
      "\u001b[32m2025-04-22 05:59:57\u001b[0m | \u001b[1mINFO    \u001b[0m | \u001b[36mmodels.YOLOXNano.pkgs.yolox.core.trainer\u001b[0m:\u001b[36m270\u001b[0m - \u001b[1mepoch: 6/20, iter: 30/42, gpu mem: 4049Mb, mem: 6.0Gb, iter_time: 0.136s, data_time: 0.002s, total_loss: 7.8, iou_loss: 3.6, l1_loss: 0.0, conf_loss: 3.4, cls_loss: 0.7, lr: 9.110e-03, size: 416, ETA: 0:01:21\u001b[0m\n",
      "\u001b[32m2025-04-22 05:59:59\u001b[0m | \u001b[1mINFO    \u001b[0m | \u001b[36mmodels.YOLOXNano.pkgs.yolox.core.trainer\u001b[0m:\u001b[36m270\u001b[0m - \u001b[1mepoch: 6/20, iter: 40/42, gpu mem: 4052Mb, mem: 6.0Gb, iter_time: 0.140s, data_time: 0.002s, total_loss: 8.5, iou_loss: 3.4, l1_loss: 0.0, conf_loss: 4.4, cls_loss: 0.7, lr: 8.998e-03, size: 640, ETA: 0:01:20\u001b[0m\n",
      "\u001b[32m2025-04-22 05:59:59\u001b[0m | \u001b[1mINFO    \u001b[0m | \u001b[36mmodels.YOLOXNano.pkgs.yolox.core.trainer\u001b[0m:\u001b[36m402\u001b[0m - \u001b[1mSave weights to output/250422_055904/train/250422_055904_yoloxnano_COCO_airplane_Iter_1\u001b[0m\n",
      "\u001b[32m2025-04-22 05:59:59\u001b[0m | \u001b[1mINFO    \u001b[0m | \u001b[36mmodels.YOLOXNano.pkgs.yolox.core.trainer\u001b[0m:\u001b[36m218\u001b[0m - \u001b[1m---> start train epoch7\u001b[0m\n",
      "\u001b[32m2025-04-22 06:00:00\u001b[0m | \u001b[1mINFO    \u001b[0m | \u001b[36mmodels.YOLOXNano.pkgs.yolox.core.trainer\u001b[0m:\u001b[36m270\u001b[0m - \u001b[1mepoch: 7/20, iter: 10/42, gpu mem: 4052Mb, mem: 6.0Gb, iter_time: 0.127s, data_time: 0.003s, total_loss: 7.9, iou_loss: 3.4, l1_loss: 0.0, conf_loss: 3.8, cls_loss: 0.7, lr: 8.857e-03, size: 512, ETA: 0:01:18\u001b[0m\n",
      "\u001b[32m2025-04-22 06:00:02\u001b[0m | \u001b[1mINFO    \u001b[0m | \u001b[36mmodels.YOLOXNano.pkgs.yolox.core.trainer\u001b[0m:\u001b[36m270\u001b[0m - \u001b[1mepoch: 7/20, iter: 20/42, gpu mem: 4052Mb, mem: 6.0Gb, iter_time: 0.134s, data_time: 0.002s, total_loss: 7.5, iou_loss: 3.4, l1_loss: 0.0, conf_loss: 3.5, cls_loss: 0.6, lr: 8.733e-03, size: 416, ETA: 0:01:16\u001b[0m\n",
      "\u001b[32m2025-04-22 06:00:03\u001b[0m | \u001b[1mINFO    \u001b[0m | \u001b[36mmodels.YOLOXNano.pkgs.yolox.core.trainer\u001b[0m:\u001b[36m270\u001b[0m - \u001b[1mepoch: 7/20, iter: 30/42, gpu mem: 4052Mb, mem: 6.0Gb, iter_time: 0.126s, data_time: 0.002s, total_loss: 7.9, iou_loss: 3.5, l1_loss: 0.0, conf_loss: 3.7, cls_loss: 0.7, lr: 8.605e-03, size: 544, ETA: 0:01:15\u001b[0m\n",
      "\u001b[32m2025-04-22 06:00:04\u001b[0m | \u001b[1mINFO    \u001b[0m | \u001b[36mmodels.YOLOXNano.pkgs.yolox.core.trainer\u001b[0m:\u001b[36m270\u001b[0m - \u001b[1mepoch: 7/20, iter: 40/42, gpu mem: 4052Mb, mem: 6.0Gb, iter_time: 0.126s, data_time: 0.002s, total_loss: 7.3, iou_loss: 3.3, l1_loss: 0.0, conf_loss: 3.4, cls_loss: 0.7, lr: 8.472e-03, size: 608, ETA: 0:01:13\u001b[0m\n",
      "\u001b[32m2025-04-22 06:00:04\u001b[0m | \u001b[1mINFO    \u001b[0m | \u001b[36mmodels.YOLOXNano.pkgs.yolox.core.trainer\u001b[0m:\u001b[36m402\u001b[0m - \u001b[1mSave weights to output/250422_055904/train/250422_055904_yoloxnano_COCO_airplane_Iter_1\u001b[0m\n",
      "\u001b[32m2025-04-22 06:00:05\u001b[0m | \u001b[1mINFO    \u001b[0m | \u001b[36mmodels.YOLOXNano.pkgs.yolox.core.trainer\u001b[0m:\u001b[36m218\u001b[0m - \u001b[1m---> start train epoch8\u001b[0m\n",
      "\u001b[32m2025-04-22 06:00:06\u001b[0m | \u001b[1mINFO    \u001b[0m | \u001b[36mmodels.YOLOXNano.pkgs.yolox.core.trainer\u001b[0m:\u001b[36m270\u001b[0m - \u001b[1mepoch: 8/20, iter: 10/42, gpu mem: 4052Mb, mem: 6.0Gb, iter_time: 0.139s, data_time: 0.002s, total_loss: 7.3, iou_loss: 3.3, l1_loss: 0.0, conf_loss: 3.4, cls_loss: 0.7, lr: 8.306e-03, size: 448, ETA: 0:01:12\u001b[0m\n",
      "\u001b[32m2025-04-22 06:00:07\u001b[0m | \u001b[1mINFO    \u001b[0m | \u001b[36mmodels.YOLOXNano.pkgs.yolox.core.trainer\u001b[0m:\u001b[36m270\u001b[0m - \u001b[1mepoch: 8/20, iter: 20/42, gpu mem: 4052Mb, mem: 6.1Gb, iter_time: 0.122s, data_time: 0.002s, total_loss: 6.6, iou_loss: 3.4, l1_loss: 0.0, conf_loss: 2.6, cls_loss: 0.7, lr: 8.164e-03, size: 320, ETA: 0:01:10\u001b[0m\n",
      "\u001b[32m2025-04-22 06:00:08\u001b[0m | \u001b[1mINFO    \u001b[0m | \u001b[36mmodels.YOLOXNano.pkgs.yolox.core.trainer\u001b[0m:\u001b[36m270\u001b[0m - \u001b[1mepoch: 8/20, iter: 30/42, gpu mem: 4052Mb, mem: 6.1Gb, iter_time: 0.130s, data_time: 0.002s, total_loss: 6.1, iou_loss: 2.8, l1_loss: 0.0, conf_loss: 2.6, cls_loss: 0.7, lr: 8.019e-03, size: 384, ETA: 0:01:09\u001b[0m\n",
      "\u001b[32m2025-04-22 06:00:10\u001b[0m | \u001b[1mINFO    \u001b[0m | \u001b[36mmodels.YOLOXNano.pkgs.yolox.core.trainer\u001b[0m:\u001b[36m270\u001b[0m - \u001b[1mepoch: 8/20, iter: 40/42, gpu mem: 4052Mb, mem: 6.0Gb, iter_time: 0.135s, data_time: 0.002s, total_loss: 7.4, iou_loss: 3.4, l1_loss: 0.0, conf_loss: 3.3, cls_loss: 0.6, lr: 7.870e-03, size: 512, ETA: 0:01:08\u001b[0m\n",
      "\u001b[32m2025-04-22 06:00:10\u001b[0m | \u001b[1mINFO    \u001b[0m | \u001b[36mmodels.YOLOXNano.pkgs.yolox.core.trainer\u001b[0m:\u001b[36m402\u001b[0m - \u001b[1mSave weights to output/250422_055904/train/250422_055904_yoloxnano_COCO_airplane_Iter_1\u001b[0m\n",
      "\u001b[32m2025-04-22 06:00:10\u001b[0m | \u001b[1mINFO    \u001b[0m | \u001b[36mmodels.YOLOXNano.pkgs.yolox.core.trainer\u001b[0m:\u001b[36m218\u001b[0m - \u001b[1m---> start train epoch9\u001b[0m\n",
      "\u001b[32m2025-04-22 06:00:11\u001b[0m | \u001b[1mINFO    \u001b[0m | \u001b[36mmodels.YOLOXNano.pkgs.yolox.core.trainer\u001b[0m:\u001b[36m270\u001b[0m - \u001b[1mepoch: 9/20, iter: 10/42, gpu mem: 4052Mb, mem: 6.0Gb, iter_time: 0.136s, data_time: 0.002s, total_loss: 7.3, iou_loss: 3.3, l1_loss: 0.0, conf_loss: 3.3, cls_loss: 0.7, lr: 7.687e-03, size: 480, ETA: 0:01:06\u001b[0m\n",
      "\u001b[32m2025-04-22 06:00:13\u001b[0m | \u001b[1mINFO    \u001b[0m | \u001b[36mmodels.YOLOXNano.pkgs.yolox.core.trainer\u001b[0m:\u001b[36m270\u001b[0m - \u001b[1mepoch: 9/20, iter: 20/42, gpu mem: 4052Mb, mem: 6.1Gb, iter_time: 0.130s, data_time: 0.002s, total_loss: 7.5, iou_loss: 3.4, l1_loss: 0.0, conf_loss: 3.3, cls_loss: 0.7, lr: 7.532e-03, size: 448, ETA: 0:01:04\u001b[0m\n",
      "\u001b[32m2025-04-22 06:00:14\u001b[0m | \u001b[1mINFO    \u001b[0m | \u001b[36mmodels.YOLOXNano.pkgs.yolox.core.trainer\u001b[0m:\u001b[36m270\u001b[0m - \u001b[1mepoch: 9/20, iter: 30/42, gpu mem: 4052Mb, mem: 6.0Gb, iter_time: 0.127s, data_time: 0.002s, total_loss: 6.8, iou_loss: 3.3, l1_loss: 0.0, conf_loss: 2.7, cls_loss: 0.7, lr: 7.374e-03, size: 384, ETA: 0:01:03\u001b[0m\n",
      "\u001b[32m2025-04-22 06:00:15\u001b[0m | \u001b[1mINFO    \u001b[0m | \u001b[36mmodels.YOLOXNano.pkgs.yolox.core.trainer\u001b[0m:\u001b[36m270\u001b[0m - \u001b[1mepoch: 9/20, iter: 40/42, gpu mem: 4052Mb, mem: 6.1Gb, iter_time: 0.119s, data_time: 0.002s, total_loss: 7.1, iou_loss: 3.3, l1_loss: 0.0, conf_loss: 3.1, cls_loss: 0.7, lr: 7.215e-03, size: 416, ETA: 0:01:02\u001b[0m\n",
      "\u001b[32m2025-04-22 06:00:16\u001b[0m | \u001b[1mINFO    \u001b[0m | \u001b[36mmodels.YOLOXNano.pkgs.yolox.core.trainer\u001b[0m:\u001b[36m402\u001b[0m - \u001b[1mSave weights to output/250422_055904/train/250422_055904_yoloxnano_COCO_airplane_Iter_1\u001b[0m\n",
      "\u001b[32m2025-04-22 06:00:16\u001b[0m | \u001b[1mINFO    \u001b[0m | \u001b[36mmodels.YOLOXNano.pkgs.yolox.core.trainer\u001b[0m:\u001b[36m218\u001b[0m - \u001b[1m---> start train epoch10\u001b[0m\n",
      "\u001b[32m2025-04-22 06:00:17\u001b[0m | \u001b[1mINFO    \u001b[0m | \u001b[36mmodels.YOLOXNano.pkgs.yolox.core.trainer\u001b[0m:\u001b[36m270\u001b[0m - \u001b[1mepoch: 10/20, iter: 10/42, gpu mem: 4052Mb, mem: 6.1Gb, iter_time: 0.127s, data_time: 0.002s, total_loss: 7.4, iou_loss: 3.3, l1_loss: 0.0, conf_loss: 3.4, cls_loss: 0.7, lr: 7.022e-03, size: 480, ETA: 0:01:00\u001b[0m\n",
      "\u001b[32m2025-04-22 06:00:18\u001b[0m | \u001b[1mINFO    \u001b[0m | \u001b[36mmodels.YOLOXNano.pkgs.yolox.core.trainer\u001b[0m:\u001b[36m270\u001b[0m - \u001b[1mepoch: 10/20, iter: 20/42, gpu mem: 4052Mb, mem: 6.1Gb, iter_time: 0.124s, data_time: 0.002s, total_loss: 6.2, iou_loss: 3.2, l1_loss: 0.0, conf_loss: 2.3, cls_loss: 0.7, lr: 6.859e-03, size: 352, ETA: 0:00:58\u001b[0m\n",
      "\u001b[32m2025-04-22 06:00:19\u001b[0m | \u001b[1mINFO    \u001b[0m | \u001b[36mmodels.YOLOXNano.pkgs.yolox.core.trainer\u001b[0m:\u001b[36m270\u001b[0m - \u001b[1mepoch: 10/20, iter: 30/42, gpu mem: 4052Mb, mem: 6.0Gb, iter_time: 0.127s, data_time: 0.002s, total_loss: 6.1, iou_loss: 3.0, l1_loss: 0.0, conf_loss: 2.4, cls_loss: 0.7, lr: 6.696e-03, size: 352, ETA: 0:00:57\u001b[0m\n",
      "\u001b[32m2025-04-22 06:00:21\u001b[0m | \u001b[1mINFO    \u001b[0m | \u001b[36mmodels.YOLOXNano.pkgs.yolox.core.trainer\u001b[0m:\u001b[36m270\u001b[0m - \u001b[1mepoch: 10/20, iter: 40/42, gpu mem: 4052Mb, mem: 6.0Gb, iter_time: 0.134s, data_time: 0.002s, total_loss: 7.4, iou_loss: 3.2, l1_loss: 0.0, conf_loss: 3.5, cls_loss: 0.7, lr: 6.533e-03, size: 512, ETA: 0:00:56\u001b[0m\n",
      "\u001b[32m2025-04-22 06:00:21\u001b[0m | \u001b[1mINFO    \u001b[0m | \u001b[36mmodels.YOLOXNano.pkgs.yolox.core.trainer\u001b[0m:\u001b[36m402\u001b[0m - \u001b[1mSave weights to output/250422_055904/train/250422_055904_yoloxnano_COCO_airplane_Iter_1\u001b[0m\n"
     ]
    },
    {
     "name": "stdout",
     "output_type": "stream",
     "text": [
      "100%|##########| 14/14 [00:00<00:00, 17.99it/s]\n"
     ]
    },
    {
     "name": "stderr",
     "output_type": "stream",
     "text": [
      "\u001b[32m2025-04-22 06:00:22\u001b[0m | \u001b[1mINFO    \u001b[0m | \u001b[36myolox.evaluators.coco_evaluator\u001b[0m:\u001b[36m259\u001b[0m - \u001b[1mEvaluate in main process...\u001b[0m\n",
      "\u001b[32m2025-04-22 06:00:22\u001b[0m | \u001b[1mINFO    \u001b[0m | \u001b[36myolox.evaluators.coco_evaluator\u001b[0m:\u001b[36m292\u001b[0m - \u001b[1mLoading and preparing results...\u001b[0m\n",
      "\u001b[32m2025-04-22 06:00:22\u001b[0m | \u001b[1mINFO    \u001b[0m | \u001b[36myolox.evaluators.coco_evaluator\u001b[0m:\u001b[36m292\u001b[0m - \u001b[1mDONE (t=0.00s)\u001b[0m\n",
      "\u001b[32m2025-04-22 06:00:22\u001b[0m | \u001b[1mINFO    \u001b[0m | \u001b[36mpycocotools.coco\u001b[0m:\u001b[36m366\u001b[0m - \u001b[1mcreating index...\u001b[0m\n",
      "\u001b[32m2025-04-22 06:00:22\u001b[0m | \u001b[1mINFO    \u001b[0m | \u001b[36mpycocotools.coco\u001b[0m:\u001b[36m366\u001b[0m - \u001b[1mindex created!\u001b[0m\n",
      "\u001b[32m2025-04-22 06:00:22\u001b[0m | \u001b[1mINFO    \u001b[0m | \u001b[36myolox.layers.jit_ops\u001b[0m:\u001b[36m111\u001b[0m - \u001b[1mLoad fast_cocoeval op in 0.005s.\u001b[0m\n",
      "\u001b[32m2025-04-22 06:00:22\u001b[0m | \u001b[1mINFO    \u001b[0m | \u001b[36mmodels.YOLOXNano.pkgs.yolox.core.trainer\u001b[0m:\u001b[36m381\u001b[0m - \u001b[1m\n",
      "Average forward time: 1.02 ms, Average NMS time: 0.50 ms, Average inference time: 1.52 ms\n",
      " Average Precision  (AP) @[ IoU=0.50:0.95 | area=   all | maxDets=100 ] = 0.029\n",
      " Average Precision  (AP) @[ IoU=0.50      | area=   all | maxDets=100 ] = 0.116\n",
      " Average Precision  (AP) @[ IoU=0.75      | area=   all | maxDets=100 ] = 0.001\n",
      " Average Precision  (AP) @[ IoU=0.50:0.95 | area= small | maxDets=100 ] = 0.000\n",
      " Average Precision  (AP) @[ IoU=0.50:0.95 | area=medium | maxDets=100 ] = 0.017\n",
      " Average Precision  (AP) @[ IoU=0.50:0.95 | area= large | maxDets=100 ] = 0.032\n",
      " Average Recall     (AR) @[ IoU=0.50:0.95 | area=   all | maxDets=  1 ] = 0.062\n",
      " Average Recall     (AR) @[ IoU=0.50:0.95 | area=   all | maxDets= 10 ] = 0.067\n",
      " Average Recall     (AR) @[ IoU=0.50:0.95 | area=   all | maxDets=100 ] = 0.067\n",
      " Average Recall     (AR) @[ IoU=0.50:0.95 | area= small | maxDets=100 ] = 0.000\n",
      " Average Recall     (AR) @[ IoU=0.50:0.95 | area=medium | maxDets=100 ] = 0.016\n",
      " Average Recall     (AR) @[ IoU=0.50:0.95 | area= large | maxDets=100 ] = 0.076\n",
      "per class AP:\n",
      "| class    | AP    |\n",
      "|:---------|:------|\n",
      "| airplane | 2.892 |\n",
      "per class AR:\n",
      "| class    | AR    |\n",
      "|:---------|:------|\n",
      "| airplane | 6.726 |\n",
      "\u001b[0m\n",
      "\u001b[32m2025-04-22 06:00:22\u001b[0m | \u001b[1mINFO    \u001b[0m | \u001b[36mmodels.YOLOXNano.pkgs.yolox.core.trainer\u001b[0m:\u001b[36m402\u001b[0m - \u001b[1mSave weights to output/250422_055904/train/250422_055904_yoloxnano_COCO_airplane_Iter_1\u001b[0m\n",
      "\u001b[32m2025-04-22 06:00:22\u001b[0m | \u001b[1mINFO    \u001b[0m | \u001b[36mmodels.YOLOXNano.pkgs.yolox.core.trainer\u001b[0m:\u001b[36m218\u001b[0m - \u001b[1m---> start train epoch11\u001b[0m\n"
     ]
    },
    {
     "name": "stdout",
     "output_type": "stream",
     "text": [
      "Using /home/gamejoongsa/.cache/torch_extensions/py310_cu128 as PyTorch extensions root...\n",
      "Emitting ninja build file /home/gamejoongsa/.cache/torch_extensions/py310_cu128/fast_cocoeval/build.ninja...\n",
      "Building extension module fast_cocoeval...\n",
      "Allowing ninja to set a default number of workers... (overridable by setting the environment variable MAX_JOBS=N)\n",
      "ninja: no work to do.\n",
      "Loading extension module fast_cocoeval...\n",
      "Running per image evaluation...\n",
      "Evaluate annotation type *bbox*\n",
      "COCOeval_opt.evaluate() finished in 0.01 seconds.\n",
      "Accumulating evaluation results...\n",
      "COCOeval_opt.accumulate() finished in 0.00 seconds.\n"
     ]
    },
    {
     "name": "stderr",
     "output_type": "stream",
     "text": [
      "\u001b[32m2025-04-22 06:00:24\u001b[0m | \u001b[1mINFO    \u001b[0m | \u001b[36mmodels.YOLOXNano.pkgs.yolox.core.trainer\u001b[0m:\u001b[36m270\u001b[0m - \u001b[1mepoch: 11/20, iter: 10/42, gpu mem: 4052Mb, mem: 6.1Gb, iter_time: 0.130s, data_time: 0.002s, total_loss: 7.2, iou_loss: 3.5, l1_loss: 0.0, conf_loss: 3.1, cls_loss: 0.7, lr: 6.336e-03, size: 352, ETA: 0:00:54\u001b[0m\n",
      "\u001b[32m2025-04-22 06:00:25\u001b[0m | \u001b[1mINFO    \u001b[0m | \u001b[36mmodels.YOLOXNano.pkgs.yolox.core.trainer\u001b[0m:\u001b[36m270\u001b[0m - \u001b[1mepoch: 11/20, iter: 20/42, gpu mem: 4052Mb, mem: 6.1Gb, iter_time: 0.125s, data_time: 0.002s, total_loss: 6.5, iou_loss: 3.0, l1_loss: 0.0, conf_loss: 2.8, cls_loss: 0.7, lr: 6.173e-03, size: 480, ETA: 0:00:53\u001b[0m\n",
      "\u001b[32m2025-04-22 06:00:26\u001b[0m | \u001b[1mINFO    \u001b[0m | \u001b[36mmodels.YOLOXNano.pkgs.yolox.core.trainer\u001b[0m:\u001b[36m270\u001b[0m - \u001b[1mepoch: 11/20, iter: 30/42, gpu mem: 4052Mb, mem: 6.1Gb, iter_time: 0.138s, data_time: 0.002s, total_loss: 7.5, iou_loss: 3.3, l1_loss: 0.0, conf_loss: 3.5, cls_loss: 0.7, lr: 6.011e-03, size: 480, ETA: 0:00:51\u001b[0m\n",
      "\u001b[32m2025-04-22 06:00:28\u001b[0m | \u001b[1mINFO    \u001b[0m | \u001b[36mmodels.YOLOXNano.pkgs.yolox.core.trainer\u001b[0m:\u001b[36m270\u001b[0m - \u001b[1mepoch: 11/20, iter: 40/42, gpu mem: 4052Mb, mem: 6.0Gb, iter_time: 0.136s, data_time: 0.002s, total_loss: 6.6, iou_loss: 3.0, l1_loss: 0.0, conf_loss: 2.9, cls_loss: 0.6, lr: 5.849e-03, size: 608, ETA: 0:00:50\u001b[0m\n",
      "\u001b[32m2025-04-22 06:00:28\u001b[0m | \u001b[1mINFO    \u001b[0m | \u001b[36mmodels.YOLOXNano.pkgs.yolox.core.trainer\u001b[0m:\u001b[36m402\u001b[0m - \u001b[1mSave weights to output/250422_055904/train/250422_055904_yoloxnano_COCO_airplane_Iter_1\u001b[0m\n",
      "\u001b[32m2025-04-22 06:00:28\u001b[0m | \u001b[1mINFO    \u001b[0m | \u001b[36mmodels.YOLOXNano.pkgs.yolox.core.trainer\u001b[0m:\u001b[36m218\u001b[0m - \u001b[1m---> start train epoch12\u001b[0m\n",
      "\u001b[32m2025-04-22 06:00:29\u001b[0m | \u001b[1mINFO    \u001b[0m | \u001b[36mmodels.YOLOXNano.pkgs.yolox.core.trainer\u001b[0m:\u001b[36m270\u001b[0m - \u001b[1mepoch: 12/20, iter: 10/42, gpu mem: 4052Mb, mem: 6.0Gb, iter_time: 0.138s, data_time: 0.002s, total_loss: 6.6, iou_loss: 3.3, l1_loss: 0.0, conf_loss: 2.5, cls_loss: 0.7, lr: 5.658e-03, size: 320, ETA: 0:00:48\u001b[0m\n",
      "\u001b[32m2025-04-22 06:00:31\u001b[0m | \u001b[1mINFO    \u001b[0m | \u001b[36mmodels.YOLOXNano.pkgs.yolox.core.trainer\u001b[0m:\u001b[36m270\u001b[0m - \u001b[1mepoch: 12/20, iter: 20/42, gpu mem: 4052Mb, mem: 6.1Gb, iter_time: 0.131s, data_time: 0.002s, total_loss: 7.2, iou_loss: 3.4, l1_loss: 0.0, conf_loss: 3.1, cls_loss: 0.7, lr: 5.500e-03, size: 544, ETA: 0:00:47\u001b[0m\n",
      "\u001b[32m2025-04-22 06:00:32\u001b[0m | \u001b[1mINFO    \u001b[0m | \u001b[36mmodels.YOLOXNano.pkgs.yolox.core.trainer\u001b[0m:\u001b[36m270\u001b[0m - \u001b[1mepoch: 12/20, iter: 30/42, gpu mem: 4052Mb, mem: 6.1Gb, iter_time: 0.127s, data_time: 0.002s, total_loss: 7.0, iou_loss: 2.9, l1_loss: 0.0, conf_loss: 3.5, cls_loss: 0.7, lr: 5.344e-03, size: 576, ETA: 0:00:46\u001b[0m\n",
      "\u001b[32m2025-04-22 06:00:33\u001b[0m | \u001b[1mINFO    \u001b[0m | \u001b[36mmodels.YOLOXNano.pkgs.yolox.core.trainer\u001b[0m:\u001b[36m270\u001b[0m - \u001b[1mepoch: 12/20, iter: 40/42, gpu mem: 4052Mb, mem: 6.1Gb, iter_time: 0.127s, data_time: 0.002s, total_loss: 7.0, iou_loss: 3.3, l1_loss: 0.0, conf_loss: 3.1, cls_loss: 0.7, lr: 5.191e-03, size: 352, ETA: 0:00:44\u001b[0m\n",
      "\u001b[32m2025-04-22 06:00:33\u001b[0m | \u001b[1mINFO    \u001b[0m | \u001b[36mmodels.YOLOXNano.pkgs.yolox.core.trainer\u001b[0m:\u001b[36m402\u001b[0m - \u001b[1mSave weights to output/250422_055904/train/250422_055904_yoloxnano_COCO_airplane_Iter_1\u001b[0m\n",
      "\u001b[32m2025-04-22 06:00:34\u001b[0m | \u001b[1mINFO    \u001b[0m | \u001b[36mmodels.YOLOXNano.pkgs.yolox.core.trainer\u001b[0m:\u001b[36m218\u001b[0m - \u001b[1m---> start train epoch13\u001b[0m\n",
      "\u001b[32m2025-04-22 06:00:35\u001b[0m | \u001b[1mINFO    \u001b[0m | \u001b[36mmodels.YOLOXNano.pkgs.yolox.core.trainer\u001b[0m:\u001b[36m270\u001b[0m - \u001b[1mepoch: 13/20, iter: 10/42, gpu mem: 4052Mb, mem: 6.1Gb, iter_time: 0.129s, data_time: 0.002s, total_loss: 6.3, iou_loss: 3.0, l1_loss: 0.0, conf_loss: 2.7, cls_loss: 0.7, lr: 5.011e-03, size: 512, ETA: 0:00:43\u001b[0m\n",
      "\u001b[32m2025-04-22 06:00:36\u001b[0m | \u001b[1mINFO    \u001b[0m | \u001b[36mmodels.YOLOXNano.pkgs.yolox.core.trainer\u001b[0m:\u001b[36m270\u001b[0m - \u001b[1mepoch: 13/20, iter: 20/42, gpu mem: 4052Mb, mem: 6.1Gb, iter_time: 0.123s, data_time: 0.002s, total_loss: 6.6, iou_loss: 3.2, l1_loss: 0.0, conf_loss: 2.6, cls_loss: 0.7, lr: 4.865e-03, size: 352, ETA: 0:00:41\u001b[0m\n",
      "\u001b[32m2025-04-22 06:00:37\u001b[0m | \u001b[1mINFO    \u001b[0m | \u001b[36mmodels.YOLOXNano.pkgs.yolox.core.trainer\u001b[0m:\u001b[36m270\u001b[0m - \u001b[1mepoch: 13/20, iter: 30/42, gpu mem: 4052Mb, mem: 6.1Gb, iter_time: 0.125s, data_time: 0.002s, total_loss: 6.6, iou_loss: 3.0, l1_loss: 0.0, conf_loss: 3.0, cls_loss: 0.7, lr: 4.722e-03, size: 576, ETA: 0:00:40\u001b[0m\n",
      "\u001b[32m2025-04-22 06:00:39\u001b[0m | \u001b[1mINFO    \u001b[0m | \u001b[36mmodels.YOLOXNano.pkgs.yolox.core.trainer\u001b[0m:\u001b[36m270\u001b[0m - \u001b[1mepoch: 13/20, iter: 40/42, gpu mem: 4052Mb, mem: 6.1Gb, iter_time: 0.123s, data_time: 0.002s, total_loss: 6.6, iou_loss: 3.0, l1_loss: 0.0, conf_loss: 3.0, cls_loss: 0.7, lr: 4.583e-03, size: 448, ETA: 0:00:39\u001b[0m\n",
      "\u001b[32m2025-04-22 06:00:39\u001b[0m | \u001b[1mINFO    \u001b[0m | \u001b[36mmodels.YOLOXNano.pkgs.yolox.core.trainer\u001b[0m:\u001b[36m402\u001b[0m - \u001b[1mSave weights to output/250422_055904/train/250422_055904_yoloxnano_COCO_airplane_Iter_1\u001b[0m\n",
      "\u001b[32m2025-04-22 06:00:39\u001b[0m | \u001b[1mINFO    \u001b[0m | \u001b[36mmodels.YOLOXNano.pkgs.yolox.core.trainer\u001b[0m:\u001b[36m218\u001b[0m - \u001b[1m---> start train epoch14\u001b[0m\n",
      "\u001b[32m2025-04-22 06:00:40\u001b[0m | \u001b[1mINFO    \u001b[0m | \u001b[36mmodels.YOLOXNano.pkgs.yolox.core.trainer\u001b[0m:\u001b[36m270\u001b[0m - \u001b[1mepoch: 14/20, iter: 10/42, gpu mem: 4052Mb, mem: 6.1Gb, iter_time: 0.128s, data_time: 0.002s, total_loss: 7.1, iou_loss: 3.0, l1_loss: 0.0, conf_loss: 3.4, cls_loss: 0.7, lr: 4.422e-03, size: 640, ETA: 0:00:37\u001b[0m\n",
      "\u001b[32m2025-04-22 06:00:42\u001b[0m | \u001b[1mINFO    \u001b[0m | \u001b[36mmodels.YOLOXNano.pkgs.yolox.core.trainer\u001b[0m:\u001b[36m270\u001b[0m - \u001b[1mepoch: 14/20, iter: 20/42, gpu mem: 4052Mb, mem: 6.1Gb, iter_time: 0.137s, data_time: 0.001s, total_loss: 6.5, iou_loss: 2.9, l1_loss: 0.0, conf_loss: 3.0, cls_loss: 0.7, lr: 4.292e-03, size: 608, ETA: 0:00:36\u001b[0m\n",
      "\u001b[32m2025-04-22 06:00:43\u001b[0m | \u001b[1mINFO    \u001b[0m | \u001b[36mmodels.YOLOXNano.pkgs.yolox.core.trainer\u001b[0m:\u001b[36m270\u001b[0m - \u001b[1mepoch: 14/20, iter: 30/42, gpu mem: 4052Mb, mem: 6.0Gb, iter_time: 0.143s, data_time: 0.002s, total_loss: 6.1, iou_loss: 2.9, l1_loss: 0.0, conf_loss: 2.5, cls_loss: 0.7, lr: 4.168e-03, size: 480, ETA: 0:00:34\u001b[0m\n",
      "\u001b[32m2025-04-22 06:00:44\u001b[0m | \u001b[1mINFO    \u001b[0m | \u001b[36mmodels.YOLOXNano.pkgs.yolox.core.trainer\u001b[0m:\u001b[36m270\u001b[0m - \u001b[1mepoch: 14/20, iter: 40/42, gpu mem: 4052Mb, mem: 6.1Gb, iter_time: 0.130s, data_time: 0.002s, total_loss: 7.2, iou_loss: 3.2, l1_loss: 0.0, conf_loss: 3.3, cls_loss: 0.6, lr: 4.048e-03, size: 608, ETA: 0:00:33\u001b[0m\n",
      "\u001b[32m2025-04-22 06:00:45\u001b[0m | \u001b[1mINFO    \u001b[0m | \u001b[36mmodels.YOLOXNano.pkgs.yolox.core.trainer\u001b[0m:\u001b[36m402\u001b[0m - \u001b[1mSave weights to output/250422_055904/train/250422_055904_yoloxnano_COCO_airplane_Iter_1\u001b[0m\n",
      "\u001b[32m2025-04-22 06:00:45\u001b[0m | \u001b[1mINFO    \u001b[0m | \u001b[36mmodels.YOLOXNano.pkgs.yolox.core.trainer\u001b[0m:\u001b[36m218\u001b[0m - \u001b[1m---> start train epoch15\u001b[0m\n",
      "\u001b[32m2025-04-22 06:00:46\u001b[0m | \u001b[1mINFO    \u001b[0m | \u001b[36mmodels.YOLOXNano.pkgs.yolox.core.trainer\u001b[0m:\u001b[36m270\u001b[0m - \u001b[1mepoch: 15/20, iter: 10/42, gpu mem: 4052Mb, mem: 6.0Gb, iter_time: 0.126s, data_time: 0.002s, total_loss: 6.4, iou_loss: 3.1, l1_loss: 0.0, conf_loss: 2.6, cls_loss: 0.7, lr: 3.912e-03, size: 416, ETA: 0:00:31\u001b[0m\n",
      "\u001b[32m2025-04-22 06:00:47\u001b[0m | \u001b[1mINFO    \u001b[0m | \u001b[36mmodels.YOLOXNano.pkgs.yolox.core.trainer\u001b[0m:\u001b[36m270\u001b[0m - \u001b[1mepoch: 15/20, iter: 20/42, gpu mem: 4052Mb, mem: 6.1Gb, iter_time: 0.130s, data_time: 0.002s, total_loss: 6.4, iou_loss: 3.1, l1_loss: 0.0, conf_loss: 2.5, cls_loss: 0.7, lr: 3.805e-03, size: 352, ETA: 0:00:30\u001b[0m\n",
      "\u001b[32m2025-04-22 06:00:49\u001b[0m | \u001b[1mINFO    \u001b[0m | \u001b[36mmodels.YOLOXNano.pkgs.yolox.core.trainer\u001b[0m:\u001b[36m270\u001b[0m - \u001b[1mepoch: 15/20, iter: 30/42, gpu mem: 4052Mb, mem: 6.0Gb, iter_time: 0.125s, data_time: 0.002s, total_loss: 6.7, iou_loss: 3.3, l1_loss: 0.0, conf_loss: 2.8, cls_loss: 0.6, lr: 3.703e-03, size: 320, ETA: 0:00:29\u001b[0m\n",
      "\u001b[32m2025-04-22 06:00:50\u001b[0m | \u001b[1mINFO    \u001b[0m | \u001b[36mmodels.YOLOXNano.pkgs.yolox.core.trainer\u001b[0m:\u001b[36m270\u001b[0m - \u001b[1mepoch: 15/20, iter: 40/42, gpu mem: 4052Mb, mem: 6.0Gb, iter_time: 0.134s, data_time: 0.001s, total_loss: 7.6, iou_loss: 3.3, l1_loss: 0.0, conf_loss: 3.6, cls_loss: 0.7, lr: 3.608e-03, size: 640, ETA: 0:00:28\u001b[0m\n",
      "\u001b[32m2025-04-22 06:00:50\u001b[0m | \u001b[1mINFO    \u001b[0m | \u001b[36mmodels.YOLOXNano.pkgs.yolox.core.trainer\u001b[0m:\u001b[36m402\u001b[0m - \u001b[1mSave weights to output/250422_055904/train/250422_055904_yoloxnano_COCO_airplane_Iter_1\u001b[0m\n"
     ]
    },
    {
     "name": "stdout",
     "output_type": "stream",
     "text": [
      " 36%|###5      | 5/14 [00:00<00:00, 12.02it/s]"
     ]
    },
    {
     "name": "stderr",
     "output_type": "stream",
     "text": [
      "\u001b[32m2025-04-22 06:00:51\u001b[0m | \u001b[1mINFO    \u001b[0m | \u001b[36myolox.evaluators.coco_evaluator\u001b[0m:\u001b[36m259\u001b[0m - \u001b[1mEvaluate in main process...\u001b[0m\n",
      "\u001b[32m2025-04-22 06:00:51\u001b[0m | \u001b[1mINFO    \u001b[0m | \u001b[36myolox.evaluators.coco_evaluator\u001b[0m:\u001b[36m292\u001b[0m - \u001b[1mLoading and preparing results...\u001b[0m\n",
      "\u001b[32m2025-04-22 06:00:51\u001b[0m | \u001b[1mINFO    \u001b[0m | \u001b[36myolox.evaluators.coco_evaluator\u001b[0m:\u001b[36m292\u001b[0m - \u001b[1mDONE (t=0.00s)\u001b[0m\n",
      "\u001b[32m2025-04-22 06:00:51\u001b[0m | \u001b[1mINFO    \u001b[0m | \u001b[36mpycocotools.coco\u001b[0m:\u001b[36m366\u001b[0m - \u001b[1mcreating index...\u001b[0m\n",
      "\u001b[32m2025-04-22 06:00:51\u001b[0m | \u001b[1mINFO    \u001b[0m | \u001b[36mpycocotools.coco\u001b[0m:\u001b[36m366\u001b[0m - \u001b[1mindex created!\u001b[0m\n",
      "\u001b[32m2025-04-22 06:00:51\u001b[0m | \u001b[1mINFO    \u001b[0m | \u001b[36myolox.layers.jit_ops\u001b[0m:\u001b[36m111\u001b[0m - \u001b[1mLoad fast_cocoeval op in 0.002s.\u001b[0m\n",
      "\u001b[32m2025-04-22 06:00:51\u001b[0m | \u001b[1mINFO    \u001b[0m | \u001b[36mmodels.YOLOXNano.pkgs.yolox.core.trainer\u001b[0m:\u001b[36m381\u001b[0m - \u001b[1m\n",
      "Average forward time: 1.05 ms, Average NMS time: 0.42 ms, Average inference time: 1.47 ms\n",
      " Average Precision  (AP) @[ IoU=0.50:0.95 | area=   all | maxDets=100 ] = 0.016\n",
      " Average Precision  (AP) @[ IoU=0.50      | area=   all | maxDets=100 ] = 0.072\n",
      " Average Precision  (AP) @[ IoU=0.75      | area=   all | maxDets=100 ] = 0.003\n",
      " Average Precision  (AP) @[ IoU=0.50:0.95 | area= small | maxDets=100 ] = 0.000\n",
      " Average Precision  (AP) @[ IoU=0.50:0.95 | area=medium | maxDets=100 ] = 0.018\n",
      " Average Precision  (AP) @[ IoU=0.50:0.95 | area= large | maxDets=100 ] = 0.017\n",
      " Average Recall     (AR) @[ IoU=0.50:0.95 | area=   all | maxDets=  1 ] = 0.028\n",
      " Average Recall     (AR) @[ IoU=0.50:0.95 | area=   all | maxDets= 10 ] = 0.028\n",
      " Average Recall     (AR) @[ IoU=0.50:0.95 | area=   all | maxDets=100 ] = 0.028\n",
      " Average Recall     (AR) @[ IoU=0.50:0.95 | area= small | maxDets=100 ] = 0.000\n",
      " Average Recall     (AR) @[ IoU=0.50:0.95 | area=medium | maxDets=100 ] = 0.024\n",
      " Average Recall     (AR) @[ IoU=0.50:0.95 | area= large | maxDets=100 ] = 0.030\n",
      "per class AP:\n",
      "| class    | AP    |\n",
      "|:---------|:------|\n",
      "| airplane | 1.587 |\n",
      "per class AR:\n",
      "| class    | AR    |\n",
      "|:---------|:------|\n",
      "| airplane | 2.825 |\n",
      "\u001b[0m\n",
      "\u001b[32m2025-04-22 06:00:51\u001b[0m | \u001b[1mINFO    \u001b[0m | \u001b[36mmodels.YOLOXNano.pkgs.yolox.core.trainer\u001b[0m:\u001b[36m402\u001b[0m - \u001b[1mSave weights to output/250422_055904/train/250422_055904_yoloxnano_COCO_airplane_Iter_1\u001b[0m\n"
     ]
    },
    {
     "name": "stdout",
     "output_type": "stream",
     "text": [
      "100%|##########| 14/14 [00:00<00:00, 18.93it/s]\n",
      "Using /home/gamejoongsa/.cache/torch_extensions/py310_cu128 as PyTorch extensions root...\n",
      "No modifications detected for re-loaded extension module fast_cocoeval, skipping build step...\n",
      "Loading extension module fast_cocoeval...\n",
      "Running per image evaluation...\n",
      "Evaluate annotation type *bbox*\n",
      "COCOeval_opt.evaluate() finished in 0.01 seconds.\n",
      "Accumulating evaluation results...\n",
      "COCOeval_opt.accumulate() finished in 0.00 seconds.\n"
     ]
    },
    {
     "name": "stderr",
     "output_type": "stream",
     "text": [
      "\u001b[32m2025-04-22 06:00:51\u001b[0m | \u001b[1mINFO    \u001b[0m | \u001b[36mmodels.YOLOXNano.pkgs.yolox.core.trainer\u001b[0m:\u001b[36m218\u001b[0m - \u001b[1m---> start train epoch16\u001b[0m\n",
      "\u001b[32m2025-04-22 06:00:52\u001b[0m | \u001b[1mINFO    \u001b[0m | \u001b[36mmodels.YOLOXNano.pkgs.yolox.core.trainer\u001b[0m:\u001b[36m270\u001b[0m - \u001b[1mepoch: 16/20, iter: 10/42, gpu mem: 4052Mb, mem: 6.1Gb, iter_time: 0.128s, data_time: 0.002s, total_loss: 6.1, iou_loss: 3.0, l1_loss: 0.0, conf_loss: 2.5, cls_loss: 0.6, lr: 3.502e-03, size: 416, ETA: 0:00:26\u001b[0m\n",
      "\u001b[32m2025-04-22 06:00:54\u001b[0m | \u001b[1mINFO    \u001b[0m | \u001b[36mmodels.YOLOXNano.pkgs.yolox.core.trainer\u001b[0m:\u001b[36m270\u001b[0m - \u001b[1mepoch: 16/20, iter: 20/42, gpu mem: 4052Mb, mem: 6.0Gb, iter_time: 0.127s, data_time: 0.002s, total_loss: 5.7, iou_loss: 2.8, l1_loss: 0.0, conf_loss: 2.3, cls_loss: 0.6, lr: 3.421e-03, size: 448, ETA: 0:00:25\u001b[0m\n",
      "\u001b[32m2025-04-22 06:00:55\u001b[0m | \u001b[1mINFO    \u001b[0m | \u001b[36mmodels.YOLOXNano.pkgs.yolox.core.trainer\u001b[0m:\u001b[36m270\u001b[0m - \u001b[1mepoch: 16/20, iter: 30/42, gpu mem: 4052Mb, mem: 6.0Gb, iter_time: 0.120s, data_time: 0.002s, total_loss: 6.8, iou_loss: 3.5, l1_loss: 0.0, conf_loss: 2.5, cls_loss: 0.7, lr: 3.347e-03, size: 352, ETA: 0:00:23\u001b[0m\n",
      "\u001b[32m2025-04-22 06:00:56\u001b[0m | \u001b[1mINFO    \u001b[0m | \u001b[36mmodels.YOLOXNano.pkgs.yolox.core.trainer\u001b[0m:\u001b[36m270\u001b[0m - \u001b[1mepoch: 16/20, iter: 40/42, gpu mem: 4052Mb, mem: 6.1Gb, iter_time: 0.134s, data_time: 0.002s, total_loss: 6.5, iou_loss: 3.1, l1_loss: 0.0, conf_loss: 2.8, cls_loss: 0.7, lr: 3.279e-03, size: 416, ETA: 0:00:22\u001b[0m\n",
      "\u001b[32m2025-04-22 06:00:56\u001b[0m | \u001b[1mINFO    \u001b[0m | \u001b[36mmodels.YOLOXNano.pkgs.yolox.core.trainer\u001b[0m:\u001b[36m402\u001b[0m - \u001b[1mSave weights to output/250422_055904/train/250422_055904_yoloxnano_COCO_airplane_Iter_1\u001b[0m\n",
      "\u001b[32m2025-04-22 06:00:57\u001b[0m | \u001b[1mINFO    \u001b[0m | \u001b[36mmodels.YOLOXNano.pkgs.yolox.core.trainer\u001b[0m:\u001b[36m218\u001b[0m - \u001b[1m---> start train epoch17\u001b[0m\n",
      "\u001b[32m2025-04-22 06:00:58\u001b[0m | \u001b[1mINFO    \u001b[0m | \u001b[36mmodels.YOLOXNano.pkgs.yolox.core.trainer\u001b[0m:\u001b[36m270\u001b[0m - \u001b[1mepoch: 17/20, iter: 10/42, gpu mem: 4052Mb, mem: 6.1Gb, iter_time: 0.138s, data_time: 0.002s, total_loss: 7.9, iou_loss: 3.1, l1_loss: 0.0, conf_loss: 4.1, cls_loss: 0.7, lr: 3.207e-03, size: 512, ETA: 0:00:20\u001b[0m\n",
      "\u001b[32m2025-04-22 06:00:59\u001b[0m | \u001b[1mINFO    \u001b[0m | \u001b[36mmodels.YOLOXNano.pkgs.yolox.core.trainer\u001b[0m:\u001b[36m270\u001b[0m - \u001b[1mepoch: 17/20, iter: 20/42, gpu mem: 4052Mb, mem: 6.0Gb, iter_time: 0.122s, data_time: 0.002s, total_loss: 6.8, iou_loss: 3.1, l1_loss: 0.0, conf_loss: 3.1, cls_loss: 0.6, lr: 3.155e-03, size: 448, ETA: 0:00:19\u001b[0m\n",
      "\u001b[32m2025-04-22 06:01:01\u001b[0m | \u001b[1mINFO    \u001b[0m | \u001b[36mmodels.YOLOXNano.pkgs.yolox.core.trainer\u001b[0m:\u001b[36m270\u001b[0m - \u001b[1mepoch: 17/20, iter: 30/42, gpu mem: 4052Mb, mem: 6.1Gb, iter_time: 0.139s, data_time: 0.002s, total_loss: 6.9, iou_loss: 3.1, l1_loss: 0.0, conf_loss: 3.2, cls_loss: 0.7, lr: 3.111e-03, size: 544, ETA: 0:00:18\u001b[0m\n",
      "\u001b[32m2025-04-22 06:01:02\u001b[0m | \u001b[1mINFO    \u001b[0m | \u001b[36mmodels.YOLOXNano.pkgs.yolox.core.trainer\u001b[0m:\u001b[36m270\u001b[0m - \u001b[1mepoch: 17/20, iter: 40/42, gpu mem: 4052Mb, mem: 6.1Gb, iter_time: 0.126s, data_time: 0.002s, total_loss: 6.3, iou_loss: 2.9, l1_loss: 0.0, conf_loss: 2.8, cls_loss: 0.6, lr: 3.074e-03, size: 640, ETA: 0:00:16\u001b[0m\n",
      "\u001b[32m2025-04-22 06:01:02\u001b[0m | \u001b[1mINFO    \u001b[0m | \u001b[36mmodels.YOLOXNano.pkgs.yolox.core.trainer\u001b[0m:\u001b[36m402\u001b[0m - \u001b[1mSave weights to output/250422_055904/train/250422_055904_yoloxnano_COCO_airplane_Iter_1\u001b[0m\n",
      "\u001b[32m2025-04-22 06:01:02\u001b[0m | \u001b[1mINFO    \u001b[0m | \u001b[36mmodels.YOLOXNano.pkgs.yolox.core.trainer\u001b[0m:\u001b[36m218\u001b[0m - \u001b[1m---> start train epoch18\u001b[0m\n",
      "\u001b[32m2025-04-22 06:01:02\u001b[0m | \u001b[1mINFO    \u001b[0m | \u001b[36mmodels.YOLOXNano.pkgs.yolox.core.trainer\u001b[0m:\u001b[36m221\u001b[0m - \u001b[1m--->No mosaic aug now!\u001b[0m\n",
      "\u001b[32m2025-04-22 06:01:02\u001b[0m | \u001b[1mINFO    \u001b[0m | \u001b[36mmodels.YOLOXNano.pkgs.yolox.core.trainer\u001b[0m:\u001b[36m223\u001b[0m - \u001b[1m--->Add additional L1 loss now!\u001b[0m\n",
      "\u001b[32m2025-04-22 06:01:02\u001b[0m | \u001b[1mINFO    \u001b[0m | \u001b[36mmodels.YOLOXNano.pkgs.yolox.core.trainer\u001b[0m:\u001b[36m402\u001b[0m - \u001b[1mSave weights to output/250422_055904/train/250422_055904_yoloxnano_COCO_airplane_Iter_1\u001b[0m\n",
      "\u001b[32m2025-04-22 06:01:04\u001b[0m | \u001b[1mINFO    \u001b[0m | \u001b[36mmodels.YOLOXNano.pkgs.yolox.core.trainer\u001b[0m:\u001b[36m270\u001b[0m - \u001b[1mepoch: 18/20, iter: 10/42, gpu mem: 4054Mb, mem: 6.1Gb, iter_time: 0.145s, data_time: 0.002s, total_loss: 9.1, iou_loss: 3.1, l1_loss: 2.3, conf_loss: 3.2, cls_loss: 0.7, lr: 3.039e-03, size: 480, ETA: 0:00:15\u001b[0m\n",
      "\u001b[32m2025-04-22 06:01:05\u001b[0m | \u001b[1mINFO    \u001b[0m | \u001b[36mmodels.YOLOXNano.pkgs.yolox.core.trainer\u001b[0m:\u001b[36m270\u001b[0m - \u001b[1mepoch: 18/20, iter: 20/42, gpu mem: 4054Mb, mem: 6.1Gb, iter_time: 0.137s, data_time: 0.002s, total_loss: 6.2, iou_loss: 2.6, l1_loss: 1.0, conf_loss: 1.9, cls_loss: 0.6, lr: 3.018e-03, size: 384, ETA: 0:00:13\u001b[0m\n",
      "\u001b[32m2025-04-22 06:01:06\u001b[0m | \u001b[1mINFO    \u001b[0m | \u001b[36mmodels.YOLOXNano.pkgs.yolox.core.trainer\u001b[0m:\u001b[36m270\u001b[0m - \u001b[1mepoch: 18/20, iter: 30/42, gpu mem: 4054Mb, mem: 6.1Gb, iter_time: 0.131s, data_time: 0.002s, total_loss: 7.6, iou_loss: 3.0, l1_loss: 1.4, conf_loss: 2.5, cls_loss: 0.7, lr: 3.006e-03, size: 480, ETA: 0:00:12\u001b[0m\n",
      "\u001b[32m2025-04-22 06:01:08\u001b[0m | \u001b[1mINFO    \u001b[0m | \u001b[36mmodels.YOLOXNano.pkgs.yolox.core.trainer\u001b[0m:\u001b[36m270\u001b[0m - \u001b[1mepoch: 18/20, iter: 40/42, gpu mem: 4054Mb, mem: 6.0Gb, iter_time: 0.130s, data_time: 0.002s, total_loss: 7.2, iou_loss: 2.7, l1_loss: 1.3, conf_loss: 2.5, cls_loss: 0.6, lr: 3.000e-03, size: 480, ETA: 0:00:11\u001b[0m\n",
      "\u001b[32m2025-04-22 06:01:08\u001b[0m | \u001b[1mINFO    \u001b[0m | \u001b[36mmodels.YOLOXNano.pkgs.yolox.core.trainer\u001b[0m:\u001b[36m402\u001b[0m - \u001b[1mSave weights to output/250422_055904/train/250422_055904_yoloxnano_COCO_airplane_Iter_1\u001b[0m\n"
     ]
    },
    {
     "name": "stdout",
     "output_type": "stream",
     "text": [
      " 36%|###5      | 5/14 [00:00<00:00, 12.85it/s]"
     ]
    },
    {
     "name": "stderr",
     "output_type": "stream",
     "text": [
      "\u001b[32m2025-04-22 06:01:09\u001b[0m | \u001b[1mINFO    \u001b[0m | \u001b[36myolox.evaluators.coco_evaluator\u001b[0m:\u001b[36m259\u001b[0m - \u001b[1mEvaluate in main process...\u001b[0m\n",
      "\u001b[32m2025-04-22 06:01:09\u001b[0m | \u001b[1mINFO    \u001b[0m | \u001b[36myolox.evaluators.coco_evaluator\u001b[0m:\u001b[36m292\u001b[0m - \u001b[1mLoading and preparing results...\u001b[0m\n",
      "\u001b[32m2025-04-22 06:01:09\u001b[0m | \u001b[1mINFO    \u001b[0m | \u001b[36myolox.evaluators.coco_evaluator\u001b[0m:\u001b[36m292\u001b[0m - \u001b[1mDONE (t=0.00s)\u001b[0m\n",
      "\u001b[32m2025-04-22 06:01:09\u001b[0m | \u001b[1mINFO    \u001b[0m | \u001b[36mpycocotools.coco\u001b[0m:\u001b[36m366\u001b[0m - \u001b[1mcreating index...\u001b[0m\n",
      "\u001b[32m2025-04-22 06:01:09\u001b[0m | \u001b[1mINFO    \u001b[0m | \u001b[36mpycocotools.coco\u001b[0m:\u001b[36m366\u001b[0m - \u001b[1mindex created!\u001b[0m\n",
      "\u001b[32m2025-04-22 06:01:09\u001b[0m | \u001b[1mINFO    \u001b[0m | \u001b[36myolox.layers.jit_ops\u001b[0m:\u001b[36m111\u001b[0m - \u001b[1mLoad fast_cocoeval op in 0.003s.\u001b[0m\n"
     ]
    },
    {
     "name": "stdout",
     "output_type": "stream",
     "text": [
      "100%|##########| 14/14 [00:00<00:00, 18.54it/s]\n",
      "Using /home/gamejoongsa/.cache/torch_extensions/py310_cu128 as PyTorch extensions root...\n",
      "No modifications detected for re-loaded extension module fast_cocoeval, skipping build step...\n",
      "Loading extension module fast_cocoeval...\n",
      "Running per image evaluation...\n",
      "Evaluate annotation type *bbox*\n"
     ]
    },
    {
     "name": "stderr",
     "output_type": "stream",
     "text": [
      "\u001b[32m2025-04-22 06:01:09\u001b[0m | \u001b[1mINFO    \u001b[0m | \u001b[36mmodels.YOLOXNano.pkgs.yolox.core.trainer\u001b[0m:\u001b[36m381\u001b[0m - \u001b[1m\n",
      "Average forward time: 0.97 ms, Average NMS time: 0.61 ms, Average inference time: 1.58 ms\n",
      " Average Precision  (AP) @[ IoU=0.50:0.95 | area=   all | maxDets=100 ] = 0.087\n",
      " Average Precision  (AP) @[ IoU=0.50      | area=   all | maxDets=100 ] = 0.309\n",
      " Average Precision  (AP) @[ IoU=0.75      | area=   all | maxDets=100 ] = 0.017\n",
      " Average Precision  (AP) @[ IoU=0.50:0.95 | area= small | maxDets=100 ] = 0.021\n",
      " Average Precision  (AP) @[ IoU=0.50:0.95 | area=medium | maxDets=100 ] = 0.150\n",
      " Average Precision  (AP) @[ IoU=0.50:0.95 | area= large | maxDets=100 ] = 0.084\n",
      " Average Recall     (AR) @[ IoU=0.50:0.95 | area=   all | maxDets=  1 ] = 0.145\n",
      " Average Recall     (AR) @[ IoU=0.50:0.95 | area=   all | maxDets= 10 ] = 0.167\n",
      " Average Recall     (AR) @[ IoU=0.50:0.95 | area=   all | maxDets=100 ] = 0.167\n",
      " Average Recall     (AR) @[ IoU=0.50:0.95 | area= small | maxDets=100 ] = 0.020\n",
      " Average Recall     (AR) @[ IoU=0.50:0.95 | area=medium | maxDets=100 ] = 0.164\n",
      " Average Recall     (AR) @[ IoU=0.50:0.95 | area= large | maxDets=100 ] = 0.171\n",
      "per class AP:\n",
      "| class    | AP    |\n",
      "|:---------|:------|\n",
      "| airplane | 8.717 |\n",
      "per class AR:\n",
      "| class    | AR     |\n",
      "|:---------|:-------|\n",
      "| airplane | 16.682 |\n",
      "\u001b[0m\n",
      "\u001b[32m2025-04-22 06:01:09\u001b[0m | \u001b[1mINFO    \u001b[0m | \u001b[36mmodels.YOLOXNano.pkgs.yolox.core.trainer\u001b[0m:\u001b[36m402\u001b[0m - \u001b[1mSave weights to output/250422_055904/train/250422_055904_yoloxnano_COCO_airplane_Iter_1\u001b[0m\n",
      "\u001b[32m2025-04-22 06:01:09\u001b[0m | \u001b[1mINFO    \u001b[0m | \u001b[36mmodels.YOLOXNano.pkgs.yolox.core.trainer\u001b[0m:\u001b[36m218\u001b[0m - \u001b[1m---> start train epoch19\u001b[0m\n"
     ]
    },
    {
     "name": "stdout",
     "output_type": "stream",
     "text": [
      "COCOeval_opt.evaluate() finished in 0.01 seconds.\n",
      "Accumulating evaluation results...\n",
      "COCOeval_opt.accumulate() finished in 0.00 seconds.\n"
     ]
    },
    {
     "name": "stderr",
     "output_type": "stream",
     "text": [
      "\u001b[32m2025-04-22 06:01:10\u001b[0m | \u001b[1mINFO    \u001b[0m | \u001b[36mmodels.YOLOXNano.pkgs.yolox.core.trainer\u001b[0m:\u001b[36m270\u001b[0m - \u001b[1mepoch: 19/20, iter: 10/42, gpu mem: 4054Mb, mem: 6.1Gb, iter_time: 0.131s, data_time: 0.002s, total_loss: 6.1, iou_loss: 2.7, l1_loss: 1.0, conf_loss: 1.8, cls_loss: 0.6, lr: 3.000e-03, size: 416, ETA: 0:00:09\u001b[0m\n",
      "\u001b[32m2025-04-22 06:01:12\u001b[0m | \u001b[1mINFO    \u001b[0m | \u001b[36mmodels.YOLOXNano.pkgs.yolox.core.trainer\u001b[0m:\u001b[36m270\u001b[0m - \u001b[1mepoch: 19/20, iter: 20/42, gpu mem: 4060Mb, mem: 6.0Gb, iter_time: 0.137s, data_time: 0.002s, total_loss: 7.8, iou_loss: 2.7, l1_loss: 1.4, conf_loss: 3.0, cls_loss: 0.6, lr: 3.000e-03, size: 640, ETA: 0:00:08\u001b[0m\n",
      "\u001b[32m2025-04-22 06:01:13\u001b[0m | \u001b[1mINFO    \u001b[0m | \u001b[36mmodels.YOLOXNano.pkgs.yolox.core.trainer\u001b[0m:\u001b[36m270\u001b[0m - \u001b[1mepoch: 19/20, iter: 30/42, gpu mem: 4060Mb, mem: 6.1Gb, iter_time: 0.137s, data_time: 0.001s, total_loss: 7.9, iou_loss: 3.0, l1_loss: 1.3, conf_loss: 2.9, cls_loss: 0.7, lr: 3.000e-03, size: 448, ETA: 0:00:07\u001b[0m\n",
      "\u001b[32m2025-04-22 06:01:14\u001b[0m | \u001b[1mINFO    \u001b[0m | \u001b[36mmodels.YOLOXNano.pkgs.yolox.core.trainer\u001b[0m:\u001b[36m270\u001b[0m - \u001b[1mepoch: 19/20, iter: 40/42, gpu mem: 4060Mb, mem: 6.0Gb, iter_time: 0.137s, data_time: 0.002s, total_loss: 7.5, iou_loss: 2.7, l1_loss: 1.4, conf_loss: 2.8, cls_loss: 0.6, lr: 3.000e-03, size: 640, ETA: 0:00:05\u001b[0m\n",
      "\u001b[32m2025-04-22 06:01:15\u001b[0m | \u001b[1mINFO    \u001b[0m | \u001b[36mmodels.YOLOXNano.pkgs.yolox.core.trainer\u001b[0m:\u001b[36m402\u001b[0m - \u001b[1mSave weights to output/250422_055904/train/250422_055904_yoloxnano_COCO_airplane_Iter_1\u001b[0m\n"
     ]
    },
    {
     "name": "stdout",
     "output_type": "stream",
     "text": [
      " 36%|###5      | 5/14 [00:00<00:00, 11.94it/s]"
     ]
    },
    {
     "name": "stderr",
     "output_type": "stream",
     "text": [
      "\u001b[32m2025-04-22 06:01:16\u001b[0m | \u001b[1mINFO    \u001b[0m | \u001b[36myolox.evaluators.coco_evaluator\u001b[0m:\u001b[36m259\u001b[0m - \u001b[1mEvaluate in main process...\u001b[0m\n",
      "\u001b[32m2025-04-22 06:01:16\u001b[0m | \u001b[1mINFO    \u001b[0m | \u001b[36myolox.evaluators.coco_evaluator\u001b[0m:\u001b[36m292\u001b[0m - \u001b[1mLoading and preparing results...\u001b[0m\n",
      "\u001b[32m2025-04-22 06:01:16\u001b[0m | \u001b[1mINFO    \u001b[0m | \u001b[36myolox.evaluators.coco_evaluator\u001b[0m:\u001b[36m292\u001b[0m - \u001b[1mDONE (t=0.00s)\u001b[0m\n",
      "\u001b[32m2025-04-22 06:01:16\u001b[0m | \u001b[1mINFO    \u001b[0m | \u001b[36mpycocotools.coco\u001b[0m:\u001b[36m366\u001b[0m - \u001b[1mcreating index...\u001b[0m\n",
      "\u001b[32m2025-04-22 06:01:16\u001b[0m | \u001b[1mINFO    \u001b[0m | \u001b[36mpycocotools.coco\u001b[0m:\u001b[36m366\u001b[0m - \u001b[1mindex created!\u001b[0m\n",
      "\u001b[32m2025-04-22 06:01:16\u001b[0m | \u001b[1mINFO    \u001b[0m | \u001b[36myolox.layers.jit_ops\u001b[0m:\u001b[36m111\u001b[0m - \u001b[1mLoad fast_cocoeval op in 0.002s.\u001b[0m\n",
      "\u001b[32m2025-04-22 06:01:16\u001b[0m | \u001b[1mINFO    \u001b[0m | \u001b[36mmodels.YOLOXNano.pkgs.yolox.core.trainer\u001b[0m:\u001b[36m381\u001b[0m - \u001b[1m\n",
      "Average forward time: 0.84 ms, Average NMS time: 0.42 ms, Average inference time: 1.27 ms\n",
      " Average Precision  (AP) @[ IoU=0.50:0.95 | area=   all | maxDets=100 ] = 0.083\n",
      " Average Precision  (AP) @[ IoU=0.50      | area=   all | maxDets=100 ] = 0.237\n",
      " Average Precision  (AP) @[ IoU=0.75      | area=   all | maxDets=100 ] = 0.042\n",
      " Average Precision  (AP) @[ IoU=0.50:0.95 | area= small | maxDets=100 ] = 0.021\n",
      " Average Precision  (AP) @[ IoU=0.50:0.95 | area=medium | maxDets=100 ] = 0.110\n",
      " Average Precision  (AP) @[ IoU=0.50:0.95 | area= large | maxDets=100 ] = 0.087\n",
      " Average Recall     (AR) @[ IoU=0.50:0.95 | area=   all | maxDets=  1 ] = 0.119\n",
      " Average Recall     (AR) @[ IoU=0.50:0.95 | area=   all | maxDets= 10 ] = 0.125\n",
      " Average Recall     (AR) @[ IoU=0.50:0.95 | area=   all | maxDets=100 ] = 0.125\n",
      " Average Recall     (AR) @[ IoU=0.50:0.95 | area= small | maxDets=100 ] = 0.020\n",
      " Average Recall     (AR) @[ IoU=0.50:0.95 | area=medium | maxDets=100 ] = 0.136\n",
      " Average Recall     (AR) @[ IoU=0.50:0.95 | area= large | maxDets=100 ] = 0.126\n",
      "per class AP:\n",
      "| class    | AP    |\n",
      "|:---------|:------|\n",
      "| airplane | 8.273 |\n",
      "per class AR:\n",
      "| class    | AR     |\n",
      "|:---------|:-------|\n",
      "| airplane | 12.511 |\n",
      "\u001b[0m\n",
      "\u001b[32m2025-04-22 06:01:16\u001b[0m | \u001b[1mINFO    \u001b[0m | \u001b[36mmodels.YOLOXNano.pkgs.yolox.core.trainer\u001b[0m:\u001b[36m402\u001b[0m - \u001b[1mSave weights to output/250422_055904/train/250422_055904_yoloxnano_COCO_airplane_Iter_1\u001b[0m\n"
     ]
    },
    {
     "name": "stdout",
     "output_type": "stream",
     "text": [
      "100%|##########| 14/14 [00:00<00:00, 18.36it/s]\n",
      "Using /home/gamejoongsa/.cache/torch_extensions/py310_cu128 as PyTorch extensions root...\n",
      "No modifications detected for re-loaded extension module fast_cocoeval, skipping build step...\n",
      "Loading extension module fast_cocoeval...\n",
      "Running per image evaluation...\n",
      "Evaluate annotation type *bbox*\n",
      "COCOeval_opt.evaluate() finished in 0.01 seconds.\n",
      "Accumulating evaluation results...\n",
      "COCOeval_opt.accumulate() finished in 0.00 seconds.\n"
     ]
    },
    {
     "name": "stderr",
     "output_type": "stream",
     "text": [
      "\u001b[32m2025-04-22 06:01:16\u001b[0m | \u001b[1mINFO    \u001b[0m | \u001b[36mmodels.YOLOXNano.pkgs.yolox.core.trainer\u001b[0m:\u001b[36m218\u001b[0m - \u001b[1m---> start train epoch20\u001b[0m\n",
      "\u001b[32m2025-04-22 06:01:17\u001b[0m | \u001b[1mINFO    \u001b[0m | \u001b[36mmodels.YOLOXNano.pkgs.yolox.core.trainer\u001b[0m:\u001b[36m270\u001b[0m - \u001b[1mepoch: 20/20, iter: 10/42, gpu mem: 4060Mb, mem: 6.0Gb, iter_time: 0.132s, data_time: 0.001s, total_loss: 8.2, iou_loss: 2.9, l1_loss: 1.4, conf_loss: 3.2, cls_loss: 0.7, lr: 3.000e-03, size: 640, ETA: 0:00:04\u001b[0m\n",
      "\u001b[32m2025-04-22 06:01:18\u001b[0m | \u001b[1mINFO    \u001b[0m | \u001b[36mmodels.YOLOXNano.pkgs.yolox.core.trainer\u001b[0m:\u001b[36m270\u001b[0m - \u001b[1mepoch: 20/20, iter: 20/42, gpu mem: 4060Mb, mem: 6.1Gb, iter_time: 0.130s, data_time: 0.002s, total_loss: 7.0, iou_loss: 3.0, l1_loss: 1.2, conf_loss: 2.1, cls_loss: 0.7, lr: 3.000e-03, size: 352, ETA: 0:00:02\u001b[0m\n",
      "\u001b[32m2025-04-22 06:01:20\u001b[0m | \u001b[1mINFO    \u001b[0m | \u001b[36mmodels.YOLOXNano.pkgs.yolox.core.trainer\u001b[0m:\u001b[36m270\u001b[0m - \u001b[1mepoch: 20/20, iter: 30/42, gpu mem: 4060Mb, mem: 6.1Gb, iter_time: 0.137s, data_time: 0.002s, total_loss: 8.3, iou_loss: 2.8, l1_loss: 1.4, conf_loss: 3.3, cls_loss: 0.7, lr: 3.000e-03, size: 608, ETA: 0:00:01\u001b[0m\n",
      "\u001b[32m2025-04-22 06:01:21\u001b[0m | \u001b[1mINFO    \u001b[0m | \u001b[36mmodels.YOLOXNano.pkgs.yolox.core.trainer\u001b[0m:\u001b[36m270\u001b[0m - \u001b[1mepoch: 20/20, iter: 40/42, gpu mem: 4060Mb, mem: 6.1Gb, iter_time: 0.135s, data_time: 0.001s, total_loss: 7.5, iou_loss: 2.6, l1_loss: 1.5, conf_loss: 2.8, cls_loss: 0.6, lr: 3.000e-03, size: 640, ETA: 0:00:00\u001b[0m\n",
      "\u001b[32m2025-04-22 06:01:21\u001b[0m | \u001b[1mINFO    \u001b[0m | \u001b[36mmodels.YOLOXNano.pkgs.yolox.core.trainer\u001b[0m:\u001b[36m402\u001b[0m - \u001b[1mSave weights to output/250422_055904/train/250422_055904_yoloxnano_COCO_airplane_Iter_1\u001b[0m\n"
     ]
    },
    {
     "name": "stdout",
     "output_type": "stream",
     "text": [
      " 36%|###5      | 5/14 [00:00<00:00, 12.46it/s]"
     ]
    },
    {
     "name": "stderr",
     "output_type": "stream",
     "text": [
      "\u001b[32m2025-04-22 06:01:22\u001b[0m | \u001b[1mINFO    \u001b[0m | \u001b[36myolox.evaluators.coco_evaluator\u001b[0m:\u001b[36m259\u001b[0m - \u001b[1mEvaluate in main process...\u001b[0m\n",
      "\u001b[32m2025-04-22 06:01:22\u001b[0m | \u001b[1mINFO    \u001b[0m | \u001b[36myolox.evaluators.coco_evaluator\u001b[0m:\u001b[36m292\u001b[0m - \u001b[1mLoading and preparing results...\u001b[0m\n",
      "\u001b[32m2025-04-22 06:01:22\u001b[0m | \u001b[1mINFO    \u001b[0m | \u001b[36myolox.evaluators.coco_evaluator\u001b[0m:\u001b[36m292\u001b[0m - \u001b[1mDONE (t=0.00s)\u001b[0m\n",
      "\u001b[32m2025-04-22 06:01:22\u001b[0m | \u001b[1mINFO    \u001b[0m | \u001b[36mpycocotools.coco\u001b[0m:\u001b[36m366\u001b[0m - \u001b[1mcreating index...\u001b[0m\n",
      "\u001b[32m2025-04-22 06:01:22\u001b[0m | \u001b[1mINFO    \u001b[0m | \u001b[36mpycocotools.coco\u001b[0m:\u001b[36m366\u001b[0m - \u001b[1mindex created!\u001b[0m\n",
      "\u001b[32m2025-04-22 06:01:22\u001b[0m | \u001b[1mINFO    \u001b[0m | \u001b[36myolox.layers.jit_ops\u001b[0m:\u001b[36m111\u001b[0m - \u001b[1mLoad fast_cocoeval op in 0.002s.\u001b[0m\n",
      "\u001b[32m2025-04-22 06:01:22\u001b[0m | \u001b[1mINFO    \u001b[0m | \u001b[36mmodels.YOLOXNano.pkgs.yolox.core.trainer\u001b[0m:\u001b[36m381\u001b[0m - \u001b[1m\n",
      "Average forward time: 0.92 ms, Average NMS time: 0.49 ms, Average inference time: 1.42 ms\n",
      " Average Precision  (AP) @[ IoU=0.50:0.95 | area=   all | maxDets=100 ] = 0.062\n",
      " Average Precision  (AP) @[ IoU=0.50      | area=   all | maxDets=100 ] = 0.207\n",
      " Average Precision  (AP) @[ IoU=0.75      | area=   all | maxDets=100 ] = 0.026\n",
      " Average Precision  (AP) @[ IoU=0.50:0.95 | area= small | maxDets=100 ] = 0.000\n",
      " Average Precision  (AP) @[ IoU=0.50:0.95 | area=medium | maxDets=100 ] = 0.068\n",
      " Average Precision  (AP) @[ IoU=0.50:0.95 | area= large | maxDets=100 ] = 0.077\n",
      " Average Recall     (AR) @[ IoU=0.50:0.95 | area=   all | maxDets=  1 ] = 0.102\n",
      " Average Recall     (AR) @[ IoU=0.50:0.95 | area=   all | maxDets= 10 ] = 0.113\n",
      " Average Recall     (AR) @[ IoU=0.50:0.95 | area=   all | maxDets=100 ] = 0.113\n",
      " Average Recall     (AR) @[ IoU=0.50:0.95 | area= small | maxDets=100 ] = 0.000\n",
      " Average Recall     (AR) @[ IoU=0.50:0.95 | area=medium | maxDets=100 ] = 0.144\n",
      " Average Recall     (AR) @[ IoU=0.50:0.95 | area= large | maxDets=100 ] = 0.112\n",
      "per class AP:\n",
      "| class    | AP    |\n",
      "|:---------|:------|\n",
      "| airplane | 6.165 |\n",
      "per class AR:\n",
      "| class    | AR     |\n",
      "|:---------|:-------|\n",
      "| airplane | 11.300 |\n",
      "\u001b[0m\n",
      "\u001b[32m2025-04-22 06:01:22\u001b[0m | \u001b[1mINFO    \u001b[0m | \u001b[36mmodels.YOLOXNano.pkgs.yolox.core.trainer\u001b[0m:\u001b[36m402\u001b[0m - \u001b[1mSave weights to output/250422_055904/train/250422_055904_yoloxnano_COCO_airplane_Iter_1\u001b[0m\n"
     ]
    },
    {
     "name": "stdout",
     "output_type": "stream",
     "text": [
      "100%|##########| 14/14 [00:00<00:00, 18.24it/s]\n",
      "Using /home/gamejoongsa/.cache/torch_extensions/py310_cu128 as PyTorch extensions root...\n",
      "No modifications detected for re-loaded extension module fast_cocoeval, skipping build step...\n",
      "Loading extension module fast_cocoeval...\n",
      "Running per image evaluation...\n",
      "Evaluate annotation type *bbox*\n",
      "COCOeval_opt.evaluate() finished in 0.01 seconds.\n",
      "Accumulating evaluation results...\n",
      "COCOeval_opt.accumulate() finished in 0.00 seconds.\n"
     ]
    },
    {
     "name": "stderr",
     "output_type": "stream",
     "text": [
      "\u001b[32m2025-04-22 06:01:22\u001b[0m | \u001b[1mINFO    \u001b[0m | \u001b[36mmodels.YOLOXNano.pkgs.yolox.core.trainer\u001b[0m:\u001b[36m200\u001b[0m - \u001b[1mTraining of experiment is done and the best AP is 8.72\u001b[0m\n"
     ]
    },
    {
     "name": "stdout",
     "output_type": "stream",
     "text": [
      "YOLOX inference: 100%|##########| 224/224 [00:04<00:00, 47.15it/s]\n",
      "✓ YOLOX 결과 저장 → output/250422_055904/json/250422_055904_submission_YOLOXNano_Iter_1_detection_results.json\n",
      "결과가 output/250422_055904/json/250422_055904_submission_YOLOXNano_Iter_1_detection_results.json에 저장되었습니다.\n"
     ]
    },
    {
     "name": "stdout",
     "output_type": "stream",
     "text": [
      "/tmp/ipykernel_52454/3296525840.py:56: FutureWarning: The behavior of DataFrame concatenation with empty or all-NA entries is deprecated. In a future version, this will no longer exclude empty or all-NA columns when determining the result dtypes. To retain the old behavior, exclude the relevant entries before the concat operation.\n",
      "  results_df = pd.concat([results_df, pd.DataFrame([new_row])], ignore_index=True)\n"
     ]
    }
   ],
   "source": [
    "from competition_utils import *\n",
    "from models.base_config import BaseConfig\n",
    "\n",
    "# 제출 함수를 리스트로 정의 (submission_N_학번)\n",
    "# 깃허브에는 최대 3개 업로드 데모시 하이퍼파라미터 튜닝 후 1개만 제출\n",
    "submission_functions = ['submission_YOLOv8n', 'submission_YOLOv9t', 'submission_YOLOv10n', 'submission_YOLO11n', 'submission_YOLO12n',\n",
    "                        'submission_YOLOXNano', 'submission_FLDetn', 'submission_HyperYOLOt', 'submission_LightweightOB', 'submission_YOGAn'] \n",
    "for submission_function in submission_functions:\n",
    "    exec(f\"from submissions.{submission_function} import {submission_function}\")\n",
    "\n",
    "# 분석 방향에 따라 iteration 수 수정\n",
    "# 평가시에는 데모와 다른 스플릿 시드를 만들어 [1, 10]로 진행 예정\n",
    "iterations = [1, 10] \n",
    "# 'Crown Detection'는 예제 데이터셋, 데모 및 평가시에는 'CV_Competition'\n",
    "Dataset_Name = 'COCO_airplane' \n",
    "\n",
    "# 결과를 모아 하나의 csv 파일에 저장\n",
    "results_df = pd.DataFrame(columns=[\n",
    "    'Experiment Time', 'Iteration', 'Submission Function', \n",
    "    'IoU', 'Dice', 'Precision', 'Recall', 'Output Json Path',\n",
    "])\n",
    "csv_filename = os.path.join(BaseConfig.get_output_dir(), f\"Evaluation_Results_{BaseConfig.get_experiment_time()}.csv\")\n",
    "json_foldername = \"json\"\n",
    "vis_foldername = \"vis\"\n",
    "\n",
    "os.makedirs(os.path.join(BaseConfig.get_output_dir(), json_foldername), exist_ok=True)\n",
    "os.makedirs(os.path.join(BaseConfig.get_output_dir(), vis_foldername), exist_ok=True)\n",
    "\n",
    "# 서로 다른 iteration, submission function으로 실험 진행\n",
    "for iteration in range(iterations[0], iterations[1]+1):\n",
    "    \n",
    "    yaml_path = f'Datasets/{Dataset_Name}/data_iter_{iteration:02d}.yaml'\n",
    "    \n",
    "    for submission_function in submission_functions:\n",
    "        \n",
    "        ex_time = datetime.now().strftime('%y%m%d_%H%M%S')\n",
    "        output_json_path = os.path.join(BaseConfig.get_output_dir(), json_foldername, f\"{ex_time}_{submission_function}_Iter_{iteration}_detection_results.json\")\n",
    "        \n",
    "        globals()[submission_function](yaml_path, output_json_path)\n",
    "        \n",
    "        labels_dir = f\"Datasets/{Dataset_Name}/labels\"  \n",
    "        vis_output_dir = os.path.join(BaseConfig.get_output_dir(), vis_foldername, f\"{ex_time}_visualization_results\")\n",
    "        image_level_result_path =os.path.join(BaseConfig.get_output_dir(), json_foldername, f\"{ex_time}_{submission_function}_Iter_{iteration}_image_level_results.json\")\n",
    "        stats = eval_and_vis(yaml_path, output_json_path, labels_dir, image_level_result_path, vis_output_dir, vis=False) # 분석 방향에 따라 vis=True 설정\n",
    "        new_row = {\n",
    "            'Experiment Time': ex_time,\n",
    "            'Iteration': iteration,\n",
    "            'Submission Function': submission_function,\n",
    "            'IoU': stats['IoU']['avg'],\n",
    "            'Dice': stats['Dice']['avg'],\n",
    "            'Precision': stats['Precision']['avg'],\n",
    "            'Recall': stats['Recall']['avg'],\n",
    "            'Output Json Path': output_json_path,\n",
    "        }\n",
    "        results_df = pd.concat([results_df, pd.DataFrame([new_row])], ignore_index=True)\n",
    "        results_df.to_csv(csv_filename, index=False)"
   ]
  },
  {
   "cell_type": "code",
   "execution_count": null,
   "id": "a42711cc-d6dc-49db-b7cd-d9ebc4a9f596",
   "metadata": {},
   "outputs": [],
   "source": [
    "# 분석 방향에 따라 전체 결과를 모아 평균-표준편차-통계테스트 결과 저장 \n",
    "keep_columns = ['Iteration','Submission Function']\n",
    "keep_measures = ['IoU','Dice','Precision','Recall']  \n",
    "\n",
    "reduction = 'Iteration'\n",
    "row = 'Measure Type'\n",
    "column = 'Submission Function'\n",
    "reference_column = 'submission_YOLOv8n'\n",
    "\n",
    "custom_fmt_template = '{mean_fmt} ± {std_fmt} {significance}'\n",
    "significance_levels = [0.1, 0.05, 0.01]\n",
    "decimal_places = 3\n",
    "transpose = True\n",
    "make_tables(csv_filename, keep_columns, keep_measures, reduction, row, column,  \n",
    "            reference_column, custom_fmt_template, significance_levels, decimal_places, transpose)"
   ]
  },
  {
   "cell_type": "code",
   "execution_count": null,
   "id": "046f0a89-b0b6-4406-9500-24156dabcfc7",
   "metadata": {},
   "outputs": [],
   "source": []
  }
 ],
 "metadata": {
  "kernelspec": {
   "display_name": "CV",
   "language": "python",
   "name": "python3"
  },
  "language_info": {
   "codemirror_mode": {
    "name": "ipython",
    "version": 3
   },
   "file_extension": ".py",
   "mimetype": "text/x-python",
   "name": "python",
   "nbconvert_exporter": "python",
   "pygments_lexer": "ipython3",
   "version": "3.10.16"
  }
 },
 "nbformat": 4,
 "nbformat_minor": 5
}
