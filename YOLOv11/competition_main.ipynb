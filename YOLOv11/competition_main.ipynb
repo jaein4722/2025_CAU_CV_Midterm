{
 "cells": [
  {
   "cell_type": "code",
   "execution_count": null,
   "id": "b9a22a04-1665-4ea8-b1a4-e0172ce1a30a",
   "metadata": {
    "execution": {
     "iopub.execute_input": "2025-04-16T01:40:59.032714Z",
     "iopub.status.busy": "2025-04-16T01:40:59.032633Z",
     "iopub.status.idle": "2025-04-16T01:41:03.382840Z",
     "shell.execute_reply": "2025-04-16T01:41:03.382232Z",
     "shell.execute_reply.started": "2025-04-16T01:40:59.032706Z"
    }
   },
   "outputs": [
    {
     "name": "stdout",
     "output_type": "stream",
     "text": [
      "결과가 250417_034255_detection_results.json에 저장되었습니다.\n"
     ]
    }
   ],
   "source": [
    "from datetime import datetime\n",
    "from submission_YOLOv11 import submission_function\n",
    "\n",
    "ex_time = datetime.now().strftime('%y%m%d_%H%M%S')\n",
    "yaml_path = '../Datasets/airplane/data_iter_01.yaml'\n",
    "output_json_path = f\"{ex_time}_detection_results.json\"\n",
    "\n",
    "submission_function(yaml_path, output_json_path)"
   ]
  },
  {
   "cell_type": "code",
   "execution_count": 2,
   "id": "da19aec7-28c2-439d-8290-63be6de0b09d",
   "metadata": {
    "execution": {
     "iopub.execute_input": "2025-04-16T01:41:03.387481Z",
     "iopub.status.busy": "2025-04-16T01:41:03.387409Z",
     "iopub.status.idle": "2025-04-16T01:41:03.602497Z",
     "shell.execute_reply": "2025-04-16T01:41:03.602101Z",
     "shell.execute_reply.started": "2025-04-16T01:41:03.387474Z"
    }
   },
   "outputs": [
    {
     "name": "stdout",
     "output_type": "stream",
     "text": [
      "이미지별 IoU 결과가 250417_034303_iou_results_per_image.json에 저장되었습니다.\n",
      "평균 IoU: 0.3721\n",
      "표준 편차: 0.3073\n",
      "총 이미지 수: 351\n"
     ]
    }
   ],
   "source": [
    "from competition_utils import eval_and_vis\n",
    "\n",
    "labels_dir = \"../Datasets/airplane/labels\"  # 레이블 디렉토리 경로\n",
    "vis_output_dir = f\"{ex_time}_visualization_results\"  # 시각화 결과 저장 디렉토리\n",
    "\n",
    "avg_iou, std_dev = eval_and_vis(yaml_path, output_json_path, labels_dir, vis_output_dir, vis=False)"
   ]
  },
  {
   "cell_type": "code",
   "execution_count": null,
   "id": "79f6b85a-9ac0-425d-a011-26e12249b712",
   "metadata": {},
   "outputs": [],
   "source": []
  },
  {
   "cell_type": "code",
   "execution_count": null,
   "id": "1a22d1f6-b216-49fa-a94e-55231dce79d9",
   "metadata": {},
   "outputs": [],
   "source": []
  }
 ],
 "metadata": {
  "kernelspec": {
   "display_name": "CV",
   "language": "python",
   "name": "python3"
  },
  "language_info": {
   "codemirror_mode": {
    "name": "ipython",
    "version": 3
   },
   "file_extension": ".py",
   "mimetype": "text/x-python",
   "name": "python",
   "nbconvert_exporter": "python",
   "pygments_lexer": "ipython3",
   "version": "3.10.16"
  }
 },
 "nbformat": 4,
 "nbformat_minor": 5
}
